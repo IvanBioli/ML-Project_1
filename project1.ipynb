{
 "cells": [
  {
   "cell_type": "markdown",
   "source": [
    "# !!! To be converted and automated to run.py !!!"
   ],
   "metadata": {}
  },
  {
   "cell_type": "code",
   "execution_count": 56,
   "source": [
    "# Useful starting lines\r\n",
    "%matplotlib inline\r\n",
    "import numpy as np\r\n",
    "import matplotlib.pyplot as plt\r\n",
    "%load_ext autoreload\r\n",
    "%autoreload 2"
   ],
   "outputs": [
    {
     "output_type": "stream",
     "name": "stdout",
     "text": [
      "The autoreload extension is already loaded. To reload it, use:\n",
      "  %reload_ext autoreload\n"
     ]
    }
   ],
   "metadata": {
    "collapsed": true
   }
  },
  {
   "cell_type": "markdown",
   "source": [
    "## Load the training data into feature matrix, class labels, and event ids:"
   ],
   "metadata": {}
  },
  {
   "cell_type": "code",
   "execution_count": 57,
   "source": [
    "from proj1_helpers import *\r\n",
    "DATA_TRAIN_PATH = 'data/train.csv'\r\n",
    "y, tX, ids = load_csv_data(DATA_TRAIN_PATH)"
   ],
   "outputs": [],
   "metadata": {
    "collapsed": false
   }
  },
  {
   "cell_type": "markdown",
   "source": [
    "## Standardizing tX-data to zero mean and unit variance:"
   ],
   "metadata": {}
  },
  {
   "cell_type": "code",
   "execution_count": 58,
   "source": [
    "def standardize(tX : np.ndarray) -> np.ndarray:\r\n",
    "    \"\"\"\r\n",
    "    Standardizes the columns in x to zero mean and unit variance.\r\n",
    "\r\n",
    "    Parameters\r\n",
    "    ----------\r\n",
    "    tX : np.ndarray\r\n",
    "        Array with the samples as rows and the features as columns.\r\n",
    "\r\n",
    "    Returns\r\n",
    "    -------\r\n",
    "    tX_std : np.ndarray\r\n",
    "        Standardized x with zero feature-means and unit feature-variance.\r\n",
    "    \"\"\"\r\n",
    "\r\n",
    "    tX_std = (tX - np.mean(tX, axis=0)) / np.std(tX, axis=0)\r\n",
    "\r\n",
    "    return tX_std\r\n",
    "\r\n",
    "tX = standardize(tX)"
   ],
   "outputs": [],
   "metadata": {}
  },
  {
   "cell_type": "markdown",
   "source": [
    "## Do your thing crazy machine learning thing here :) ..."
   ],
   "metadata": {}
  },
  {
   "cell_type": "markdown",
   "source": [
    "### Least squares gradient descent"
   ],
   "metadata": {}
  },
  {
   "cell_type": "code",
   "execution_count": 68,
   "source": [
    "from implementations import least_squares_GD\r\n",
    "\r\n",
    "initial_w = np.ones(30, dtype=float)\r\n",
    "weights, loss = least_squares_GD(y, tX, initial_w, max_iters=100, gamma=0.1)"
   ],
   "outputs": [],
   "metadata": {}
  },
  {
   "cell_type": "markdown",
   "source": [
    "### Least squares stochastic gradient descent"
   ],
   "metadata": {}
  },
  {
   "cell_type": "code",
   "execution_count": null,
   "source": [],
   "outputs": [],
   "metadata": {}
  },
  {
   "cell_type": "markdown",
   "source": [
    "## Generate predictions and save ouput in csv format for submission:"
   ],
   "metadata": {}
  },
  {
   "cell_type": "code",
   "execution_count": 67,
   "source": [
    "DATA_TEST_PATH = 'data/test.csv'\r\n",
    "_, tX_test, ids_test = load_csv_data(DATA_TEST_PATH)"
   ],
   "outputs": [],
   "metadata": {
    "collapsed": false
   }
  },
  {
   "cell_type": "code",
   "execution_count": 65,
   "source": [
    "OUTPUT_PATH = 'data/submission.csv'\r\n",
    "y_pred = predict_labels(weights, tX_test)\r\n",
    "create_csv_submission(ids_test, y_pred, OUTPUT_PATH)"
   ],
   "outputs": [],
   "metadata": {
    "collapsed": false
   }
  }
 ],
 "metadata": {
  "anaconda-cloud": {},
  "kernelspec": {
   "name": "python3",
   "display_name": "Python 3.8.8 64-bit ('base': conda)"
  },
  "language_info": {
   "codemirror_mode": {
    "name": "ipython",
    "version": 3
   },
   "file_extension": ".py",
   "mimetype": "text/x-python",
   "name": "python",
   "nbconvert_exporter": "python",
   "pygments_lexer": "ipython3",
   "version": "3.8.8"
  },
  "interpreter": {
   "hash": "fb487646d2ff43bdda56d3757f53914077f9958e378e2f12b27b72e0e80564a5"
  }
 },
 "nbformat": 4,
 "nbformat_minor": 2
}