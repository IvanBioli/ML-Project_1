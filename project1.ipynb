{
 "cells": [
  {
   "cell_type": "markdown",
   "metadata": {},
   "source": [
    "# Project 1 \n",
    "#### by Fabio, Ivan and Olivier"
   ]
  },
  {
   "cell_type": "markdown",
   "metadata": {},
   "source": [
    "## Data Import"
   ]
  },
  {
   "cell_type": "code",
   "execution_count": 1,
   "metadata": {},
   "outputs": [],
   "source": [
    "# Useful starting lines\n",
    "%matplotlib inline\n",
    "import numpy as np\n",
    "import matplotlib.pyplot as plt\n",
    "import time\n",
    "%load_ext autoreload\n",
    "%autoreload 2\n",
    "from proj1_helpers import *\n",
    "from implementations import *\n",
    "\n",
    "# Loading standardizing the training data\n",
    "y, tX, ids = load_csv_data('data/train.csv')\n",
    "tX = standardize(tX)"
   ]
  },
  {
   "cell_type": "code",
   "execution_count": 2,
   "metadata": {},
   "outputs": [],
   "source": [
    "# Choosing a polynomial basis\n",
    "#tX = polynomial_basis(tX, [1, 2], std=True)"
   ]
  },
  {
   "cell_type": "code",
   "execution_count": 3,
   "metadata": {},
   "outputs": [],
   "source": [
    "# Splitting dataset into train and validation sets\n",
    "ratio = 0.8  # Ratio of samples to use in new train set\n",
    "cut_off_point = int(ratio*len(y))\n",
    "np.random.seed(0)  # Fixing a seed for reproducibility\n",
    "rand_ind = np.random.permutation(np.arange(len(y)))\n",
    "y_train, y_valid = y[cut_off_point:], y[:cut_off_point]\n",
    "tX_train, tX_valid = tX[cut_off_point:], tX[:cut_off_point]"
   ]
  },
  {
   "cell_type": "markdown",
   "metadata": {},
   "source": [
    "## Visualizations"
   ]
  },
  {
   "cell_type": "code",
   "execution_count": 4,
   "metadata": {},
   "outputs": [],
   "source": [
    "import pandas as pd\n",
    "import collections\n",
    "import matplotlib.pyplot as plt\n",
    "%matplotlib inline\n",
    "from sklearn.ensemble import ExtraTreesClassifier\n",
    "from sklearn.metrics import confusion_matrix"
   ]
  },
  {
   "cell_type": "code",
   "execution_count": 5,
   "metadata": {},
   "outputs": [
    {
     "name": "stdout",
     "output_type": "stream",
     "text": [
      "(250000,) (250000, 30) (250000,)\n"
     ]
    },
    {
     "data": {
      "text/html": [
       "<div>\n",
       "<style scoped>\n",
       "    .dataframe tbody tr th:only-of-type {\n",
       "        vertical-align: middle;\n",
       "    }\n",
       "\n",
       "    .dataframe tbody tr th {\n",
       "        vertical-align: top;\n",
       "    }\n",
       "\n",
       "    .dataframe thead th {\n",
       "        text-align: right;\n",
       "    }\n",
       "</style>\n",
       "<table border=\"1\" class=\"dataframe\">\n",
       "  <thead>\n",
       "    <tr style=\"text-align: right;\">\n",
       "      <th></th>\n",
       "      <th>Id</th>\n",
       "      <th>Prediction</th>\n",
       "      <th>DER_mass_MMC</th>\n",
       "      <th>DER_mass_transverse_met_lep</th>\n",
       "      <th>DER_mass_vis</th>\n",
       "      <th>DER_pt_h</th>\n",
       "      <th>DER_deltaeta_jet_jet</th>\n",
       "      <th>DER_mass_jet_jet</th>\n",
       "      <th>DER_prodeta_jet_jet</th>\n",
       "      <th>DER_deltar_tau_lep</th>\n",
       "      <th>...</th>\n",
       "      <th>PRI_met_phi</th>\n",
       "      <th>PRI_met_sumet</th>\n",
       "      <th>PRI_jet_num</th>\n",
       "      <th>PRI_jet_leading_pt</th>\n",
       "      <th>PRI_jet_leading_eta</th>\n",
       "      <th>PRI_jet_leading_phi</th>\n",
       "      <th>PRI_jet_subleading_pt</th>\n",
       "      <th>PRI_jet_subleading_eta</th>\n",
       "      <th>PRI_jet_subleading_phi</th>\n",
       "      <th>PRI_jet_all_pt</th>\n",
       "    </tr>\n",
       "  </thead>\n",
       "  <tbody>\n",
       "    <tr>\n",
       "      <th>0</th>\n",
       "      <td>100000</td>\n",
       "      <td>s</td>\n",
       "      <td>138.470</td>\n",
       "      <td>51.655</td>\n",
       "      <td>97.827</td>\n",
       "      <td>27.980</td>\n",
       "      <td>0.91</td>\n",
       "      <td>124.711</td>\n",
       "      <td>2.666</td>\n",
       "      <td>3.064</td>\n",
       "      <td>...</td>\n",
       "      <td>-0.277</td>\n",
       "      <td>258.733</td>\n",
       "      <td>2</td>\n",
       "      <td>67.435</td>\n",
       "      <td>2.150</td>\n",
       "      <td>0.444</td>\n",
       "      <td>46.062</td>\n",
       "      <td>1.24</td>\n",
       "      <td>-2.475</td>\n",
       "      <td>113.497</td>\n",
       "    </tr>\n",
       "    <tr>\n",
       "      <th>1</th>\n",
       "      <td>100001</td>\n",
       "      <td>b</td>\n",
       "      <td>160.937</td>\n",
       "      <td>68.768</td>\n",
       "      <td>103.235</td>\n",
       "      <td>48.146</td>\n",
       "      <td>-999.00</td>\n",
       "      <td>-999.000</td>\n",
       "      <td>-999.000</td>\n",
       "      <td>3.473</td>\n",
       "      <td>...</td>\n",
       "      <td>-1.916</td>\n",
       "      <td>164.546</td>\n",
       "      <td>1</td>\n",
       "      <td>46.226</td>\n",
       "      <td>0.725</td>\n",
       "      <td>1.158</td>\n",
       "      <td>-999.000</td>\n",
       "      <td>-999.00</td>\n",
       "      <td>-999.000</td>\n",
       "      <td>46.226</td>\n",
       "    </tr>\n",
       "    <tr>\n",
       "      <th>2</th>\n",
       "      <td>100002</td>\n",
       "      <td>b</td>\n",
       "      <td>-999.000</td>\n",
       "      <td>162.172</td>\n",
       "      <td>125.953</td>\n",
       "      <td>35.635</td>\n",
       "      <td>-999.00</td>\n",
       "      <td>-999.000</td>\n",
       "      <td>-999.000</td>\n",
       "      <td>3.148</td>\n",
       "      <td>...</td>\n",
       "      <td>-2.186</td>\n",
       "      <td>260.414</td>\n",
       "      <td>1</td>\n",
       "      <td>44.251</td>\n",
       "      <td>2.053</td>\n",
       "      <td>-2.028</td>\n",
       "      <td>-999.000</td>\n",
       "      <td>-999.00</td>\n",
       "      <td>-999.000</td>\n",
       "      <td>44.251</td>\n",
       "    </tr>\n",
       "    <tr>\n",
       "      <th>3</th>\n",
       "      <td>100003</td>\n",
       "      <td>b</td>\n",
       "      <td>143.905</td>\n",
       "      <td>81.417</td>\n",
       "      <td>80.943</td>\n",
       "      <td>0.414</td>\n",
       "      <td>-999.00</td>\n",
       "      <td>-999.000</td>\n",
       "      <td>-999.000</td>\n",
       "      <td>3.310</td>\n",
       "      <td>...</td>\n",
       "      <td>0.060</td>\n",
       "      <td>86.062</td>\n",
       "      <td>0</td>\n",
       "      <td>-999.000</td>\n",
       "      <td>-999.000</td>\n",
       "      <td>-999.000</td>\n",
       "      <td>-999.000</td>\n",
       "      <td>-999.00</td>\n",
       "      <td>-999.000</td>\n",
       "      <td>0.000</td>\n",
       "    </tr>\n",
       "    <tr>\n",
       "      <th>4</th>\n",
       "      <td>100004</td>\n",
       "      <td>b</td>\n",
       "      <td>175.864</td>\n",
       "      <td>16.915</td>\n",
       "      <td>134.805</td>\n",
       "      <td>16.405</td>\n",
       "      <td>-999.00</td>\n",
       "      <td>-999.000</td>\n",
       "      <td>-999.000</td>\n",
       "      <td>3.891</td>\n",
       "      <td>...</td>\n",
       "      <td>-0.871</td>\n",
       "      <td>53.131</td>\n",
       "      <td>0</td>\n",
       "      <td>-999.000</td>\n",
       "      <td>-999.000</td>\n",
       "      <td>-999.000</td>\n",
       "      <td>-999.000</td>\n",
       "      <td>-999.00</td>\n",
       "      <td>-999.000</td>\n",
       "      <td>0.000</td>\n",
       "    </tr>\n",
       "  </tbody>\n",
       "</table>\n",
       "<p>5 rows × 32 columns</p>\n",
       "</div>"
      ],
      "text/plain": [
       "       Id Prediction  DER_mass_MMC  DER_mass_transverse_met_lep  DER_mass_vis  \\\n",
       "0  100000          s       138.470                       51.655        97.827   \n",
       "1  100001          b       160.937                       68.768       103.235   \n",
       "2  100002          b      -999.000                      162.172       125.953   \n",
       "3  100003          b       143.905                       81.417        80.943   \n",
       "4  100004          b       175.864                       16.915       134.805   \n",
       "\n",
       "   DER_pt_h  DER_deltaeta_jet_jet  DER_mass_jet_jet  DER_prodeta_jet_jet  \\\n",
       "0    27.980                  0.91           124.711                2.666   \n",
       "1    48.146               -999.00          -999.000             -999.000   \n",
       "2    35.635               -999.00          -999.000             -999.000   \n",
       "3     0.414               -999.00          -999.000             -999.000   \n",
       "4    16.405               -999.00          -999.000             -999.000   \n",
       "\n",
       "   DER_deltar_tau_lep  ...  PRI_met_phi  PRI_met_sumet  PRI_jet_num  \\\n",
       "0               3.064  ...       -0.277        258.733            2   \n",
       "1               3.473  ...       -1.916        164.546            1   \n",
       "2               3.148  ...       -2.186        260.414            1   \n",
       "3               3.310  ...        0.060         86.062            0   \n",
       "4               3.891  ...       -0.871         53.131            0   \n",
       "\n",
       "   PRI_jet_leading_pt  PRI_jet_leading_eta  PRI_jet_leading_phi  \\\n",
       "0              67.435                2.150                0.444   \n",
       "1              46.226                0.725                1.158   \n",
       "2              44.251                2.053               -2.028   \n",
       "3            -999.000             -999.000             -999.000   \n",
       "4            -999.000             -999.000             -999.000   \n",
       "\n",
       "   PRI_jet_subleading_pt  PRI_jet_subleading_eta  PRI_jet_subleading_phi  \\\n",
       "0                 46.062                    1.24                  -2.475   \n",
       "1               -999.000                 -999.00                -999.000   \n",
       "2               -999.000                 -999.00                -999.000   \n",
       "3               -999.000                 -999.00                -999.000   \n",
       "4               -999.000                 -999.00                -999.000   \n",
       "\n",
       "   PRI_jet_all_pt  \n",
       "0         113.497  \n",
       "1          46.226  \n",
       "2          44.251  \n",
       "3           0.000  \n",
       "4           0.000  \n",
       "\n",
       "[5 rows x 32 columns]"
      ]
     },
     "execution_count": 5,
     "metadata": {},
     "output_type": "execute_result"
    }
   ],
   "source": [
    "print(y.shape, tX.shape, ids.shape)\n",
    "data = pd.read_csv('data/train.csv')\n",
    "data.head(5)"
   ]
  },
  {
   "cell_type": "code",
   "execution_count": 6,
   "metadata": {},
   "outputs": [
    {
     "data": {
      "text/html": [
       "<div>\n",
       "<style scoped>\n",
       "    .dataframe tbody tr th:only-of-type {\n",
       "        vertical-align: middle;\n",
       "    }\n",
       "\n",
       "    .dataframe tbody tr th {\n",
       "        vertical-align: top;\n",
       "    }\n",
       "\n",
       "    .dataframe thead th {\n",
       "        text-align: right;\n",
       "    }\n",
       "</style>\n",
       "<table border=\"1\" class=\"dataframe\">\n",
       "  <thead>\n",
       "    <tr style=\"text-align: right;\">\n",
       "      <th></th>\n",
       "      <th>Id</th>\n",
       "      <th>DER_mass_MMC</th>\n",
       "      <th>DER_mass_transverse_met_lep</th>\n",
       "      <th>DER_mass_vis</th>\n",
       "      <th>DER_pt_h</th>\n",
       "      <th>DER_deltaeta_jet_jet</th>\n",
       "      <th>DER_mass_jet_jet</th>\n",
       "      <th>DER_prodeta_jet_jet</th>\n",
       "      <th>DER_deltar_tau_lep</th>\n",
       "      <th>DER_pt_tot</th>\n",
       "      <th>...</th>\n",
       "      <th>PRI_met_phi</th>\n",
       "      <th>PRI_met_sumet</th>\n",
       "      <th>PRI_jet_num</th>\n",
       "      <th>PRI_jet_leading_pt</th>\n",
       "      <th>PRI_jet_leading_eta</th>\n",
       "      <th>PRI_jet_leading_phi</th>\n",
       "      <th>PRI_jet_subleading_pt</th>\n",
       "      <th>PRI_jet_subleading_eta</th>\n",
       "      <th>PRI_jet_subleading_phi</th>\n",
       "      <th>PRI_jet_all_pt</th>\n",
       "    </tr>\n",
       "  </thead>\n",
       "  <tbody>\n",
       "    <tr>\n",
       "      <th>count</th>\n",
       "      <td>250000.000000</td>\n",
       "      <td>250000.000000</td>\n",
       "      <td>250000.000000</td>\n",
       "      <td>250000.000000</td>\n",
       "      <td>250000.000000</td>\n",
       "      <td>250000.000000</td>\n",
       "      <td>250000.000000</td>\n",
       "      <td>250000.000000</td>\n",
       "      <td>250000.000000</td>\n",
       "      <td>250000.000000</td>\n",
       "      <td>...</td>\n",
       "      <td>250000.000000</td>\n",
       "      <td>250000.000000</td>\n",
       "      <td>250000.000000</td>\n",
       "      <td>250000.000000</td>\n",
       "      <td>250000.000000</td>\n",
       "      <td>250000.000000</td>\n",
       "      <td>250000.000000</td>\n",
       "      <td>250000.000000</td>\n",
       "      <td>250000.000000</td>\n",
       "      <td>250000.000000</td>\n",
       "    </tr>\n",
       "    <tr>\n",
       "      <th>mean</th>\n",
       "      <td>224999.500000</td>\n",
       "      <td>-49.023079</td>\n",
       "      <td>49.239819</td>\n",
       "      <td>81.181982</td>\n",
       "      <td>57.895962</td>\n",
       "      <td>-708.420675</td>\n",
       "      <td>-601.237051</td>\n",
       "      <td>-709.356603</td>\n",
       "      <td>2.373100</td>\n",
       "      <td>18.917332</td>\n",
       "      <td>...</td>\n",
       "      <td>-0.010119</td>\n",
       "      <td>209.797178</td>\n",
       "      <td>0.979176</td>\n",
       "      <td>-348.329567</td>\n",
       "      <td>-399.254314</td>\n",
       "      <td>-399.259788</td>\n",
       "      <td>-692.381204</td>\n",
       "      <td>-709.121609</td>\n",
       "      <td>-709.118631</td>\n",
       "      <td>73.064591</td>\n",
       "    </tr>\n",
       "    <tr>\n",
       "      <th>std</th>\n",
       "      <td>72168.927986</td>\n",
       "      <td>406.345647</td>\n",
       "      <td>35.344886</td>\n",
       "      <td>40.828691</td>\n",
       "      <td>63.655682</td>\n",
       "      <td>454.480565</td>\n",
       "      <td>657.972302</td>\n",
       "      <td>453.019877</td>\n",
       "      <td>0.782911</td>\n",
       "      <td>22.273494</td>\n",
       "      <td>...</td>\n",
       "      <td>1.812223</td>\n",
       "      <td>126.499506</td>\n",
       "      <td>0.977426</td>\n",
       "      <td>532.962789</td>\n",
       "      <td>489.338286</td>\n",
       "      <td>489.333883</td>\n",
       "      <td>479.875496</td>\n",
       "      <td>453.384624</td>\n",
       "      <td>453.389017</td>\n",
       "      <td>98.015662</td>\n",
       "    </tr>\n",
       "    <tr>\n",
       "      <th>min</th>\n",
       "      <td>100000.000000</td>\n",
       "      <td>-999.000000</td>\n",
       "      <td>0.000000</td>\n",
       "      <td>6.329000</td>\n",
       "      <td>0.000000</td>\n",
       "      <td>-999.000000</td>\n",
       "      <td>-999.000000</td>\n",
       "      <td>-999.000000</td>\n",
       "      <td>0.208000</td>\n",
       "      <td>0.000000</td>\n",
       "      <td>...</td>\n",
       "      <td>-3.142000</td>\n",
       "      <td>13.678000</td>\n",
       "      <td>0.000000</td>\n",
       "      <td>-999.000000</td>\n",
       "      <td>-999.000000</td>\n",
       "      <td>-999.000000</td>\n",
       "      <td>-999.000000</td>\n",
       "      <td>-999.000000</td>\n",
       "      <td>-999.000000</td>\n",
       "      <td>0.000000</td>\n",
       "    </tr>\n",
       "    <tr>\n",
       "      <th>25%</th>\n",
       "      <td>162499.750000</td>\n",
       "      <td>78.100750</td>\n",
       "      <td>19.241000</td>\n",
       "      <td>59.388750</td>\n",
       "      <td>14.068750</td>\n",
       "      <td>-999.000000</td>\n",
       "      <td>-999.000000</td>\n",
       "      <td>-999.000000</td>\n",
       "      <td>1.810000</td>\n",
       "      <td>2.841000</td>\n",
       "      <td>...</td>\n",
       "      <td>-1.575000</td>\n",
       "      <td>123.017500</td>\n",
       "      <td>0.000000</td>\n",
       "      <td>-999.000000</td>\n",
       "      <td>-999.000000</td>\n",
       "      <td>-999.000000</td>\n",
       "      <td>-999.000000</td>\n",
       "      <td>-999.000000</td>\n",
       "      <td>-999.000000</td>\n",
       "      <td>0.000000</td>\n",
       "    </tr>\n",
       "    <tr>\n",
       "      <th>50%</th>\n",
       "      <td>224999.500000</td>\n",
       "      <td>105.012000</td>\n",
       "      <td>46.524000</td>\n",
       "      <td>73.752000</td>\n",
       "      <td>38.467500</td>\n",
       "      <td>-999.000000</td>\n",
       "      <td>-999.000000</td>\n",
       "      <td>-999.000000</td>\n",
       "      <td>2.491500</td>\n",
       "      <td>12.315500</td>\n",
       "      <td>...</td>\n",
       "      <td>-0.024000</td>\n",
       "      <td>179.739000</td>\n",
       "      <td>1.000000</td>\n",
       "      <td>38.960000</td>\n",
       "      <td>-1.872000</td>\n",
       "      <td>-2.093000</td>\n",
       "      <td>-999.000000</td>\n",
       "      <td>-999.000000</td>\n",
       "      <td>-999.000000</td>\n",
       "      <td>40.512500</td>\n",
       "    </tr>\n",
       "    <tr>\n",
       "      <th>75%</th>\n",
       "      <td>287499.250000</td>\n",
       "      <td>130.606250</td>\n",
       "      <td>73.598000</td>\n",
       "      <td>92.259000</td>\n",
       "      <td>79.169000</td>\n",
       "      <td>0.490000</td>\n",
       "      <td>83.446000</td>\n",
       "      <td>-4.593000</td>\n",
       "      <td>2.961000</td>\n",
       "      <td>27.591000</td>\n",
       "      <td>...</td>\n",
       "      <td>1.561000</td>\n",
       "      <td>263.379250</td>\n",
       "      <td>2.000000</td>\n",
       "      <td>75.349000</td>\n",
       "      <td>0.433000</td>\n",
       "      <td>0.503000</td>\n",
       "      <td>33.703000</td>\n",
       "      <td>-2.457000</td>\n",
       "      <td>-2.275000</td>\n",
       "      <td>109.933750</td>\n",
       "    </tr>\n",
       "    <tr>\n",
       "      <th>max</th>\n",
       "      <td>349999.000000</td>\n",
       "      <td>1192.026000</td>\n",
       "      <td>690.075000</td>\n",
       "      <td>1349.351000</td>\n",
       "      <td>2834.999000</td>\n",
       "      <td>8.503000</td>\n",
       "      <td>4974.979000</td>\n",
       "      <td>16.690000</td>\n",
       "      <td>5.684000</td>\n",
       "      <td>2834.999000</td>\n",
       "      <td>...</td>\n",
       "      <td>3.142000</td>\n",
       "      <td>2003.976000</td>\n",
       "      <td>3.000000</td>\n",
       "      <td>1120.573000</td>\n",
       "      <td>4.499000</td>\n",
       "      <td>3.141000</td>\n",
       "      <td>721.456000</td>\n",
       "      <td>4.500000</td>\n",
       "      <td>3.142000</td>\n",
       "      <td>1633.433000</td>\n",
       "    </tr>\n",
       "  </tbody>\n",
       "</table>\n",
       "<p>8 rows × 31 columns</p>\n",
       "</div>"
      ],
      "text/plain": [
       "                  Id   DER_mass_MMC  DER_mass_transverse_met_lep  \\\n",
       "count  250000.000000  250000.000000                250000.000000   \n",
       "mean   224999.500000     -49.023079                    49.239819   \n",
       "std     72168.927986     406.345647                    35.344886   \n",
       "min    100000.000000    -999.000000                     0.000000   \n",
       "25%    162499.750000      78.100750                    19.241000   \n",
       "50%    224999.500000     105.012000                    46.524000   \n",
       "75%    287499.250000     130.606250                    73.598000   \n",
       "max    349999.000000    1192.026000                   690.075000   \n",
       "\n",
       "        DER_mass_vis       DER_pt_h  DER_deltaeta_jet_jet  DER_mass_jet_jet  \\\n",
       "count  250000.000000  250000.000000         250000.000000     250000.000000   \n",
       "mean       81.181982      57.895962           -708.420675       -601.237051   \n",
       "std        40.828691      63.655682            454.480565        657.972302   \n",
       "min         6.329000       0.000000           -999.000000       -999.000000   \n",
       "25%        59.388750      14.068750           -999.000000       -999.000000   \n",
       "50%        73.752000      38.467500           -999.000000       -999.000000   \n",
       "75%        92.259000      79.169000              0.490000         83.446000   \n",
       "max      1349.351000    2834.999000              8.503000       4974.979000   \n",
       "\n",
       "       DER_prodeta_jet_jet  DER_deltar_tau_lep     DER_pt_tot  ...  \\\n",
       "count        250000.000000       250000.000000  250000.000000  ...   \n",
       "mean           -709.356603            2.373100      18.917332  ...   \n",
       "std             453.019877            0.782911      22.273494  ...   \n",
       "min            -999.000000            0.208000       0.000000  ...   \n",
       "25%            -999.000000            1.810000       2.841000  ...   \n",
       "50%            -999.000000            2.491500      12.315500  ...   \n",
       "75%              -4.593000            2.961000      27.591000  ...   \n",
       "max              16.690000            5.684000    2834.999000  ...   \n",
       "\n",
       "         PRI_met_phi  PRI_met_sumet    PRI_jet_num  PRI_jet_leading_pt  \\\n",
       "count  250000.000000  250000.000000  250000.000000       250000.000000   \n",
       "mean       -0.010119     209.797178       0.979176         -348.329567   \n",
       "std         1.812223     126.499506       0.977426          532.962789   \n",
       "min        -3.142000      13.678000       0.000000         -999.000000   \n",
       "25%        -1.575000     123.017500       0.000000         -999.000000   \n",
       "50%        -0.024000     179.739000       1.000000           38.960000   \n",
       "75%         1.561000     263.379250       2.000000           75.349000   \n",
       "max         3.142000    2003.976000       3.000000         1120.573000   \n",
       "\n",
       "       PRI_jet_leading_eta  PRI_jet_leading_phi  PRI_jet_subleading_pt  \\\n",
       "count        250000.000000        250000.000000          250000.000000   \n",
       "mean           -399.254314          -399.259788            -692.381204   \n",
       "std             489.338286           489.333883             479.875496   \n",
       "min            -999.000000          -999.000000            -999.000000   \n",
       "25%            -999.000000          -999.000000            -999.000000   \n",
       "50%              -1.872000            -2.093000            -999.000000   \n",
       "75%               0.433000             0.503000              33.703000   \n",
       "max               4.499000             3.141000             721.456000   \n",
       "\n",
       "       PRI_jet_subleading_eta  PRI_jet_subleading_phi  PRI_jet_all_pt  \n",
       "count           250000.000000           250000.000000   250000.000000  \n",
       "mean              -709.121609             -709.118631       73.064591  \n",
       "std                453.384624              453.389017       98.015662  \n",
       "min               -999.000000             -999.000000        0.000000  \n",
       "25%               -999.000000             -999.000000        0.000000  \n",
       "50%               -999.000000             -999.000000       40.512500  \n",
       "75%                 -2.457000               -2.275000      109.933750  \n",
       "max                  4.500000                3.142000     1633.433000  \n",
       "\n",
       "[8 rows x 31 columns]"
      ]
     },
     "execution_count": 6,
     "metadata": {},
     "output_type": "execute_result"
    }
   ],
   "source": [
    "data.describe()"
   ]
  },
  {
   "cell_type": "markdown",
   "metadata": {},
   "source": [
    "### Correlation Matrix"
   ]
  },
  {
   "cell_type": "code",
   "execution_count": 7,
   "metadata": {},
   "outputs": [
    {
     "data": {
      "image/png": "[encoded data removed]",
      "text/plain": [
       "<Figure size 1008x720 with 2 Axes>"
      ]
     },
     "metadata": {
      "needs_background": "light"
     },
     "output_type": "display_data"
    }
   ],
   "source": [
    "f = plt.figure(figsize=(14, 10))\n",
    "plt.matshow(data.corr(), fignum=f.number)\n",
    "plt.xticks(range(data.select_dtypes(['number']).shape[1]), data.select_dtypes(['number']).columns, rotation=90)\n",
    "plt.yticks(range(data.select_dtypes(['number']).shape[1]), data.select_dtypes(['number']).columns)\n",
    "cb = plt.colorbar()"
   ]
  },
  {
   "cell_type": "markdown",
   "metadata": {},
   "source": [
    "### Get the most important features"
   ]
  },
  {
   "cell_type": "code",
   "execution_count": 8,
   "metadata": {},
   "outputs": [
    {
     "name": "stdout",
     "output_type": "stream",
     "text": [
      "[0.09795142 0.07629682 0.06302817 0.03348966 0.01900668 0.01538901\n",
      " 0.01399449 0.05518242 0.03181057 0.0366909  0.04848679 0.06807921\n",
      " 0.02117027 0.05418374 0.03052813 0.02676899 0.03317218 0.0318518\n",
      " 0.02718373 0.04149023 0.02747089 0.02940995 0.01035397 0.01900697\n",
      " 0.0259452  0.01992464 0.00702702 0.00924594 0.00774797 0.01811222]\n"
     ]
    },
    {
     "data": {
      "image/png": "[encoded data removed]",
      "text/plain": [
       "<Figure size 432x288 with 1 Axes>"
      ]
     },
     "metadata": {
      "needs_background": "light"
     },
     "output_type": "display_data"
    }
   ],
   "source": [
    "model = ExtraTreesClassifier()\n",
    "model.fit(tX,y)\n",
    "print(model.feature_importances_)\n",
    "feat_importances = pd.Series(model.feature_importances_)\n",
    "feat_importances.plot(kind='bar')\n",
    "plt.show()"
   ]
  },
  {
   "cell_type": "markdown",
   "metadata": {},
   "source": [
    "Visualize feature correlation"
   ]
  },
  {
   "cell_type": "code",
   "execution_count": 9,
   "metadata": {},
   "outputs": [
    {
     "data": {
      "image/png": "[encoded data removed]",
      "text/plain": [
       "<Figure size 432x288 with 1 Axes>"
      ]
     },
     "metadata": {
      "needs_background": "light"
     },
     "output_type": "display_data"
    }
   ],
   "source": [
    "x = data['DER_mass_vis'] #enter any feature to check for correlation to label.\n",
    "plt.scatter(x, y) \n",
    "plt.plot()\n",
    "plt.show()"
   ]
  },
  {
   "cell_type": "markdown",
   "metadata": {},
   "source": [
    "Visualization of the predictions to show if the data set is balanced. Since we have a slightly unbalanced dataset we will evaluate the performance with the F1-Score which is a more telling method for evaluation."
   ]
  },
  {
   "cell_type": "code",
   "execution_count": 10,
   "metadata": {},
   "outputs": [
    {
     "name": "stdout",
     "output_type": "stream",
     "text": [
      "Ratio: 0.521\n"
     ]
    },
    {
     "data": {
      "image/png": "[encoded data removed]",
      "text/plain": [
       "<Figure size 432x288 with 1 Axes>"
      ]
     },
     "metadata": {
      "needs_background": "light"
     },
     "output_type": "display_data"
    }
   ],
   "source": [
    "count = collections.Counter(y)\n",
    "balance = [count[-1], count[1]]\n",
    "vis = pd.Series(balance, index=range(len(balance)))\n",
    "vis.plot(kind=\"bar\", rot=0)\n",
    "plt.plot()\n",
    "print(\"Ratio:\", round(count[1]/count[-1],3))"
   ]
  },
  {
   "cell_type": "markdown",
   "metadata": {},
   "source": [
    "## Preprocessing"
   ]
  },
  {
   "cell_type": "code",
   "execution_count": 11,
   "metadata": {},
   "outputs": [],
   "source": [
    "#TODO"
   ]
  },
  {
   "cell_type": "markdown",
   "metadata": {},
   "source": [
    "## Scoring functions"
   ]
  },
  {
   "cell_type": "code",
   "execution_count": 12,
   "metadata": {},
   "outputs": [],
   "source": [
    "def f1_score(y_valid, tX_valid, weights):\n",
    "    \"\"\"\n",
    "    Return the F1-score achieved with the predictions of a validation set\n",
    "\n",
    "    Parameters\n",
    "    ----------\n",
    "    y_valid : np.ndarray\n",
    "        Vector with the validation labels.\n",
    "    tX_valid : np.ndarray\n",
    "        Array with the validation samples as rows and the features as columns.\n",
    "    weights : np.ndarray\n",
    "        Vector containing the weights.\n",
    "\n",
    "    Returns\n",
    "    -------\n",
    "    f1 : float\n",
    "        F1-score for this configuration (the closer to 1 the better)\n",
    "\n",
    "    References\n",
    "    ----------\n",
    "    [1] Wikipedia entry for 'Precision and recall'\n",
    "        https://en.wikipedia.org/wiki/Precision_and_recall\n",
    "    [2] Wikipedia entry for 'F-score'\n",
    "        https://en.wikipedia.org/wiki/F-score\n",
    "\n",
    "    \"\"\"\n",
    "\n",
    "    # Number of samples\n",
    "    N = len(y_valid)\n",
    "\n",
    "    # Obtaining the predictions\n",
    "    y_pred = predict_labels(weights, tX_valid)\n",
    "\n",
    "    # Calculating number of true positives, false positives, and false negatives\n",
    "    num_tp = np.sum((y_valid == 1) & (y_pred == 1))\n",
    "    num_fp = np.sum((y_valid == -1) & (y_pred == 1))\n",
    "    num_fn = np.sum((y_valid == 1) & (y_pred == -1))\n",
    "\n",
    "    precision = num_tp / (num_tp + num_fp)\n",
    "    recall = num_tp / (num_tp + num_fn)\n",
    "\n",
    "    f1 = np.round(2 * precision * recall / (precision + recall), 4)\n",
    "\n",
    "    return f1"
   ]
  },
  {
   "cell_type": "code",
   "execution_count": 13,
   "metadata": {},
   "outputs": [],
   "source": [
    "def accuracy(y_valid, tX_valid, weights):\n",
    "    \"\"\"\n",
    "    Return the accuracy achieved with the predictions of a validation set\n",
    "\n",
    "    Parameters\n",
    "    ----------\n",
    "    y_valid : np.ndarray\n",
    "        Vector with the validation labels.\n",
    "    tX_valid : np.ndarray\n",
    "        Array with the validation samples as rows and the features as columns.\n",
    "    weights : np.ndarray\n",
    "        Vector containing the weights.\n",
    "\n",
    "    Returns\n",
    "    -------\n",
    "    acc : float\n",
    "        Accuracy for this configuration (the closer to 1 the better)\n",
    "\n",
    "    References\n",
    "    ----------\n",
    "    [3] Wikipedia entry for 'Accuracy and precision'\n",
    "        https://en.wikipedia.org/wiki/Accuracy_and_precision\n",
    "\n",
    "    \"\"\"\n",
    "\n",
    "    # Number of samples\n",
    "    N = len(y_valid)\n",
    "\n",
    "    # Obtaining the predictions\n",
    "    y_pred = predict_labels(weights, tX_valid)\n",
    "\n",
    "    # Calculating number of true positives and negatives\n",
    "    num_tp_tn = np.sum(y_valid == y_pred)\n",
    "\n",
    "    acc = np.round(num_tp_tn / N, 4)\n",
    "\n",
    "    return acc"
   ]
  },
  {
   "cell_type": "markdown",
   "metadata": {},
   "source": [
    "## Regressors"
   ]
  },
  {
   "cell_type": "markdown",
   "metadata": {},
   "source": [
    "### 1. Least squares gradient descent"
   ]
  },
  {
   "cell_type": "code",
   "execution_count": 14,
   "metadata": {},
   "outputs": [
    {
     "name": "stdout",
     "output_type": "stream",
     "text": [
      "Execution time: 0.1202 sec\n",
      "F1-score achieved with 'least_squares_GD': F1 =  0.6644\n",
      "Accuracy achieved with 'least_squares_GD': accuracy =  0.7162\n"
     ]
    }
   ],
   "source": [
    "# Hyperparameters\n",
    "# TODO: test different values of gamma\n",
    "initial_w = np.ones(tX_train.shape[1], dtype=float)\n",
    "max_iters = 100\n",
    "gamma = 0.1\n",
    "\n",
    "\n",
    "# Fitting\n",
    "start = time.time()\n",
    "weights, loss = least_squares_GD(y_train, tX_train, initial_w, max_iters, gamma)\n",
    "exec_time = round(time.time()-start,4)\n",
    "print('Execution time: {} sec'.format(exec_time))\n",
    "\n",
    "# Scoring\n",
    "f1 = f1_score(y_valid, tX_valid, weights)\n",
    "acc = accuracy(y_valid, tX_valid, weights)\n",
    "print(\"F1-score achieved with 'least_squares_GD': F1 = \", f1)\n",
    "print(\"Accuracy achieved with 'least_squares_GD': accuracy = \", acc)"
   ]
  },
  {
   "cell_type": "markdown",
   "metadata": {},
   "source": [
    " ### 2. Least squares stochastic gradient descent"
   ]
  },
  {
   "cell_type": "code",
   "execution_count": 15,
   "metadata": {},
   "outputs": [
    {
     "name": "stdout",
     "output_type": "stream",
     "text": [
      "Execution time: 0.0127 sec\n",
      "F1-score achieved with 'least_squares_SGD': F1 =  0.4566\n",
      "Accuracy achieved with 'least_squares_SGD': accuracy =  0.6034\n"
     ]
    }
   ],
   "source": [
    "# Hyperparameters\n",
    "# TODO: test different values of gamma\n",
    "initial_w = np.ones(tX_train.shape[1], dtype=float)\n",
    "max_iters = 1000\n",
    "gamma = 0.1\n",
    "\n",
    "# Fitting\n",
    "start = time.time()\n",
    "weights, loss = least_squares_SGD(y_train, tX_train, initial_w, max_iters, gamma)\n",
    "exec_time = round(time.time()-start,4)\n",
    "print('Execution time: {} sec'.format(exec_time))\n",
    "\n",
    "# Scoring\n",
    "f1 = f1_score(y_valid, tX_valid, weights)\n",
    "acc = accuracy(y_valid, tX_valid, weights)\n",
    "print(\"F1-score achieved with 'least_squares_SGD': F1 = \", f1)\n",
    "print(\"Accuracy achieved with 'least_squares_SGD': accuracy = \", acc)"
   ]
  },
  {
   "cell_type": "markdown",
   "metadata": {},
   "source": [
    "### 3. Least squares (normal equation)"
   ]
  },
  {
   "cell_type": "code",
   "execution_count": 16,
   "metadata": {},
   "outputs": [
    {
     "name": "stdout",
     "output_type": "stream",
     "text": [
      "Execution time: 0.0071 sec\n",
      "F1-score achieved with 'least_squares': F1 =  0.6656\n",
      "Accuracy achieved with 'least_squares': accuracy =  0.7186\n"
     ]
    }
   ],
   "source": [
    "# Fitting\n",
    "start = time.time()\n",
    "weights, loss = least_squares(y_train, tX_train)\n",
    "exec_time = round(time.time()-start,4)\n",
    "print('Execution time: {} sec'.format(exec_time))\n",
    "\n",
    "# Scoring\n",
    "f1 = f1_score(y_valid, tX_valid, weights)\n",
    "acc = accuracy(y_valid, tX_valid, weights)\n",
    "print(\"F1-score achieved with 'least_squares': F1 = \", f1)\n",
    "print(\"Accuracy achieved with 'least_squares': accuracy = \", acc)"
   ]
  },
  {
   "cell_type": "markdown",
   "metadata": {},
   "source": [
    "### 4. Ridge regression (for least square normal equation)"
   ]
  },
  {
   "cell_type": "code",
   "execution_count": 17,
   "metadata": {},
   "outputs": [
    {
     "name": "stdout",
     "output_type": "stream",
     "text": [
      "Execution time: 0.0101 sec\n",
      "F1-score achieved with 'ridge_regression': F1 =  0.6649\n",
      "Accuracy achieved with 'ridge_regression': accuracy =  0.718\n"
     ]
    }
   ],
   "source": [
    "# Hyperparameters\n",
    "# TODO: test different values of lambda\n",
    "lambda_ = 0.001\n",
    "\n",
    "# Fitting\n",
    "start = time.time()\n",
    "weights, loss = ridge_regression(y_valid, tX_valid, lambda_)\n",
    "exec_time = round(time.time()-start,4)\n",
    "print('Execution time: {} sec'.format(exec_time))\n",
    "\n",
    "# Scoring\n",
    "f1 = f1_score(y_valid, tX_valid, weights)\n",
    "acc = accuracy(y_valid, tX_valid, weights)\n",
    "print(\"F1-score achieved with 'ridge_regression': F1 = \", f1)\n",
    "print(\"Accuracy achieved with 'ridge_regression': accuracy = \", acc)"
   ]
  },
  {
   "cell_type": "markdown",
   "metadata": {},
   "source": [
    "### 5. Logistic regression"
   ]
  },
  {
   "cell_type": "code",
   "execution_count": 18,
   "metadata": {},
   "outputs": [
    {
     "name": "stdout",
     "output_type": "stream",
     "text": [
      "Execution time: 1.5279 sec\n",
      "F1-score achieved with 'logistic_regression': F1 =  0.4461\n",
      "Accuracy achieved with 'logistic_regression': accuracy =  0.6041\n"
     ]
    }
   ],
   "source": [
    "# Hyperparameters\n",
    "# TODO: test different values of gamma\n",
    "initial_w = np.ones(tX_train.shape[1], dtype=float)\n",
    "max_iters = 100\n",
    "gamma = 0.01\n",
    "\n",
    "# Fitting\n",
    "start = time.time()\n",
    "weights, loss = logistic_regression(y, tX, initial_w, max_iters, gamma)\n",
    "exec_time = round(time.time()-start, 4)\n",
    "print('Execution time: {} sec'.format(exec_time))\n",
    "\n",
    "# Scoring\n",
    "f1 = f1_score(y_valid, tX_valid, weights)\n",
    "acc = accuracy(y_valid, tX_valid, weights)\n",
    "print(\"F1-score achieved with 'logistic_regression': F1 = \", f1)\n",
    "print(\"Accuracy achieved with 'logistic_regression': accuracy = \", acc)"
   ]
  },
  {
   "cell_type": "markdown",
   "metadata": {},
   "source": [
    "### 5: Logistic regression (alternative)"
   ]
  },
  {
   "cell_type": "code",
   "execution_count": 19,
   "metadata": {},
   "outputs": [],
   "source": [
    "def calculate_sigmoid(z):\n",
    "    return 1/(1 + np.exp(-z))"
   ]
  },
  {
   "cell_type": "code",
   "execution_count": 20,
   "metadata": {},
   "outputs": [],
   "source": [
    "def calculate_cost(y, tX, w):\n",
    "    return 1/2 * np.sum((y-calculate_sigmoid(np.dot(tX, w)))**2)"
   ]
  },
  {
   "cell_type": "code",
   "execution_count": 21,
   "metadata": {},
   "outputs": [],
   "source": [
    "def calculate_gradient(y, tX, w):   \n",
    "    return np.dot(y-calculate_sigmoid(np.dot(tX, w)), tX)"
   ]
  },
  {
   "cell_type": "code",
   "execution_count": 22,
   "metadata": {},
   "outputs": [],
   "source": [
    "def logistic_regression_alt(y, tX, initial_w, max_iters=100, gamma=0.01):\n",
    "    w = initial_w\n",
    "    loss = []\n",
    "    for i in range(max_iters):\n",
    "        random =  np.random.randint(0, len(y))\n",
    "        w = w + gamma * calculate_gradient(y[random], tX[random], w)\n",
    "        cost = calculate_cost(y, tX, w)\n",
    "        loss.append(cost)\n",
    "    return w, loss"
   ]
  },
  {
   "cell_type": "code",
   "execution_count": 23,
   "metadata": {},
   "outputs": [
    {
     "name": "stdout",
     "output_type": "stream",
     "text": [
      "Execution time: 0.8497 sec\n",
      "F1-score achieved with 'logistic_regression_alt': F1 =  0.4748\n",
      "Accuracy achieved with 'logistic_regression_alt': accuracy =  0.6057\n"
     ]
    }
   ],
   "source": [
    "# Hyperparameters\n",
    "# TODO: test different values of gamma\n",
    "initial_w = np.ones(tX_train.shape[1], dtype=float)\n",
    "max_iters = 100\n",
    "gamma = 0.01\n",
    "\n",
    "# Fitting\n",
    "start = time.time()\n",
    "weights, loss = logistic_regression_alt(y, tX, initial_w, max_iters, gamma)\n",
    "exec_time = round(time.time()-start, 4)\n",
    "print('Execution time: {} sec'.format(exec_time))\n",
    "\n",
    "# Scoring\n",
    "f1 = f1_score(y_valid, tX_valid, weights)\n",
    "acc = accuracy(y_valid, tX_valid, weights)\n",
    "print(\"F1-score achieved with 'logistic_regression_alt': F1 = \", f1)\n",
    "print(\"Accuracy achieved with 'logistic_regression_alt': accuracy = \", acc)"
   ]
  },
  {
   "cell_type": "markdown",
   "metadata": {},
   "source": [
    "### 6. Regularized logistic regression"
   ]
  },
  {
   "cell_type": "code",
   "execution_count": 24,
   "metadata": {},
   "outputs": [
    {
     "name": "stdout",
     "output_type": "stream",
     "text": [
      "Execution time: 1.4579 sec\n",
      "F1-score achieved with 'reg_logistic_regression': F1 =  0.4418\n",
      "Accuracy achieved with 'reg_logistic_regression': accuracy =  0.6044\n"
     ]
    }
   ],
   "source": [
    "# Hyperparameters\n",
    "# TODO: test different values of gamma and lambda\n",
    "lambda_ = 1\n",
    "initial_w = np.ones(tX_train.shape[1], dtype=float)\n",
    "max_iters = 100\n",
    "gamma = 0.01\n",
    "\n",
    "# Fitting\n",
    "start = time.time()\n",
    "weights, loss = reg_logistic_regression(y, tX, lambda_, initial_w, max_iters, gamma)\n",
    "exec_time = round(time.time()-start,4)\n",
    "print('Execution time: {} sec'.format(exec_time))\n",
    "\n",
    "# Scoring\n",
    "f1 = f1_score(y_valid, tX_valid, weights)\n",
    "acc = accuracy(y_valid, tX_valid, weights)\n",
    "print(\"F1-score achieved with 'reg_logistic_regression': F1 = \", f1)\n",
    "print(\"Accuracy achieved with 'reg_logistic_regression': accuracy = \", acc)"
   ]
  },
  {
   "cell_type": "markdown",
   "metadata": {},
   "source": [
    "## Optimized Regressors"
   ]
  },
  {
   "cell_type": "code",
   "execution_count": 25,
   "metadata": {},
   "outputs": [],
   "source": [
    "def f1_score_predictions(y_valid, y_pred):\n",
    "    \"\"\"\n",
    "    Return the F1-score achieved with the predictions of a validation set\n",
    "    \n",
    "    Parameters\n",
    "    ----------\n",
    "    y_valid : np.ndarray\n",
    "        Vector with the validation labels.\n",
    "    tX_valid : np.ndarray\n",
    "        Array with the validation samples as rows and the features as columns.\n",
    "    y_pred : np.ndarray\n",
    "        Vector containing the predictions.\n",
    "\n",
    "    Returns\n",
    "    -------\n",
    "    f1 : float\n",
    "        F1-score for this configuration (the closer to 1 the better)\n",
    "\n",
    "    References\n",
    "    ----------\n",
    "    [1] Wikipedia entry for the Precision and recall\n",
    "        https://en.wikipedia.org/wiki/Precision_and_recall\n",
    "    [2] Wikipedia entry for F-score\n",
    "        https://en.wikipedia.org/wiki/F-score\n",
    "\n",
    "    \"\"\"\n",
    "\n",
    "    # Calculating number of true positives, false positives, and false negatives\n",
    "    num_tp = np.sum((y_valid == 1) & (y_pred == 1))\n",
    "    num_fp = np.sum((y_valid == -1) & (y_pred == 1))\n",
    "    num_fn = np.sum((y_valid == 1) & (y_pred == -1))\n",
    "\n",
    "    precision = num_tp / (num_tp + num_fp)\n",
    "    recall = num_tp / (num_tp + num_fn)\n",
    "\n",
    "    f1 = np.round(2 * precision * recall / (precision + recall),4)\n",
    "    \n",
    "    return f1"
   ]
  },
  {
   "cell_type": "markdown",
   "metadata": {},
   "source": [
    "### Ensemble learner 1"
   ]
  },
  {
   "cell_type": "code",
   "execution_count": 26,
   "metadata": {},
   "outputs": [],
   "source": [
    "def ensemble_learner1(y, tX, tX_valid, n_learners=10, ratio=0.5):\n",
    "    \"\"\"\n",
    "    Supply 'n_learners' regressors with a random subset of size 'ratio' of the\n",
    "    features. Majority vote for the prediction.\n",
    "    \"\"\"\n",
    "\n",
    "    y_pred_final = np.zeros(len(y_valid))\n",
    "    n_features = tX.shape[1]\n",
    "\n",
    "    for i in range(n_learners):\n",
    "\n",
    "        feature_indices = np.random.choice(np.arange(n_features), int(ratio*n_features))\n",
    "        tX_slice = tX[:, feature_indices]\n",
    "        weights, _ = reg_logistic_regression(y, tX_slice, 1, np.ones(tX_slice.shape[1], dtype=float), 100, 0.01)\n",
    "\n",
    "        tX_valid_slice = tX_valid[:, feature_indices]\n",
    "        y_pred = tX_valid_slice @ weights\n",
    "        y_pred[np.where(y_pred <= 0)] = -1\n",
    "        y_pred[np.where(y_pred > 0)] = 1\n",
    "\n",
    "        y_pred_final += y_pred\n",
    "\n",
    "    y_pred_final[np.where(y_pred_final <= 0)] = -1\n",
    "    y_pred_final[np.where(y_pred_final > 0)] = 1\n",
    "\n",
    "    return y_pred_final"
   ]
  },
  {
   "cell_type": "code",
   "execution_count": 27,
   "metadata": {},
   "outputs": [
    {
     "name": "stdout",
     "output_type": "stream",
     "text": [
      "Execution time: 10.6318 sec\n",
      "F1-score achieved with 'logistic_regression': F1 =  0.4482\n"
     ]
    }
   ],
   "source": [
    "# Fitting\n",
    "start = time.time()\n",
    "y_pred = ensemble_learner1(y, tX, tX_valid, n_learners=10, ratio=0.3)\n",
    "exec_time = round(time.time()-start, 4)\n",
    "print('Execution time: {} sec'.format(exec_time))\n",
    "\n",
    "# Scoring\n",
    "f1 = f1_score_predictions(y_valid, y_pred)\n",
    "print(\"F1-score achieved with 'logistic_regression': F1 = \", f1)"
   ]
  },
  {
   "cell_type": "markdown",
   "metadata": {},
   "source": [
    "### Ensemble learner 2"
   ]
  },
  {
   "cell_type": "code",
   "execution_count": 28,
   "metadata": {},
   "outputs": [],
   "source": [
    "def ensemble_learner2(y, tX, tX_valid, n_learners=10, ratio=0.5):\n",
    "    \"\"\"\n",
    "    Supply 'n_learners' regressors with a random subset of size 'ratio' of the\n",
    "    samples. Majority vote for the prediction.\n",
    "    \"\"\"\n",
    "\n",
    "    y_pred_final = np.zeros(len(y_valid))\n",
    "    n_samples = tX.shape[0]\n",
    "\n",
    "    for i in range(n_learners):\n",
    "\n",
    "        sample_indices = np.random.choice(np.arange(n_samples), int(ratio*n_samples))\n",
    "        tX_slice = tX[sample_indices, :]\n",
    "        y_slice = y[sample_indices]\n",
    "        weights, _ = reg_logistic_regression(y_slice, tX_slice, 1, np.ones(tX_slice.shape[1], dtype=float), 100, 0.01)\n",
    "\n",
    "        y_pred = tX_valid @ weights\n",
    "        y_pred[np.where(y_pred <= 0)] = -1\n",
    "        y_pred[np.where(y_pred > 0)] = 1\n",
    "\n",
    "        y_pred_final += y_pred\n",
    "\n",
    "    y_pred_final[np.where(y_pred_final <= 0)] = -1\n",
    "    y_pred_final[np.where(y_pred_final > 0)] = 1\n",
    "\n",
    "    return y_pred_final"
   ]
  },
  {
   "cell_type": "code",
   "execution_count": 29,
   "metadata": {},
   "outputs": [
    {
     "name": "stdout",
     "output_type": "stream",
     "text": [
      "Execution time: 7.6419 sec\n",
      "F1-score achieved with 'logistic_regression': F1 =  0.4417\n"
     ]
    }
   ],
   "source": [
    "# Fitting\n",
    "start = time.time()\n",
    "y_pred = ensemble_learner2(y, tX, tX_valid, n_learners=100, ratio=0.1)\n",
    "exec_time = round(time.time()-start, 4)\n",
    "print('Execution time: {} sec'.format(exec_time))\n",
    "\n",
    "# Scoring\n",
    "f1 = f1_score_predictions(y_valid, y_pred)\n",
    "print(\"F1-score achieved with 'logistic_regression': F1 = \", f1)"
   ]
  },
  {
   "cell_type": "markdown",
   "metadata": {},
   "source": [
    "### Evaluation"
   ]
  },
  {
   "cell_type": "code",
   "execution_count": 30,
   "metadata": {},
   "outputs": [
    {
     "data": {
      "text/plain": [
       "array([[89563, 41933],\n",
       "       [37196, 31308]], dtype=int64)"
      ]
     },
     "execution_count": 30,
     "metadata": {},
     "output_type": "execute_result"
    }
   ],
   "source": [
    "y_pred = predict_labels(weights, tX_valid)\n",
    "confusion_matrix(y_valid, y_pred)"
   ]
  },
  {
   "cell_type": "markdown",
   "metadata": {},
   "source": [
    "## Lasso subgradient descent regressor"
   ]
  },
  {
   "cell_type": "code",
   "execution_count": 31,
   "metadata": {},
   "outputs": [],
   "source": [
    "def lasso_SD(y, tX, initial_w, max_iters=100, gamma=0.1, lambda_ = 0.1, threshold=None):\n",
    "\n",
    "    # Number of samples\n",
    "    N = len(y)\n",
    "\n",
    "    # Converting 1D arrays to 2D arrays\n",
    "    w = initial_w.reshape((len(initial_w), 1))\n",
    "    y = y.reshape((N, 1))\n",
    "\n",
    "    # Checking if 'tX' is a 1D array, and consequently converting to a 2D array\n",
    "    if len(tX.shape) == 1:\n",
    "\n",
    "        tX = tX.reshape((N, 1))\n",
    "\n",
    "    for iter in range(max_iters):\n",
    "\n",
    "        # Error vector\n",
    "        e = y - np.dot(tX, w)\n",
    "\n",
    "        # Subgradient for the Lasso loss function\n",
    "        subgrad = - np.dot(tX.T, e) / N + lambda_ * np.sign(w)\n",
    "\n",
    "        # Updating weights with negative gradient scaled by 'gamma'\n",
    "        w = w - gamma * subgrad\n",
    "\n",
    "\n",
    "    # Computing loss (MSE) for the weights in the final iteration\n",
    "    loss = np.mean(e**2) / 2\n",
    "\n",
    "    # Converting weights back to 1D arrays\n",
    "    w = w.reshape(len(w))\n",
    "\n",
    "    # Setting to zero all the entries of w under the threshold in absolute value\n",
    "    if (threshold != None):\n",
    "        w[np.absolute(w) < threshold] = 0\n",
    "\n",
    "    return w, loss"
   ]
  },
  {
   "cell_type": "code",
   "execution_count": 32,
   "metadata": {},
   "outputs": [
    {
     "name": "stdout",
     "output_type": "stream",
     "text": [
      "Execution time: 0.2966 sec\n",
      "[8.36764000e-05 9.25633090e-05 3.05069276e-04 5.21845025e-04\n",
      " 7.66605152e-04 8.97498174e-04 1.01743678e-03 1.09395406e-03\n",
      " 1.52633214e-03 4.50869511e-03 6.62534048e-03 6.68757541e-03\n",
      " 1.57746493e-02 1.76235239e-02 1.97265660e-02 3.19082853e-02\n",
      " 3.38195852e-02 3.43614716e-02 5.00802455e-02 6.41135744e-02\n",
      " 7.42650952e-02 1.08954064e-01 1.11093313e-01 1.12195614e-01\n",
      " 1.60458477e-01 1.60614959e-01 1.66836390e-01 1.89871591e-01\n",
      " 2.32807974e-01 2.40535652e-01]\n",
      "F1-score achieved with 'lasso_GD', no threshold: F1 =  0.6618\n",
      "Accuracy achieved with 'lasso_GD', no threshold: accuracy =  0.7131 \n",
      "\n",
      "\n",
      "Execution time: 0.2793 sec\n",
      "[0.         0.         0.         0.         0.         0.\n",
      " 0.         0.         0.         0.         0.         0.\n",
      " 0.         0.         0.         0.         0.         0.\n",
      " 0.05008025 0.06411357 0.0742651  0.10895406 0.11109331 0.11219561\n",
      " 0.16045848 0.16061496 0.16683639 0.18987159 0.23280797 0.24053565]\n",
      "F1-score achieved with 'lasso_GD', no threshold: F1 =  0.6551\n",
      "Accuracy achieved with 'lasso_GD', no threshold: accuracy =  0.7124\n"
     ]
    }
   ],
   "source": [
    "# Hyperparameters\n",
    "# TODO: test different values of gamma and lambda\n",
    "initial_w = np.ones(tX_train.shape[1], dtype=float)\n",
    "max_iters = 500\n",
    "gamma = 0.1\n",
    "lambda_ = 0.01\n",
    "threshold = 0.05\n",
    "\n",
    "# Fitting and scoring WITHOUT threshold\n",
    "start = time.time()\n",
    "weights, loss = lasso_SD(y_train, tX_train, initial_w, max_iters, gamma, lambda_)\n",
    "exec_time = round(time.time()-start,4)\n",
    "print('Execution time: {} sec'.format(exec_time))\n",
    "print(np.sort(abs(weights)))\n",
    "\n",
    "f1 = f1_score(y_valid, tX_valid, weights)\n",
    "acc = accuracy(y_valid, tX_valid, weights)\n",
    "print(\"F1-score achieved with 'lasso_GD', no threshold: F1 = \", f1)\n",
    "print(\"Accuracy achieved with 'lasso_GD', no threshold: accuracy = \", acc, \"\\n\\n\")\n",
    "\n",
    "# Fitting and scoring WITH threshold\n",
    "start = time.time()\n",
    "weights, loss = lasso_SD(y_train, tX_train, initial_w, max_iters, gamma, lambda_, threshold)\n",
    "exec_time = round(time.time()-start,4)\n",
    "print('Execution time: {} sec'.format(exec_time))\n",
    "print(np.sort(abs(weights)))\n",
    "f1 = f1_score(y_valid, tX_valid, weights)\n",
    "acc = accuracy(y_valid, tX_valid, weights)\n",
    "print(\"F1-score achieved with 'lasso_GD', no threshold: F1 = \", f1)\n",
    "print(\"Accuracy achieved with 'lasso_GD', no threshold: accuracy = \", acc)\n",
    "\n"
   ]
  },
  {
   "cell_type": "markdown",
   "metadata": {},
   "source": [
    "## Mean Absolute Error subgradient regressor"
   ]
  },
  {
   "cell_type": "code",
   "execution_count": 33,
   "metadata": {},
   "outputs": [],
   "source": [
    "def absolute_SD(y, tX, initial_w, max_iters=100, gamma=0.1):\n",
    "\n",
    "    # Number of samples\n",
    "    N = len(y)\n",
    "\n",
    "    # Converting 1D arrays to 2D arrays\n",
    "    w = initial_w.reshape((len(initial_w), 1))\n",
    "    y = y.reshape((N, 1))\n",
    "\n",
    "    # Checking if 'tX' is a 1D array, and consequently converting to a 2D array\n",
    "    if len(tX.shape) == 1:\n",
    "\n",
    "        tX = tX.reshape((N, 1))\n",
    "\n",
    "    for iter in range(max_iters):\n",
    "\n",
    "        # Error vector\n",
    "        e = y - np.dot(tX, w)\n",
    "\n",
    "        # Subgradient for the MAE loss function\n",
    "        subgrad = - np.dot(tX.T, np.sign(e)) / N\n",
    "\n",
    "        # Updating weights with negative gradient scaled by 'gamma'\n",
    "        w = w - gamma * subgrad\n",
    "\n",
    "\n",
    "    # Computing loss (MSE) for the weights in the final iteration\n",
    "    loss = np.mean(np.abs(e))\n",
    "\n",
    "    # Converting weights back to 1D arrays\n",
    "    w = w.reshape(len(w))\n",
    "\n",
    "    return w, loss"
   ]
  },
  {
   "cell_type": "code",
   "execution_count": 34,
   "metadata": {},
   "outputs": [
    {
     "name": "stdout",
     "output_type": "stream",
     "text": [
      "Execution time: 0.3668 sec\n",
      "F1-score achieved with 'absolute_SD': F1 =  0.6386\n",
      "Accuracy achieved with 'absolute_GD': accuracy =  0.7008\n"
     ]
    }
   ],
   "source": [
    "# Hyperparameters\n",
    "# TODO: test different values of gamma\n",
    "initial_w = np.ones(tX_train.shape[1], dtype=float)\n",
    "max_iters = 500\n",
    "gamma = 0.1\n",
    "\n",
    "# Fitting\n",
    "start = time.time()\n",
    "weights, loss = absolute_SD(y_train, tX_train, initial_w, max_iters, gamma)\n",
    "exec_time = round(time.time()-start,4)\n",
    "print('Execution time: {} sec'.format(exec_time))\n",
    "\n",
    "# Scoring\n",
    "f1 = f1_score(y_valid, tX_valid, weights)\n",
    "acc = accuracy(y_valid, tX_valid, weights)\n",
    "print(\"F1-score achieved with 'absolute_SD': F1 = \", f1)\n",
    "print(\"Accuracy achieved with 'absolute_GD': accuracy = \", acc)"
   ]
  },
  {
   "cell_type": "markdown",
   "metadata": {},
   "source": [
    "## Generate predictions and save ouput in csv format for submission"
   ]
  },
  {
   "cell_type": "code",
   "execution_count": 35,
   "metadata": {},
   "outputs": [
    {
     "ename": "OSError",
     "evalue": " not found.",
     "output_type": "error",
     "traceback": [
      "\u001b[1;31m---------------------------------------------------------------------------\u001b[0m",
      "\u001b[1;31mOSError\u001b[0m                                   Traceback (most recent call last)",
      "\u001b[1;32m<ipython-input-35-c726fbe1599f>\u001b[0m in \u001b[0;36m<module>\u001b[1;34m\u001b[0m\n\u001b[0;32m      1\u001b[0m \u001b[0mDATA_TEST_PATH\u001b[0m \u001b[1;33m=\u001b[0m \u001b[1;34m''\u001b[0m \u001b[1;31m# TODO: download train data and supply path here\u001b[0m\u001b[1;33m\u001b[0m\u001b[1;33m\u001b[0m\u001b[0m\n\u001b[1;32m----> 2\u001b[1;33m \u001b[0m_\u001b[0m\u001b[1;33m,\u001b[0m \u001b[0mtX_test\u001b[0m\u001b[1;33m,\u001b[0m \u001b[0mids_test\u001b[0m \u001b[1;33m=\u001b[0m \u001b[0mload_csv_data\u001b[0m\u001b[1;33m(\u001b[0m\u001b[0mDATA_TEST_PATH\u001b[0m\u001b[1;33m)\u001b[0m\u001b[1;33m\u001b[0m\u001b[1;33m\u001b[0m\u001b[0m\n\u001b[0m",
      "\u001b[1;32mc:\\Users\\ivanb\\Documents\\GitHub\\ML_project1\\proj1_helpers.py\u001b[0m in \u001b[0;36mload_csv_data\u001b[1;34m(data_path, sub_sample)\u001b[0m\n\u001b[0;32m      7\u001b[0m \u001b[1;32mdef\u001b[0m \u001b[0mload_csv_data\u001b[0m\u001b[1;33m(\u001b[0m\u001b[0mdata_path\u001b[0m\u001b[1;33m,\u001b[0m \u001b[0msub_sample\u001b[0m\u001b[1;33m=\u001b[0m\u001b[1;32mFalse\u001b[0m\u001b[1;33m)\u001b[0m\u001b[1;33m:\u001b[0m\u001b[1;33m\u001b[0m\u001b[1;33m\u001b[0m\u001b[0m\n\u001b[0;32m      8\u001b[0m     \u001b[1;34m\"\"\"Loads data and returns y (class labels), tX (features) and ids (event ids)\"\"\"\u001b[0m\u001b[1;33m\u001b[0m\u001b[1;33m\u001b[0m\u001b[0m\n\u001b[1;32m----> 9\u001b[1;33m     \u001b[0my\u001b[0m \u001b[1;33m=\u001b[0m \u001b[0mnp\u001b[0m\u001b[1;33m.\u001b[0m\u001b[0mgenfromtxt\u001b[0m\u001b[1;33m(\u001b[0m\u001b[0mdata_path\u001b[0m\u001b[1;33m,\u001b[0m \u001b[0mdelimiter\u001b[0m\u001b[1;33m=\u001b[0m\u001b[1;34m\",\"\u001b[0m\u001b[1;33m,\u001b[0m \u001b[0mskip_header\u001b[0m\u001b[1;33m=\u001b[0m\u001b[1;36m1\u001b[0m\u001b[1;33m,\u001b[0m \u001b[0mdtype\u001b[0m\u001b[1;33m=\u001b[0m\u001b[0mstr\u001b[0m\u001b[1;33m,\u001b[0m \u001b[0musecols\u001b[0m\u001b[1;33m=\u001b[0m\u001b[1;36m1\u001b[0m\u001b[1;33m)\u001b[0m\u001b[1;33m\u001b[0m\u001b[1;33m\u001b[0m\u001b[0m\n\u001b[0m\u001b[0;32m     10\u001b[0m     \u001b[0mx\u001b[0m \u001b[1;33m=\u001b[0m \u001b[0mnp\u001b[0m\u001b[1;33m.\u001b[0m\u001b[0mgenfromtxt\u001b[0m\u001b[1;33m(\u001b[0m\u001b[0mdata_path\u001b[0m\u001b[1;33m,\u001b[0m \u001b[0mdelimiter\u001b[0m\u001b[1;33m=\u001b[0m\u001b[1;34m\",\"\u001b[0m\u001b[1;33m,\u001b[0m \u001b[0mskip_header\u001b[0m\u001b[1;33m=\u001b[0m\u001b[1;36m1\u001b[0m\u001b[1;33m)\u001b[0m\u001b[1;33m\u001b[0m\u001b[1;33m\u001b[0m\u001b[0m\n\u001b[0;32m     11\u001b[0m     \u001b[0mids\u001b[0m \u001b[1;33m=\u001b[0m \u001b[0mx\u001b[0m\u001b[1;33m[\u001b[0m\u001b[1;33m:\u001b[0m\u001b[1;33m,\u001b[0m \u001b[1;36m0\u001b[0m\u001b[1;33m]\u001b[0m\u001b[1;33m.\u001b[0m\u001b[0mastype\u001b[0m\u001b[1;33m(\u001b[0m\u001b[0mnp\u001b[0m\u001b[1;33m.\u001b[0m\u001b[0mint\u001b[0m\u001b[1;33m)\u001b[0m\u001b[1;33m\u001b[0m\u001b[1;33m\u001b[0m\u001b[0m\n",
      "\u001b[1;32m~\\anaconda3\\lib\\site-packages\\numpy\\lib\\npyio.py\u001b[0m in \u001b[0;36mgenfromtxt\u001b[1;34m(fname, dtype, comments, delimiter, skip_header, skip_footer, converters, missing_values, filling_values, usecols, names, excludelist, deletechars, replace_space, autostrip, case_sensitive, defaultfmt, unpack, usemask, loose, invalid_raise, max_rows, encoding, like)\u001b[0m\n\u001b[0;32m   1789\u001b[0m             \u001b[0mfname\u001b[0m \u001b[1;33m=\u001b[0m \u001b[0mos_fspath\u001b[0m\u001b[1;33m(\u001b[0m\u001b[0mfname\u001b[0m\u001b[1;33m)\u001b[0m\u001b[1;33m\u001b[0m\u001b[1;33m\u001b[0m\u001b[0m\n\u001b[0;32m   1790\u001b[0m         \u001b[1;32mif\u001b[0m \u001b[0misinstance\u001b[0m\u001b[1;33m(\u001b[0m\u001b[0mfname\u001b[0m\u001b[1;33m,\u001b[0m \u001b[0mstr\u001b[0m\u001b[1;33m)\u001b[0m\u001b[1;33m:\u001b[0m\u001b[1;33m\u001b[0m\u001b[1;33m\u001b[0m\u001b[0m\n\u001b[1;32m-> 1791\u001b[1;33m             \u001b[0mfid\u001b[0m \u001b[1;33m=\u001b[0m \u001b[0mnp\u001b[0m\u001b[1;33m.\u001b[0m\u001b[0mlib\u001b[0m\u001b[1;33m.\u001b[0m\u001b[0m_datasource\u001b[0m\u001b[1;33m.\u001b[0m\u001b[0mopen\u001b[0m\u001b[1;33m(\u001b[0m\u001b[0mfname\u001b[0m\u001b[1;33m,\u001b[0m \u001b[1;34m'rt'\u001b[0m\u001b[1;33m,\u001b[0m \u001b[0mencoding\u001b[0m\u001b[1;33m=\u001b[0m\u001b[0mencoding\u001b[0m\u001b[1;33m)\u001b[0m\u001b[1;33m\u001b[0m\u001b[1;33m\u001b[0m\u001b[0m\n\u001b[0m\u001b[0;32m   1792\u001b[0m             \u001b[0mfid_ctx\u001b[0m \u001b[1;33m=\u001b[0m \u001b[0mcontextlib\u001b[0m\u001b[1;33m.\u001b[0m\u001b[0mclosing\u001b[0m\u001b[1;33m(\u001b[0m\u001b[0mfid\u001b[0m\u001b[1;33m)\u001b[0m\u001b[1;33m\u001b[0m\u001b[1;33m\u001b[0m\u001b[0m\n\u001b[0;32m   1793\u001b[0m         \u001b[1;32melse\u001b[0m\u001b[1;33m:\u001b[0m\u001b[1;33m\u001b[0m\u001b[1;33m\u001b[0m\u001b[0m\n",
      "\u001b[1;32m~\\anaconda3\\lib\\site-packages\\numpy\\lib\\_datasource.py\u001b[0m in \u001b[0;36mopen\u001b[1;34m(path, mode, destpath, encoding, newline)\u001b[0m\n\u001b[0;32m    192\u001b[0m \u001b[1;33m\u001b[0m\u001b[0m\n\u001b[0;32m    193\u001b[0m     \u001b[0mds\u001b[0m \u001b[1;33m=\u001b[0m \u001b[0mDataSource\u001b[0m\u001b[1;33m(\u001b[0m\u001b[0mdestpath\u001b[0m\u001b[1;33m)\u001b[0m\u001b[1;33m\u001b[0m\u001b[1;33m\u001b[0m\u001b[0m\n\u001b[1;32m--> 194\u001b[1;33m     \u001b[1;32mreturn\u001b[0m \u001b[0mds\u001b[0m\u001b[1;33m.\u001b[0m\u001b[0mopen\u001b[0m\u001b[1;33m(\u001b[0m\u001b[0mpath\u001b[0m\u001b[1;33m,\u001b[0m \u001b[0mmode\u001b[0m\u001b[1;33m,\u001b[0m \u001b[0mencoding\u001b[0m\u001b[1;33m=\u001b[0m\u001b[0mencoding\u001b[0m\u001b[1;33m,\u001b[0m \u001b[0mnewline\u001b[0m\u001b[1;33m=\u001b[0m\u001b[0mnewline\u001b[0m\u001b[1;33m)\u001b[0m\u001b[1;33m\u001b[0m\u001b[1;33m\u001b[0m\u001b[0m\n\u001b[0m\u001b[0;32m    195\u001b[0m \u001b[1;33m\u001b[0m\u001b[0m\n\u001b[0;32m    196\u001b[0m \u001b[1;33m\u001b[0m\u001b[0m\n",
      "\u001b[1;32m~\\anaconda3\\lib\\site-packages\\numpy\\lib\\_datasource.py\u001b[0m in \u001b[0;36mopen\u001b[1;34m(self, path, mode, encoding, newline)\u001b[0m\n\u001b[0;32m    529\u001b[0m                                       encoding=encoding, newline=newline)\n\u001b[0;32m    530\u001b[0m         \u001b[1;32melse\u001b[0m\u001b[1;33m:\u001b[0m\u001b[1;33m\u001b[0m\u001b[1;33m\u001b[0m\u001b[0m\n\u001b[1;32m--> 531\u001b[1;33m             \u001b[1;32mraise\u001b[0m \u001b[0mIOError\u001b[0m\u001b[1;33m(\u001b[0m\u001b[1;34m\"%s not found.\"\u001b[0m \u001b[1;33m%\u001b[0m \u001b[0mpath\u001b[0m\u001b[1;33m)\u001b[0m\u001b[1;33m\u001b[0m\u001b[1;33m\u001b[0m\u001b[0m\n\u001b[0m\u001b[0;32m    532\u001b[0m \u001b[1;33m\u001b[0m\u001b[0m\n\u001b[0;32m    533\u001b[0m \u001b[1;33m\u001b[0m\u001b[0m\n",
      "\u001b[1;31mOSError\u001b[0m:  not found."
     ]
    }
   ],
   "source": [
    "DATA_TEST_PATH = '' # TODO: download train data and supply path here \n",
    "_, tX_test, ids_test = load_csv_data(DATA_TEST_PATH)"
   ]
  },
  {
   "cell_type": "code",
   "execution_count": null,
   "metadata": {},
   "outputs": [],
   "source": [
    "OUTPUT_PATH = '' # TODO: fill in desired name of output file for submission\n",
    "y_pred = predict_labels(weights, tX_test)\n",
    "create_csv_submission(ids_test, y_pred, OUTPUT_PATH)"
   ]
  }
 ],
 "metadata": {
  "anaconda-cloud": {},
  "interpreter": {
   "hash": "3b0b34ccdd8de53604efd8adf53a77b01ed12e4d4bc749635618aa3bfa08aa5f"
  },
  "kernelspec": {
   "display_name": "Python 3.8.8 64-bit ('base': conda)",
   "name": "python3"
  },
  "language_info": {
   "codemirror_mode": {
    "name": "ipython",
    "version": 3
   },
   "file_extension": ".py",
   "mimetype": "text/x-python",
   "name": "python",
   "nbconvert_exporter": "python",
   "pygments_lexer": "ipython3",
   "version": "3.8.8"
  }
 },
 "nbformat": 4,
 "nbformat_minor": 2
}
