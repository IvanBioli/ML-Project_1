{
 "cells": [
  {
   "cell_type": "markdown",
   "metadata": {},
   "source": [
    "# Project 1 \n",
    "#### by Fabio, Ivan and Olivier"
   ]
  },
  {
   "cell_type": "markdown",
   "metadata": {},
   "source": [
    "## Data Import"
   ]
  },
  {
   "cell_type": "code",
   "execution_count": 2,
   "metadata": {},
   "outputs": [],
   "source": [
    "# Useful starting lines\n",
    "%matplotlib inline\n",
    "import numpy as np\n",
    "import matplotlib.pyplot as plt\n",
    "import time\n",
    "%load_ext autoreload\n",
    "%autoreload 2\n",
    "from proj1_helpers import *\n",
    "from implementations import *\n",
    "\n",
    "# Loading the training data\n",
    "y, tX, ids = load_csv_data('data/train.csv')"
   ]
  },
  {
   "cell_type": "markdown",
   "metadata": {},
   "source": [
    "## Data Preprocessing"
   ]
  },
  {
   "cell_type": "markdown",
   "metadata": {},
   "source": [
    "### Undefined values visualization"
   ]
  },
  {
   "cell_type": "code",
   "execution_count": 3,
   "metadata": {},
   "outputs": [],
   "source": [
    "# LaTeX Typesetting\n",
    "plt.rcParams.update({\n",
    "    'text.usetex': True,\n",
    "    'text.latex.preamble': r'\\usepackage{eulervm}',\n",
    "    'font.family': 'serif',\n",
    "    'font.serif': 'Palatino',\n",
    "    'font.size': 11,\n",
    "})\n",
    "\n",
    "cm = 1/2.54  # Convert centimeters to inches\n",
    "color_theme = '#2171b5'  # Color definition"
   ]
  },
  {
   "cell_type": "code",
   "execution_count": 11,
   "metadata": {},
   "outputs": [
    {
     "name": "stdout",
     "output_type": "stream",
     "text": [
      "Percentage of inputs with at least one undefined feature:  72.7544\n"
     ]
    },
    {
     "data": {
      "image/png": "[encoded data removed]",
      "text/plain": [
       "<Figure size 269.291x113.386 with 1 Axes>"
      ]
     },
     "metadata": {
      "needs_background": "light"
     },
     "output_type": "display_data"
    }
   ],
   "source": [
    "#Counting the number of undefined values\n",
    "counter = np.sum((tX == -999), axis = 0)\n",
    "\n",
    "#Percentage of undefined values\n",
    "plt.figure(figsize=(9.5*cm, 4*cm))\n",
    "N = tX.shape[0]\n",
    "rel_counter = counter / N * 100\n",
    "plt.bar(np.arange(len(rel_counter)), rel_counter, color=color_theme) \n",
    "plt.xlabel('Feature')\n",
    "plt.ylabel('Percentage')\n",
    "plt.ylim([0, 100])\n",
    "plt.savefig('report/figures/undefined_values.pdf', bbox_inches='tight')\n",
    "\n",
    "\n",
    "#Counting the percentage of inputs with at least one undefined feature \n",
    "counter = np.sum((tX == -999), axis = 1)\n",
    "tot = np.count_nonzero(counter)\n",
    "print(\"Percentage of inputs with at least one undefined feature: \", tot / N * 100)"
   ]
  },
  {
   "cell_type": "markdown",
   "metadata": {},
   "source": [
    "Notes:\n",
    "* Same number of undefined features for some features. This are structurally missing features.\n",
    "* Very high percentage for some particular features."
   ]
  },
  {
   "cell_type": "markdown",
   "metadata": {},
   "source": [
    "### Replacing undefined entries"
   ]
  },
  {
   "cell_type": "code",
   "execution_count": 12,
   "metadata": {},
   "outputs": [],
   "source": [
    "#Replacing undefined entrance:\n",
    "tX_nan = np.where(tX != -999, tX, np.nan)\n",
    "\n",
    "#1. With zero entries\n",
    "tX_zeros = np.where(~np.isnan(tX_nan), tX_nan, 0)\n",
    "\n",
    "#2. With mean\n",
    "mu = np.nanmean(tX_nan, axis = 0)\n",
    "tX_mean = np.where(~np.isnan(tX_nan), tX_nan, mu)\n",
    "\n",
    "#3. With median\n",
    "med = np.nanmedian(tX_nan, axis = 0)\n",
    "tX_median = np.where(~np.isnan(tX_nan), tX_nan, med)\n",
    "\n",
    "#4. Adding a binary variable\n",
    "counter_nan = np.sum((tX == -999), axis = 0) / N\n",
    "undef_ind = np.nonzero(counter_nan)[0]\n",
    "tX_binary = np.hstack((tX, (2*np.isnan(tX_nan[:, undef_ind]) - 1)))\n",
    "\n",
    "#5. Removing features with a percentage of undefined inputs above the threshold\n",
    "threshold = 0.7\n",
    "keep = np.argwhere(counter_nan < threshold).flatten()\n",
    "tX_del = tX[:, keep]\n",
    "\n",
    "# Creating a dictionary\n",
    "tX_sets = {'normal': tX, 'zeros': tX_zeros, 'mean': tX_mean, 'median': tX_median, 'binary': tX_binary, 'deleted': tX_del}"
   ]
  },
  {
   "cell_type": "markdown",
   "metadata": {},
   "source": [
    "## Visualizations"
   ]
  },
  {
   "cell_type": "code",
   "execution_count": 14,
   "metadata": {},
   "outputs": [],
   "source": [
    "import pandas as pd\n",
    "import collections"
   ]
  },
  {
   "cell_type": "code",
   "execution_count": 15,
   "metadata": {},
   "outputs": [
    {
     "name": "stdout",
     "output_type": "stream",
     "text": [
      "(250000,) (250000, 30) (250000,)\n"
     ]
    },
    {
     "data": {
      "text/html": [
       "<div>\n",
       "<style scoped>\n",
       "    .dataframe tbody tr th:only-of-type {\n",
       "        vertical-align: middle;\n",
       "    }\n",
       "\n",
       "    .dataframe tbody tr th {\n",
       "        vertical-align: top;\n",
       "    }\n",
       "\n",
       "    .dataframe thead th {\n",
       "        text-align: right;\n",
       "    }\n",
       "</style>\n",
       "<table border=\"1\" class=\"dataframe\">\n",
       "  <thead>\n",
       "    <tr style=\"text-align: right;\">\n",
       "      <th></th>\n",
       "      <th>Id</th>\n",
       "      <th>Prediction</th>\n",
       "      <th>DER_mass_MMC</th>\n",
       "      <th>DER_mass_transverse_met_lep</th>\n",
       "      <th>DER_mass_vis</th>\n",
       "      <th>DER_pt_h</th>\n",
       "      <th>DER_deltaeta_jet_jet</th>\n",
       "      <th>DER_mass_jet_jet</th>\n",
       "      <th>DER_prodeta_jet_jet</th>\n",
       "      <th>DER_deltar_tau_lep</th>\n",
       "      <th>...</th>\n",
       "      <th>PRI_met_phi</th>\n",
       "      <th>PRI_met_sumet</th>\n",
       "      <th>PRI_jet_num</th>\n",
       "      <th>PRI_jet_leading_pt</th>\n",
       "      <th>PRI_jet_leading_eta</th>\n",
       "      <th>PRI_jet_leading_phi</th>\n",
       "      <th>PRI_jet_subleading_pt</th>\n",
       "      <th>PRI_jet_subleading_eta</th>\n",
       "      <th>PRI_jet_subleading_phi</th>\n",
       "      <th>PRI_jet_all_pt</th>\n",
       "    </tr>\n",
       "  </thead>\n",
       "  <tbody>\n",
       "    <tr>\n",
       "      <th>0</th>\n",
       "      <td>100000</td>\n",
       "      <td>s</td>\n",
       "      <td>138.470</td>\n",
       "      <td>51.655</td>\n",
       "      <td>97.827</td>\n",
       "      <td>27.980</td>\n",
       "      <td>0.91</td>\n",
       "      <td>124.711</td>\n",
       "      <td>2.666</td>\n",
       "      <td>3.064</td>\n",
       "      <td>...</td>\n",
       "      <td>-0.277</td>\n",
       "      <td>258.733</td>\n",
       "      <td>2</td>\n",
       "      <td>67.435</td>\n",
       "      <td>2.150</td>\n",
       "      <td>0.444</td>\n",
       "      <td>46.062</td>\n",
       "      <td>1.24</td>\n",
       "      <td>-2.475</td>\n",
       "      <td>113.497</td>\n",
       "    </tr>\n",
       "    <tr>\n",
       "      <th>1</th>\n",
       "      <td>100001</td>\n",
       "      <td>b</td>\n",
       "      <td>160.937</td>\n",
       "      <td>68.768</td>\n",
       "      <td>103.235</td>\n",
       "      <td>48.146</td>\n",
       "      <td>-999.00</td>\n",
       "      <td>-999.000</td>\n",
       "      <td>-999.000</td>\n",
       "      <td>3.473</td>\n",
       "      <td>...</td>\n",
       "      <td>-1.916</td>\n",
       "      <td>164.546</td>\n",
       "      <td>1</td>\n",
       "      <td>46.226</td>\n",
       "      <td>0.725</td>\n",
       "      <td>1.158</td>\n",
       "      <td>-999.000</td>\n",
       "      <td>-999.00</td>\n",
       "      <td>-999.000</td>\n",
       "      <td>46.226</td>\n",
       "    </tr>\n",
       "    <tr>\n",
       "      <th>2</th>\n",
       "      <td>100002</td>\n",
       "      <td>b</td>\n",
       "      <td>-999.000</td>\n",
       "      <td>162.172</td>\n",
       "      <td>125.953</td>\n",
       "      <td>35.635</td>\n",
       "      <td>-999.00</td>\n",
       "      <td>-999.000</td>\n",
       "      <td>-999.000</td>\n",
       "      <td>3.148</td>\n",
       "      <td>...</td>\n",
       "      <td>-2.186</td>\n",
       "      <td>260.414</td>\n",
       "      <td>1</td>\n",
       "      <td>44.251</td>\n",
       "      <td>2.053</td>\n",
       "      <td>-2.028</td>\n",
       "      <td>-999.000</td>\n",
       "      <td>-999.00</td>\n",
       "      <td>-999.000</td>\n",
       "      <td>44.251</td>\n",
       "    </tr>\n",
       "    <tr>\n",
       "      <th>3</th>\n",
       "      <td>100003</td>\n",
       "      <td>b</td>\n",
       "      <td>143.905</td>\n",
       "      <td>81.417</td>\n",
       "      <td>80.943</td>\n",
       "      <td>0.414</td>\n",
       "      <td>-999.00</td>\n",
       "      <td>-999.000</td>\n",
       "      <td>-999.000</td>\n",
       "      <td>3.310</td>\n",
       "      <td>...</td>\n",
       "      <td>0.060</td>\n",
       "      <td>86.062</td>\n",
       "      <td>0</td>\n",
       "      <td>-999.000</td>\n",
       "      <td>-999.000</td>\n",
       "      <td>-999.000</td>\n",
       "      <td>-999.000</td>\n",
       "      <td>-999.00</td>\n",
       "      <td>-999.000</td>\n",
       "      <td>0.000</td>\n",
       "    </tr>\n",
       "    <tr>\n",
       "      <th>4</th>\n",
       "      <td>100004</td>\n",
       "      <td>b</td>\n",
       "      <td>175.864</td>\n",
       "      <td>16.915</td>\n",
       "      <td>134.805</td>\n",
       "      <td>16.405</td>\n",
       "      <td>-999.00</td>\n",
       "      <td>-999.000</td>\n",
       "      <td>-999.000</td>\n",
       "      <td>3.891</td>\n",
       "      <td>...</td>\n",
       "      <td>-0.871</td>\n",
       "      <td>53.131</td>\n",
       "      <td>0</td>\n",
       "      <td>-999.000</td>\n",
       "      <td>-999.000</td>\n",
       "      <td>-999.000</td>\n",
       "      <td>-999.000</td>\n",
       "      <td>-999.00</td>\n",
       "      <td>-999.000</td>\n",
       "      <td>0.000</td>\n",
       "    </tr>\n",
       "  </tbody>\n",
       "</table>\n",
       "<p>5 rows × 32 columns</p>\n",
       "</div>"
      ],
      "text/plain": [
       "       Id Prediction  DER_mass_MMC  DER_mass_transverse_met_lep  DER_mass_vis  \\\n",
       "0  100000          s       138.470                       51.655        97.827   \n",
       "1  100001          b       160.937                       68.768       103.235   \n",
       "2  100002          b      -999.000                      162.172       125.953   \n",
       "3  100003          b       143.905                       81.417        80.943   \n",
       "4  100004          b       175.864                       16.915       134.805   \n",
       "\n",
       "   DER_pt_h  DER_deltaeta_jet_jet  DER_mass_jet_jet  DER_prodeta_jet_jet  \\\n",
       "0    27.980                  0.91           124.711                2.666   \n",
       "1    48.146               -999.00          -999.000             -999.000   \n",
       "2    35.635               -999.00          -999.000             -999.000   \n",
       "3     0.414               -999.00          -999.000             -999.000   \n",
       "4    16.405               -999.00          -999.000             -999.000   \n",
       "\n",
       "   DER_deltar_tau_lep  ...  PRI_met_phi  PRI_met_sumet  PRI_jet_num  \\\n",
       "0               3.064  ...       -0.277        258.733            2   \n",
       "1               3.473  ...       -1.916        164.546            1   \n",
       "2               3.148  ...       -2.186        260.414            1   \n",
       "3               3.310  ...        0.060         86.062            0   \n",
       "4               3.891  ...       -0.871         53.131            0   \n",
       "\n",
       "   PRI_jet_leading_pt  PRI_jet_leading_eta  PRI_jet_leading_phi  \\\n",
       "0              67.435                2.150                0.444   \n",
       "1              46.226                0.725                1.158   \n",
       "2              44.251                2.053               -2.028   \n",
       "3            -999.000             -999.000             -999.000   \n",
       "4            -999.000             -999.000             -999.000   \n",
       "\n",
       "   PRI_jet_subleading_pt  PRI_jet_subleading_eta  PRI_jet_subleading_phi  \\\n",
       "0                 46.062                    1.24                  -2.475   \n",
       "1               -999.000                 -999.00                -999.000   \n",
       "2               -999.000                 -999.00                -999.000   \n",
       "3               -999.000                 -999.00                -999.000   \n",
       "4               -999.000                 -999.00                -999.000   \n",
       "\n",
       "   PRI_jet_all_pt  \n",
       "0         113.497  \n",
       "1          46.226  \n",
       "2          44.251  \n",
       "3           0.000  \n",
       "4           0.000  \n",
       "\n",
       "[5 rows x 32 columns]"
      ]
     },
     "execution_count": 15,
     "metadata": {},
     "output_type": "execute_result"
    }
   ],
   "source": [
    "print(y.shape, tX.shape, ids.shape)\n",
    "data = pd.read_csv('data/train.csv')\n",
    "data.head(5)"
   ]
  },
  {
   "cell_type": "code",
   "execution_count": 16,
   "metadata": {},
   "outputs": [
    {
     "data": {
      "text/html": [
       "<div>\n",
       "<style scoped>\n",
       "    .dataframe tbody tr th:only-of-type {\n",
       "        vertical-align: middle;\n",
       "    }\n",
       "\n",
       "    .dataframe tbody tr th {\n",
       "        vertical-align: top;\n",
       "    }\n",
       "\n",
       "    .dataframe thead th {\n",
       "        text-align: right;\n",
       "    }\n",
       "</style>\n",
       "<table border=\"1\" class=\"dataframe\">\n",
       "  <thead>\n",
       "    <tr style=\"text-align: right;\">\n",
       "      <th></th>\n",
       "      <th>Id</th>\n",
       "      <th>DER_mass_MMC</th>\n",
       "      <th>DER_mass_transverse_met_lep</th>\n",
       "      <th>DER_mass_vis</th>\n",
       "      <th>DER_pt_h</th>\n",
       "      <th>DER_deltaeta_jet_jet</th>\n",
       "      <th>DER_mass_jet_jet</th>\n",
       "      <th>DER_prodeta_jet_jet</th>\n",
       "      <th>DER_deltar_tau_lep</th>\n",
       "      <th>DER_pt_tot</th>\n",
       "      <th>...</th>\n",
       "      <th>PRI_met_phi</th>\n",
       "      <th>PRI_met_sumet</th>\n",
       "      <th>PRI_jet_num</th>\n",
       "      <th>PRI_jet_leading_pt</th>\n",
       "      <th>PRI_jet_leading_eta</th>\n",
       "      <th>PRI_jet_leading_phi</th>\n",
       "      <th>PRI_jet_subleading_pt</th>\n",
       "      <th>PRI_jet_subleading_eta</th>\n",
       "      <th>PRI_jet_subleading_phi</th>\n",
       "      <th>PRI_jet_all_pt</th>\n",
       "    </tr>\n",
       "  </thead>\n",
       "  <tbody>\n",
       "    <tr>\n",
       "      <th>count</th>\n",
       "      <td>250000.000000</td>\n",
       "      <td>250000.000000</td>\n",
       "      <td>250000.000000</td>\n",
       "      <td>250000.000000</td>\n",
       "      <td>250000.000000</td>\n",
       "      <td>250000.000000</td>\n",
       "      <td>250000.000000</td>\n",
       "      <td>250000.000000</td>\n",
       "      <td>250000.000000</td>\n",
       "      <td>250000.000000</td>\n",
       "      <td>...</td>\n",
       "      <td>250000.000000</td>\n",
       "      <td>250000.000000</td>\n",
       "      <td>250000.000000</td>\n",
       "      <td>250000.000000</td>\n",
       "      <td>250000.000000</td>\n",
       "      <td>250000.000000</td>\n",
       "      <td>250000.000000</td>\n",
       "      <td>250000.000000</td>\n",
       "      <td>250000.000000</td>\n",
       "      <td>250000.000000</td>\n",
       "    </tr>\n",
       "    <tr>\n",
       "      <th>mean</th>\n",
       "      <td>224999.500000</td>\n",
       "      <td>-49.023079</td>\n",
       "      <td>49.239819</td>\n",
       "      <td>81.181982</td>\n",
       "      <td>57.895962</td>\n",
       "      <td>-708.420675</td>\n",
       "      <td>-601.237051</td>\n",
       "      <td>-709.356603</td>\n",
       "      <td>2.373100</td>\n",
       "      <td>18.917332</td>\n",
       "      <td>...</td>\n",
       "      <td>-0.010119</td>\n",
       "      <td>209.797178</td>\n",
       "      <td>0.979176</td>\n",
       "      <td>-348.329567</td>\n",
       "      <td>-399.254314</td>\n",
       "      <td>-399.259788</td>\n",
       "      <td>-692.381204</td>\n",
       "      <td>-709.121609</td>\n",
       "      <td>-709.118631</td>\n",
       "      <td>73.064591</td>\n",
       "    </tr>\n",
       "    <tr>\n",
       "      <th>std</th>\n",
       "      <td>72168.927986</td>\n",
       "      <td>406.345647</td>\n",
       "      <td>35.344886</td>\n",
       "      <td>40.828691</td>\n",
       "      <td>63.655682</td>\n",
       "      <td>454.480565</td>\n",
       "      <td>657.972302</td>\n",
       "      <td>453.019877</td>\n",
       "      <td>0.782911</td>\n",
       "      <td>22.273494</td>\n",
       "      <td>...</td>\n",
       "      <td>1.812223</td>\n",
       "      <td>126.499506</td>\n",
       "      <td>0.977426</td>\n",
       "      <td>532.962789</td>\n",
       "      <td>489.338286</td>\n",
       "      <td>489.333883</td>\n",
       "      <td>479.875496</td>\n",
       "      <td>453.384624</td>\n",
       "      <td>453.389017</td>\n",
       "      <td>98.015662</td>\n",
       "    </tr>\n",
       "    <tr>\n",
       "      <th>min</th>\n",
       "      <td>100000.000000</td>\n",
       "      <td>-999.000000</td>\n",
       "      <td>0.000000</td>\n",
       "      <td>6.329000</td>\n",
       "      <td>0.000000</td>\n",
       "      <td>-999.000000</td>\n",
       "      <td>-999.000000</td>\n",
       "      <td>-999.000000</td>\n",
       "      <td>0.208000</td>\n",
       "      <td>0.000000</td>\n",
       "      <td>...</td>\n",
       "      <td>-3.142000</td>\n",
       "      <td>13.678000</td>\n",
       "      <td>0.000000</td>\n",
       "      <td>-999.000000</td>\n",
       "      <td>-999.000000</td>\n",
       "      <td>-999.000000</td>\n",
       "      <td>-999.000000</td>\n",
       "      <td>-999.000000</td>\n",
       "      <td>-999.000000</td>\n",
       "      <td>0.000000</td>\n",
       "    </tr>\n",
       "    <tr>\n",
       "      <th>25%</th>\n",
       "      <td>162499.750000</td>\n",
       "      <td>78.100750</td>\n",
       "      <td>19.241000</td>\n",
       "      <td>59.388750</td>\n",
       "      <td>14.068750</td>\n",
       "      <td>-999.000000</td>\n",
       "      <td>-999.000000</td>\n",
       "      <td>-999.000000</td>\n",
       "      <td>1.810000</td>\n",
       "      <td>2.841000</td>\n",
       "      <td>...</td>\n",
       "      <td>-1.575000</td>\n",
       "      <td>123.017500</td>\n",
       "      <td>0.000000</td>\n",
       "      <td>-999.000000</td>\n",
       "      <td>-999.000000</td>\n",
       "      <td>-999.000000</td>\n",
       "      <td>-999.000000</td>\n",
       "      <td>-999.000000</td>\n",
       "      <td>-999.000000</td>\n",
       "      <td>0.000000</td>\n",
       "    </tr>\n",
       "    <tr>\n",
       "      <th>50%</th>\n",
       "      <td>224999.500000</td>\n",
       "      <td>105.012000</td>\n",
       "      <td>46.524000</td>\n",
       "      <td>73.752000</td>\n",
       "      <td>38.467500</td>\n",
       "      <td>-999.000000</td>\n",
       "      <td>-999.000000</td>\n",
       "      <td>-999.000000</td>\n",
       "      <td>2.491500</td>\n",
       "      <td>12.315500</td>\n",
       "      <td>...</td>\n",
       "      <td>-0.024000</td>\n",
       "      <td>179.739000</td>\n",
       "      <td>1.000000</td>\n",
       "      <td>38.960000</td>\n",
       "      <td>-1.872000</td>\n",
       "      <td>-2.093000</td>\n",
       "      <td>-999.000000</td>\n",
       "      <td>-999.000000</td>\n",
       "      <td>-999.000000</td>\n",
       "      <td>40.512500</td>\n",
       "    </tr>\n",
       "    <tr>\n",
       "      <th>75%</th>\n",
       "      <td>287499.250000</td>\n",
       "      <td>130.606250</td>\n",
       "      <td>73.598000</td>\n",
       "      <td>92.259000</td>\n",
       "      <td>79.169000</td>\n",
       "      <td>0.490000</td>\n",
       "      <td>83.446000</td>\n",
       "      <td>-4.593000</td>\n",
       "      <td>2.961000</td>\n",
       "      <td>27.591000</td>\n",
       "      <td>...</td>\n",
       "      <td>1.561000</td>\n",
       "      <td>263.379250</td>\n",
       "      <td>2.000000</td>\n",
       "      <td>75.349000</td>\n",
       "      <td>0.433000</td>\n",
       "      <td>0.503000</td>\n",
       "      <td>33.703000</td>\n",
       "      <td>-2.457000</td>\n",
       "      <td>-2.275000</td>\n",
       "      <td>109.933750</td>\n",
       "    </tr>\n",
       "    <tr>\n",
       "      <th>max</th>\n",
       "      <td>349999.000000</td>\n",
       "      <td>1192.026000</td>\n",
       "      <td>690.075000</td>\n",
       "      <td>1349.351000</td>\n",
       "      <td>2834.999000</td>\n",
       "      <td>8.503000</td>\n",
       "      <td>4974.979000</td>\n",
       "      <td>16.690000</td>\n",
       "      <td>5.684000</td>\n",
       "      <td>2834.999000</td>\n",
       "      <td>...</td>\n",
       "      <td>3.142000</td>\n",
       "      <td>2003.976000</td>\n",
       "      <td>3.000000</td>\n",
       "      <td>1120.573000</td>\n",
       "      <td>4.499000</td>\n",
       "      <td>3.141000</td>\n",
       "      <td>721.456000</td>\n",
       "      <td>4.500000</td>\n",
       "      <td>3.142000</td>\n",
       "      <td>1633.433000</td>\n",
       "    </tr>\n",
       "  </tbody>\n",
       "</table>\n",
       "<p>8 rows × 31 columns</p>\n",
       "</div>"
      ],
      "text/plain": [
       "                  Id   DER_mass_MMC  DER_mass_transverse_met_lep  \\\n",
       "count  250000.000000  250000.000000                250000.000000   \n",
       "mean   224999.500000     -49.023079                    49.239819   \n",
       "std     72168.927986     406.345647                    35.344886   \n",
       "min    100000.000000    -999.000000                     0.000000   \n",
       "25%    162499.750000      78.100750                    19.241000   \n",
       "50%    224999.500000     105.012000                    46.524000   \n",
       "75%    287499.250000     130.606250                    73.598000   \n",
       "max    349999.000000    1192.026000                   690.075000   \n",
       "\n",
       "        DER_mass_vis       DER_pt_h  DER_deltaeta_jet_jet  DER_mass_jet_jet  \\\n",
       "count  250000.000000  250000.000000         250000.000000     250000.000000   \n",
       "mean       81.181982      57.895962           -708.420675       -601.237051   \n",
       "std        40.828691      63.655682            454.480565        657.972302   \n",
       "min         6.329000       0.000000           -999.000000       -999.000000   \n",
       "25%        59.388750      14.068750           -999.000000       -999.000000   \n",
       "50%        73.752000      38.467500           -999.000000       -999.000000   \n",
       "75%        92.259000      79.169000              0.490000         83.446000   \n",
       "max      1349.351000    2834.999000              8.503000       4974.979000   \n",
       "\n",
       "       DER_prodeta_jet_jet  DER_deltar_tau_lep     DER_pt_tot  ...  \\\n",
       "count        250000.000000       250000.000000  250000.000000  ...   \n",
       "mean           -709.356603            2.373100      18.917332  ...   \n",
       "std             453.019877            0.782911      22.273494  ...   \n",
       "min            -999.000000            0.208000       0.000000  ...   \n",
       "25%            -999.000000            1.810000       2.841000  ...   \n",
       "50%            -999.000000            2.491500      12.315500  ...   \n",
       "75%              -4.593000            2.961000      27.591000  ...   \n",
       "max              16.690000            5.684000    2834.999000  ...   \n",
       "\n",
       "         PRI_met_phi  PRI_met_sumet    PRI_jet_num  PRI_jet_leading_pt  \\\n",
       "count  250000.000000  250000.000000  250000.000000       250000.000000   \n",
       "mean       -0.010119     209.797178       0.979176         -348.329567   \n",
       "std         1.812223     126.499506       0.977426          532.962789   \n",
       "min        -3.142000      13.678000       0.000000         -999.000000   \n",
       "25%        -1.575000     123.017500       0.000000         -999.000000   \n",
       "50%        -0.024000     179.739000       1.000000           38.960000   \n",
       "75%         1.561000     263.379250       2.000000           75.349000   \n",
       "max         3.142000    2003.976000       3.000000         1120.573000   \n",
       "\n",
       "       PRI_jet_leading_eta  PRI_jet_leading_phi  PRI_jet_subleading_pt  \\\n",
       "count        250000.000000        250000.000000          250000.000000   \n",
       "mean           -399.254314          -399.259788            -692.381204   \n",
       "std             489.338286           489.333883             479.875496   \n",
       "min            -999.000000          -999.000000            -999.000000   \n",
       "25%            -999.000000          -999.000000            -999.000000   \n",
       "50%              -1.872000            -2.093000            -999.000000   \n",
       "75%               0.433000             0.503000              33.703000   \n",
       "max               4.499000             3.141000             721.456000   \n",
       "\n",
       "       PRI_jet_subleading_eta  PRI_jet_subleading_phi  PRI_jet_all_pt  \n",
       "count           250000.000000           250000.000000   250000.000000  \n",
       "mean              -709.121609             -709.118631       73.064591  \n",
       "std                453.384624              453.389017       98.015662  \n",
       "min               -999.000000             -999.000000        0.000000  \n",
       "25%               -999.000000             -999.000000        0.000000  \n",
       "50%               -999.000000             -999.000000       40.512500  \n",
       "75%                 -2.457000               -2.275000      109.933750  \n",
       "max                  4.500000                3.142000     1633.433000  \n",
       "\n",
       "[8 rows x 31 columns]"
      ]
     },
     "execution_count": 16,
     "metadata": {},
     "output_type": "execute_result"
    }
   ],
   "source": [
    "data.describe()"
   ]
  },
  {
   "cell_type": "markdown",
   "metadata": {},
   "source": [
    "Visualize feature correlation"
   ]
  },
  {
   "cell_type": "code",
   "execution_count": 17,
   "metadata": {},
   "outputs": [
    {
     "name": "stdout",
     "output_type": "stream",
     "text": [
      "Ratio: 0.521\n"
     ]
    },
    {
     "data": {
      "image/png": "[encoded data removed]",
      "text/plain": [
       "<Figure size 432x288 with 1 Axes>"
      ]
     },
     "metadata": {
      "needs_background": "light"
     },
     "output_type": "display_data"
    }
   ],
   "source": [
    "count = collections.Counter(y)\n",
    "balance = [count[-1], count[1]]\n",
    "vis = pd.Series(balance, index=range(len(balance)))\n",
    "vis.plot(kind=\"bar\", rot=0, color=color_theme)\n",
    "plt.plot()\n",
    "print(\"Ratio:\", round(count[1]/count[-1],3))"
   ]
  },
  {
   "cell_type": "markdown",
   "metadata": {},
   "source": [
    "## Parameter tuning"
   ]
  },
  {
   "cell_type": "markdown",
   "metadata": {},
   "source": [
    "### Scoring functions"
   ]
  },
  {
   "cell_type": "code",
   "execution_count": 6,
   "metadata": {},
   "outputs": [],
   "source": [
    "def f1_score(y_valid, tX_valid, weights):\n",
    "    \"\"\"\n",
    "    Return the F1-score achieved with the predictions of a validation set\n",
    "\n",
    "    Parameters\n",
    "    ----------\n",
    "    y_valid : np.ndarray\n",
    "        Vector with the validation labels.\n",
    "    tX_valid : np.ndarray\n",
    "        Array with the validation samples as rows and the features as columns.\n",
    "    weights : np.ndarray\n",
    "        Vector containing the weights.\n",
    "\n",
    "    Returns\n",
    "    -------\n",
    "    f1 : float\n",
    "        F1-score for this configuration (the closer to 1 the better)\n",
    "\n",
    "    References\n",
    "    ----------\n",
    "    [1] Wikipedia entry for 'Precision and recall'\n",
    "        https://en.wikipedia.org/wiki/Precision_and_recall\n",
    "    [2] Wikipedia entry for 'F-score'\n",
    "        https://en.wikipedia.org/wiki/F-score\n",
    "\n",
    "    \"\"\"\n",
    "\n",
    "    y_pred = predict_labels(weights, tX_valid) # Obtaining the predictions\n",
    "\n",
    "    # Calculating number of true positives, false positives, and false negatives\n",
    "    num_tp = np.sum((y_valid == 1) & (y_pred == 1))\n",
    "    num_fp = np.sum((y_valid == -1) & (y_pred == 1))\n",
    "    num_fn = np.sum((y_valid == 1) & (y_pred == -1))\n",
    "    precision = num_tp / (num_tp + num_fp)\n",
    "    recall = num_tp / (num_tp + num_fn)\n",
    "    f1 = np.round(2 * precision * recall / (precision + recall), 4)\n",
    "    return f1"
   ]
  },
  {
   "cell_type": "code",
   "execution_count": 7,
   "metadata": {},
   "outputs": [],
   "source": [
    "def accuracy(y_valid, tX_valid, weights):\n",
    "    \"\"\"\n",
    "    Return the accuracy achieved with the predictions of a validation set\n",
    "\n",
    "    Parameters\n",
    "    ----------\n",
    "    y_valid : np.ndarray\n",
    "        Vector with the validation labels.\n",
    "    tX_valid : np.ndarray\n",
    "        Array with the validation samples as rows and the features as columns.\n",
    "    weights : np.ndarray\n",
    "        Vector containing the weights.\n",
    "\n",
    "    Returns\n",
    "    -------\n",
    "    acc : float\n",
    "        Accuracy for this configuration (the closer to 1 the better)\n",
    "\n",
    "    References\n",
    "    ----------\n",
    "    [3] Wikipedia entry for 'Accuracy and precision'\n",
    "        https://en.wikipedia.org/wiki/Accuracy_and_precision\n",
    "\n",
    "    \"\"\"\n",
    "\n",
    "    y_pred = predict_labels(weights, tX_valid) # Obtaining the predictions\n",
    "    num_tp_tn = np.sum(y_valid == y_pred) # Calculating number of true positives and negatives\n",
    "    acc = np.round(num_tp_tn / len(y_valid), 4)\n",
    "    return acc"
   ]
  },
  {
   "cell_type": "markdown",
   "metadata": {},
   "source": [
    "### Cross validation"
   ]
  },
  {
   "cell_type": "code",
   "execution_count": 8,
   "metadata": {},
   "outputs": [],
   "source": [
    "def cross_validate(regressor, y, tX, max_degree, offset, param, k_fold, score='accuracy'):\n",
    "    \"\"\"\n",
    "    'k_fold' cross validate a regressor with parameters 'param', data '(y, TX)' \n",
    "    and score the predictions with 'score'\n",
    "\n",
    "    Parameters\n",
    "    ----------\n",
    "    regressor : str\n",
    "        String that defines which regressor to use\n",
    "    y : np.ndarray\n",
    "        Vector with the labels.\n",
    "    tX : np.ndarray\n",
    "        Array with the samples as rows and the features as columns.\n",
    "    max_degree : int\n",
    "        Highest degree element in polynomial basis.\n",
    "    offset : bool\n",
    "        Include offset or not in polynomial basis.\n",
    "    param : np.ndarray\n",
    "        Parameters on weight, gamma and max_iterations\n",
    "    k_fold : int\n",
    "        Integer that defines how many folds to make\n",
    "    score : float\n",
    "        Float of a given performance score (e.g. f1)\n",
    "\n",
    "    Returns\n",
    "    -------\n",
    "    mean : float\n",
    "        Mean of the scores achieved in k-fold cross validation\n",
    "    std : float\n",
    "        Standard deviation of scores achieved in k-fold cross validation\n",
    "\n",
    "    \"\"\"\n",
    "\n",
    "    if offset:\n",
    "        start = 0\n",
    "    else:\n",
    "        start = 1\n",
    "\n",
    "    degrees = range(start, max_degree + 1)\n",
    "    tX_poly = polynomial_basis(tX, degrees, std=True)\n",
    "\n",
    "    fold_size = int(len(y) / k_fold) \n",
    "    rand_ind = np.random.permutation(np.arange(len(y)))\n",
    "\n",
    "    scores = []\n",
    "    for k in range(k_fold):\n",
    "        valid_ind = rand_ind[k*fold_size:(k+1)*fold_size] # Splitting data set into validation and training set (for current fold)\n",
    "        tX_train, y_train = tX_poly[valid_ind], y[valid_ind]\n",
    "        tX_valid, y_valid = np.delete(tX_poly, valid_ind, axis=0), np.delete(y, valid_ind, axis=0)\n",
    "        weights, _ = eval(regressor)(y_train, tX_train, **param) # Fitting/scoring regressor with the training/validation set\n",
    "        score_valid = eval(score)(y_valid, tX_valid, weights)\n",
    "        scores.append(score_valid)\n",
    "    return np.mean(scores), np.std(scores, ddof=1)"
   ]
  },
  {
   "cell_type": "code",
   "execution_count": 25,
   "metadata": {},
   "outputs": [],
   "source": [
    "def get_best_degree_params(regressor, y, tX, max_degree, offset, params, k_fold, score='accuracy', verbose=True):\n",
    "    '''\n",
    "    TODO: Description \n",
    "    '''\n",
    "    # For each degree we compute the best lambda and the associated error\n",
    "    best_degree = float('inf')\n",
    "    if (score == 'accuracy' or score == 'f1_score'):\n",
    "        best_loss = float('-inf')\n",
    "    else:\n",
    "        best_loss = float('inf')\n",
    "    best_param = {}\n",
    "    \n",
    "    for degree in degrees:\n",
    "        if verbose:\n",
    "            print(\"Degree: \", degree)\n",
    "        for param in params:\n",
    "            loss_te, _ = cross_validate(regressor, y, tX, max_degree, offset, param, k_fold, score)\n",
    "            \n",
    "            if verbose:\n",
    "                print(\"loss: \", loss_te)\n",
    "            \n",
    "            if (score == 'accuracy' or score == 'f1_score'):\n",
    "                if loss_te > best_loss:\n",
    "                    best_loss = loss_te\n",
    "                    best_degree = degree\n",
    "                    best_param = param  \n",
    "            else: \n",
    "                if loss_te < best_loss:\n",
    "                    best_loss = loss_te\n",
    "                    best_degree = degree\n",
    "                    best_param = param\n",
    "\n",
    "        # Least squares has no parameters, we just need to find the optimal degree\n",
    "        if (params == []):\n",
    "            loss_te, _ = cross_validate(regressor, y, tX, max_degree, offset, {}, k_fold, score)\n",
    "            if verbose:\n",
    "                print(\"loss: \", loss_te)\n",
    "            if (score == 'accuracy' or score == 'f1_score'):\n",
    "                if loss_te > best_loss:\n",
    "                    best_loss = loss_te\n",
    "                    best_degree = degree \n",
    "            else: \n",
    "                if loss_te < best_loss:\n",
    "                    best_loss = loss_te\n",
    "                    best_degree = degree\n",
    "\n",
    "    \n",
    "    print(\"Best parameters set for '\", regressor, \"' using '\", score, \"' was:\")\n",
    "    print(\"degree = \", best_degree)\n",
    "    print(\"param = \", best_param)\n",
    "    print(\"Mean \", score, \" score: \", best_loss)\n",
    "\n",
    "    return best_degree, best_param"
   ]
  },
  {
   "cell_type": "markdown",
   "metadata": {},
   "source": [
    "### Least squares gradient descent"
   ]
  },
  {
   "cell_type": "code",
   "execution_count": 9,
   "metadata": {},
   "outputs": [
    {
     "data": {
      "text/plain": [
       "<Figure size 269.291x198.425 with 0 Axes>"
      ]
     },
     "metadata": {},
     "output_type": "display_data"
    },
    {
     "data": {
      "image/png": "[encoded data removed]",
      "text/plain": [
       "<Figure size 288x288 with 1 Axes>"
      ]
     },
     "metadata": {
      "needs_background": "light"
     },
     "output_type": "display_data"
    }
   ],
   "source": [
    "plt.figure(figsize=(9.5*cm, 7*cm))\n",
    "\n",
    "degrees = np.linspace(1, 5, 5, dtype=int)\n",
    "gammas = np.linspace(1e-2, 1e-1, 5)\n",
    "\n",
    "mean, std = np.frompyfunc(\n",
    "    lambda degree, gamma: cross_validate('least_squares_GD',\n",
    "                                            y, tX, degree, True,\n",
    "                                            {'gamma': gamma, 'max_iters': 200},\n",
    "                                            4, 'accuracy'),\n",
    "    2, 2).outer(degrees, gammas)\n",
    "\n",
    "plt.matshow(mean.astype(np.float))\n",
    "plt.xticks(range(len(gammas)), gammas)\n",
    "plt.yticks(range(len(degrees)), degrees)\n",
    "plt.xlabel(r'Learning rate $\\gamma$')\n",
    "plt.ylabel(r'Degree of polynomial basis')\n",
    "\n",
    "for (i, j), z in np.ndenumerate(mean):\n",
    "    plt.text(j, i, '{:0.4f}'.format(z), ha='center', va='center')\n",
    "\n",
    "plt.savefig('report/figures/grad_desc_gridsearch.pdf', bbox_inches='tight')"
   ]
  },
  {
   "cell_type": "code",
   "execution_count": 13,
   "metadata": {},
   "outputs": [
    {
     "data": {
      "text/plain": [
       "<Figure size 269.291x198.425 with 0 Axes>"
      ]
     },
     "metadata": {},
     "output_type": "display_data"
    },
    {
     "data": {
      "image/png": "[encoded data removed]",
      "text/plain": [
       "<Figure size 288x288 with 1 Axes>"
      ]
     },
     "metadata": {
      "needs_background": "light"
     },
     "output_type": "display_data"
    }
   ],
   "source": [
    "plt.figure(figsize=(9.5*cm, 7*cm))\n",
    "\n",
    "degrees = np.linspace(1, 6, 6, dtype=int)\n",
    "gammas = np.linspace(1e-2, 1e-1, 6)\n",
    "\n",
    "mean, std = np.frompyfunc(\n",
    "    lambda degree, gamma: cross_validate('least_squares_GD',\n",
    "                                            y, tX_median, degree, True,\n",
    "                                            {'gamma': gamma, 'max_iters': 200},\n",
    "                                            4, 'accuracy'),\n",
    "    2, 2).outer(degrees, gammas)\n",
    "\n",
    "plt.matshow(mean.astype(np.float))\n",
    "plt.xticks(range(len(gammas)), [f\"{gamma:.1e}\" for gamma in gammas])\n",
    "plt.yticks(range(len(degrees)), degrees)\n",
    "plt.xlabel(r'Learning rate $\\gamma$')\n",
    "plt.ylabel(r'Degree of polynomial basis')\n",
    "\n",
    "for (i, j), z in np.ndenumerate(mean):\n",
    "    plt.text(j, i, '{:0.4f}'.format(z), ha='center', va='center')\n",
    "\n",
    "plt.savefig('report/figures/grad_desc_median_gridsearch.pdf', bbox_inches='tight')"
   ]
  },
  {
   "cell_type": "markdown",
   "metadata": {},
   "source": [
    "### Least squares stochastic gradient descent"
   ]
  },
  {
   "cell_type": "code",
   "execution_count": 14,
   "metadata": {},
   "outputs": [
    {
     "data": {
      "text/plain": [
       "<Figure size 269.291x198.425 with 0 Axes>"
      ]
     },
     "metadata": {},
     "output_type": "display_data"
    },
    {
     "data": {
      "image/png": "[encoded data removed]",
      "text/plain": [
       "<Figure size 720x288 with 1 Axes>"
      ]
     },
     "metadata": {
      "needs_background": "light"
     },
     "output_type": "display_data"
    }
   ],
   "source": [
    "plt.figure(figsize=(9.5*cm, 7*cm))\n",
    "\n",
    "degrees = np.linspace(1, 4, 4, dtype=int)\n",
    "gammas = np.linspace(1e-4, 1e-3, 10)\n",
    "\n",
    "mean, std = np.frompyfunc(\n",
    "    lambda degree, gamma: cross_validate('least_squares_SGD',\n",
    "                                            y, tX, degree, False,\n",
    "                                            {'gamma': gamma, 'max_iters': 10000},\n",
    "                                            4, 'accuracy'),\n",
    "    2, 2).outer(degrees, gammas)\n",
    "\n",
    "plt.matshow(mean.astype(np.float))\n",
    "plt.xticks(range(len(gammas)), [f\"{gamma:.1e}\" for gamma in gammas])\n",
    "plt.yticks(range(len(degrees)), degrees)\n",
    "plt.xlabel(r'Learning rate $\\gamma$')\n",
    "plt.ylabel(r'Degree of polynomial basis')\n",
    "\n",
    "for (i, j), z in np.ndenumerate(mean):\n",
    "    plt.text(j, i, '{:0.4f}'.format(z), ha='center', va='center')\n",
    "\n",
    "plt.savefig('report/figures/stoch_grad_desc_gridsearch.pdf', bbox_inches='tight')"
   ]
  },
  {
   "cell_type": "code",
   "execution_count": 15,
   "metadata": {},
   "outputs": [
    {
     "data": {
      "text/plain": [
       "<Figure size 269.291x198.425 with 0 Axes>"
      ]
     },
     "metadata": {},
     "output_type": "display_data"
    },
    {
     "data": {
      "image/png": "[encoded data removed]",
      "text/plain": [
       "<Figure size 720x288 with 1 Axes>"
      ]
     },
     "metadata": {
      "needs_background": "light"
     },
     "output_type": "display_data"
    }
   ],
   "source": [
    "plt.figure(figsize=(9.5*cm, 7*cm))\n",
    "\n",
    "degrees = np.linspace(1, 4, 4, dtype=int)\n",
    "gammas = np.linspace(1e-4, 1e-3, 10)\n",
    "\n",
    "mean, std = np.frompyfunc(\n",
    "    lambda degree, gamma: cross_validate('least_squares_SGD',\n",
    "                                            y, tX_median, degree, False,\n",
    "                                            {'gamma': gamma, 'max_iters': 10000},\n",
    "                                            4, 'accuracy'),\n",
    "    2, 2).outer(degrees, gammas)\n",
    "\n",
    "plt.matshow(mean.astype(np.float))\n",
    "plt.xticks(range(len(gammas)), [f\"{gamma:.1e}\" for gamma in gammas])\n",
    "plt.yticks(range(len(degrees)), degrees)\n",
    "plt.xlabel(r'Learning rate $\\gamma$')\n",
    "plt.ylabel(r'Degree of polynomial basis')\n",
    "\n",
    "for (i, j), z in np.ndenumerate(mean):\n",
    "    plt.text(j, i, '{:0.4f}'.format(z), ha='center', va='center')\n",
    "\n",
    "plt.savefig('report/figures/stoch_grad_desc_gridsearch.pdf', bbox_inches='tight')"
   ]
  },
  {
   "cell_type": "markdown",
   "metadata": {},
   "source": [
    "### Ridge regression"
   ]
  },
  {
   "cell_type": "code",
   "execution_count": 38,
   "metadata": {},
   "outputs": [
    {
     "data": {
      "text/plain": [
       "<Figure size 269.291x198.425 with 0 Axes>"
      ]
     },
     "metadata": {},
     "output_type": "display_data"
    },
    {
     "data": {
      "image/png": "[encoded data removed]",
      "text/plain": [
       "<Figure size 288x288 with 1 Axes>"
      ]
     },
     "metadata": {
      "needs_background": "light"
     },
     "output_type": "display_data"
    }
   ],
   "source": [
    "plt.figure(figsize=(9.5*cm, 7*cm))\n",
    "\n",
    "degrees = np.linspace(1, 5, 5, dtype=int)\n",
    "lambdas = np.logspace(-5, -1, 5)\n",
    "\n",
    "mean, std = np.frompyfunc(\n",
    "    lambda degree, lambda_: cross_validate('ridge_regression',\n",
    "                                    y, tX, degree, False,\n",
    "                                    {'lambda_' : lambda_},\n",
    "                                    4, 'accuracy'),\n",
    "    2, 2).outer(degrees, lambdas)\n",
    "\n",
    "plt.matshow(mean.astype(np.float))\n",
    "plt.xticks(range(len(lambdas)), [f\"{lambda_:.1e}\" for lambda_ in lambdas])\n",
    "plt.yticks(range(len(degrees)), degrees)\n",
    "plt.ylabel(r'Degree of polynomial basis')\n",
    "plt.xlabel(r'Regulization $\\lambda$')\n",
    "\n",
    "for (i, j), z in np.ndenumerate(mean):\n",
    "    plt.text(j, i, '{:0.4f}'.format(z), ha='center', va='center')\n",
    "\n",
    "plt.savefig('report/figures/ridge_regression_gridsearch.pdf', bbox_inches='tight')"
   ]
  },
  {
   "cell_type": "markdown",
   "metadata": {},
   "source": [
    "### Logistic regression"
   ]
  },
  {
   "cell_type": "code",
   "execution_count": 37,
   "metadata": {},
   "outputs": [
    {
     "name": "stderr",
     "output_type": "stream",
     "text": [
      "<ipython-input-37-b56140db6926>:13: DeprecationWarning: `np.float` is a deprecated alias for the builtin `float`. To silence this warning, use `float` by itself. Doing this will not modify any behavior and is safe. If you specifically wanted the numpy scalar type, use `np.float64` here.\n",
      "Deprecated in NumPy 1.20; for more details and guidance: https://numpy.org/devdocs/release/1.20.0-notes.html#deprecations\n",
      "  plt.matshow(mean.astype(np.float))\n"
     ]
    },
    {
     "data": {
      "text/plain": [
       "<Figure size 269.291x198.425 with 0 Axes>"
      ]
     },
     "metadata": {},
     "output_type": "display_data"
    },
    {
     "data": {
      "image/png": "[encoded data removed]",
      "text/plain": [
       "<Figure size 576x288 with 1 Axes>"
      ]
     },
     "metadata": {
      "needs_background": "light"
     },
     "output_type": "display_data"
    }
   ],
   "source": [
    "plt.figure(figsize=(9.5*cm, 7*cm))\n",
    "\n",
    "degrees = np.linspace(2, 5, 5, dtype=int)\n",
    "gammas = np.linspace(5e-6, 4e-5, 10)\n",
    "\n",
    "mean, std = np.frompyfunc(\n",
    "    lambda degree, gamma: cross_validate('logistic_regression',\n",
    "                                            y, tX_median, degree, True,\n",
    "                                            {'gamma' : gamma, 'max_iters': 100},\n",
    "                                            4, 'accuracy'),\n",
    "    2, 2).outer(degrees, gammas)\n",
    "\n",
    "plt.matshow(mean.astype(np.float))\n",
    "plt.xticks(range(len(gammas)), [f\"{gamma:.1e}\" for gamma in gammas])\n",
    "plt.yticks(range(len(degrees)), degrees)\n",
    "plt.xlabel(r'Learning rate $\\gamma$')\n",
    "plt.ylabel(r'Degree of polynomial basis')\n",
    "\n",
    "for (i, j), z in np.ndenumerate(mean):\n",
    "    plt.text(j, i, '{:0.4f}'.format(z), ha='center', va='center')\n",
    "\n",
    "plt.savefig('report/figures/log_reg_gridsearch.pdf', bbox_inches='tight')"
   ]
  },
  {
   "cell_type": "markdown",
   "metadata": {},
   "source": [
    "### Regularized logistic regression"
   ]
  },
  {
   "cell_type": "code",
   "execution_count": 41,
   "metadata": {},
   "outputs": [
    {
     "data": {
      "text/plain": [
       "<Figure size 269.291x198.425 with 0 Axes>"
      ]
     },
     "metadata": {},
     "output_type": "display_data"
    },
    {
     "data": {
      "image/png": "[encoded data removed]",
      "text/plain": [
       "<Figure size 288x288 with 1 Axes>"
      ]
     },
     "metadata": {
      "needs_background": "light"
     },
     "output_type": "display_data"
    }
   ],
   "source": [
    "plt.figure(figsize=(9.5*cm, 7*cm))\n",
    "\n",
    "degrees = np.linspace(1, 5, 5, dtype=int)\n",
    "lambdas = np.logspace(-5, -1, 5)\n",
    "\n",
    "mean, std = np.frompyfunc(\n",
    "    lambda degree, lambda_: cross_validate('reg_logistic_regression',\n",
    "                                            y, tX, degree, True,\n",
    "                                            {'lambda_' : lambda_, 'gamma': 1e-5},\n",
    "                                            4, 'accuracy'),\n",
    "    2, 2).outer(degrees, lambdas)\n",
    "\n",
    "plt.matshow(mean.astype(np.float))\n",
    "plt.xticks(range(len(lambdas)), [f\"{lambda_:.1e}\" for lambda_ in lambdas])\n",
    "plt.yticks(range(len(degrees)), degrees)\n",
    "plt.xlabel(r'Regularization $\\lambda$')\n",
    "plt.ylabel(r'Degree of polynomial basis')\n",
    "\n",
    "for (i, j), z in np.ndenumerate(mean):\n",
    "    plt.text(j, i, '{:0.4f}'.format(z), ha='center', va='center')\n",
    "\n",
    "plt.savefig('report/figures/reg_log_reg_gridsearch.pdf', bbox_inches='tight')"
   ]
  },
  {
   "cell_type": "markdown",
   "metadata": {},
   "source": [
    "## Preprocessing testing"
   ]
  },
  {
   "cell_type": "code",
   "execution_count": 80,
   "metadata": {},
   "outputs": [
    {
     "name": "stdout",
     "output_type": "stream",
     "text": [
      "F1-score achieved with 'ridge_regression', dataset  normal  : F1 =  0.6655\n",
      "Accuracy achieved with 'ridge_regression', dataset  normal  : accuracy =  0.718\n",
      "F1-score achieved with 'ridge_regression', dataset  zeros  : F1 =  0.6658\n",
      "Accuracy achieved with 'ridge_regression', dataset  zeros  : accuracy =  0.7192\n",
      "F1-score achieved with 'ridge_regression', dataset  mean  : F1 =  0.6652\n",
      "Accuracy achieved with 'ridge_regression', dataset  mean  : accuracy =  0.7194\n",
      "F1-score achieved with 'ridge_regression', dataset  median  : F1 =  0.6652\n",
      "Accuracy achieved with 'ridge_regression', dataset  median  : accuracy =  0.7197\n",
      "F1-score achieved with 'ridge_regression', dataset  binary  : F1 =  0.6655\n",
      "Accuracy achieved with 'ridge_regression', dataset  binary  : accuracy =  0.7182\n",
      "F1-score achieved with 'ridge_regression', dataset  deleted  : F1 =  0.6595\n",
      "Accuracy achieved with 'ridge_regression', dataset  deleted  : accuracy =  0.7069\n"
     ]
    }
   ],
   "source": [
    "lambda_ = 0.001\n",
    "for key in train_dict:\n",
    "    weights, loss = ridge_regression(y_train, train_dict[key], lambda_)\n",
    "    f1 = f1_score(y_valid, valid_dict[key], weights)\n",
    "    acc = accuracy(y_valid, valid_dict[key], weights)\n",
    "    print(\"F1-score achieved with 'ridge_regression', dataset \", key, \" : F1 = \", f1)\n",
    "    print(\"Accuracy achieved with 'ridge_regression', dataset \", key, \" : accuracy = \", acc)"
   ]
  },
  {
   "cell_type": "markdown",
   "metadata": {},
   "source": [
    "## Splitting"
   ]
  },
  {
   "cell_type": "code",
   "execution_count": 39,
   "metadata": {},
   "outputs": [
    {
     "name": "stdout",
     "output_type": "stream",
     "text": [
      "Counter({0.0: 99913, 1.0: 77544, 2.0: 50379, 3.0: 22164})\n",
      "Counter({0.0: 79966, 1.0: 62083, 2.0: 40258, 3.0: 17693})\n",
      "Counter({0.0: 19947, 1.0: 15461, 2.0: 10121, 3.0: 4471})\n"
     ]
    }
   ],
   "source": [
    "from collections import Counter\n",
    "\n",
    "y_train, y_valid = y[:cut_off_point], y[cut_off_point:]\n",
    "tX_train, tX_valid = tX[:cut_off_point], tX[cut_off_point:]\n",
    "\n",
    "print(Counter(tX[:,22]))\n",
    "print(Counter(tX_train[:,22]))\n",
    "print(Counter(tX_valid[:,22]))\n",
    "\n",
    "def PRI_jet_num_opt_regressor(opt_regressor, tX, y, degree, param):\n",
    "    PRI_jet_num = tX[:,23]\n",
    "    print(PRI_jet_num)\n",
    "    # Split the data according to PRI_jet_num\n",
    "    tX0 = tX[tX[:, 23] == 0.0, :]\n",
    "    y0 = y[tX[:, 23] == 0.0]\n",
    "    tX1 = tX[tX[:, 23] == 1.0, :]\n",
    "    y1 = y[tX[:, 23] == 1.0]\n",
    "    tX2 = tX[tX[:, 23] == 2.0, :]\n",
    "    y2 = y[tX[:, 23] == 2.0]\n",
    "    tX3 = tX[tX[:, 23] == 3.0, :]\n",
    "    y3 = y[tX[:, 23] == 3.0]\n",
    "\n",
    "    # Remove the PRI_jet_num_column and standardize\n",
    "    rm = np.arange(degree)*30 + 23\n",
    "    print(rm)\n",
    "    print(tX.shape)\n",
    "    tX0 = standardize(np.delete(tX0, rm, 1))\n",
    "    tX1 = standardize(np.delete(tX1, rm, 1))\n",
    "    tX2 = standardize(np.delete(tX2, rm, 1))\n",
    "    tX3 = standardize(np.delete(tX3, rm, 1))\n",
    "    \n",
    "    # JUST FOR TESTING THE ALGORITHM\n",
    "    #tX0 = standardize(tX0)\n",
    "    #tX1 = standardize(tX1)\n",
    "    #tX2 = standardize(tX2)\n",
    "    #tX3 = standardize(tX3)\n",
    "\n",
    "    # Add polynomial basis\n",
    "\n",
    "    # Train 4 separate models\n",
    "    print('Training model 0')\n",
    "    w0, train_loss_0 = eval(opt_regressor)(y0, tX0, **param)\n",
    "    print('Training model 1')\n",
    "    w1, train_loss_1 = eval(opt_regressor)(y1, tX1, **param)\n",
    "    print('Training model 2')\n",
    "    w2, train_loss_2 = eval(opt_regressor)(y2, tX2, **param)\n",
    "    print('Training model 3')\n",
    "    w3, train_loss_3 = eval(opt_regressor)(y3, tX3, **param)\n",
    "\n",
    "    return w0, w1, w2, w3, train_loss_0, train_loss_1, train_loss_2, train_loss_3\n",
    "\n",
    "\n",
    "\n",
    "def predict_labels_PRI_jet_num(w0, w1, w2, w3, degree, data):\n",
    "    \"\"\"Generates class predictions given weights, and a test data matrix\"\"\"    \n",
    "    y_pred = np.zeros(data.shape[0])\n",
    "    \n",
    "    print(data[:, 23])\n",
    "    # Split the data according to PRI_jet_num\n",
    "    rm = np.arange(degree)*30 + 23\n",
    "\n",
    "    data0_ind = (data[:, 23] == 0.0)\n",
    "    data0 = data[data0_ind, :]\n",
    "    data0 = np.delete(data0, rm, 1)\n",
    "    \n",
    "    data1_ind = (data[:, 23] == 1.0)\n",
    "    data1 = data[data1_ind, :]\n",
    "    data1 = np.delete(data1, rm, 1)\n",
    "    \n",
    "    data2_ind = (data[:, 23] == 2.0)\n",
    "    data2 = data[data2_ind, :]\n",
    "    data2 = np.delete(data2, rm, 1)\n",
    "    \n",
    "    data3_ind = (data[:, 23] == 3.0)\n",
    "    data3 = data[data3_ind, :]\n",
    "    data3 = np.delete(data3, rm, 1)\n",
    "\n",
    "    # Predicting separately for each label\n",
    "    y0_pred = np.dot(data0, w0)\n",
    "    y1_pred = np.dot(data1, w1)\n",
    "    y2_pred = np.dot(data2, w2)\n",
    "    y3_pred = np.dot(data3, w3)\n",
    "\n",
    "    # Building the prediction for all labels\n",
    "    y_pred[data0_ind] = y0_pred\n",
    "    y_pred[data1_ind] = y1_pred\n",
    "    y_pred[data2_ind] = y2_pred\n",
    "    y_pred[data3_ind] = y3_pred\n",
    "\n",
    "    # Predicting -1 or 1\n",
    "    y_pred[np.where(y_pred <= 0)] = -1\n",
    "    y_pred[np.where(y_pred > 0)] = 1\n",
    "    \n",
    "    return y_pred\n",
    "\n",
    "\n",
    "def accuracy_PRI_jet_num(y_valid, tX_valid, degree, w0, w1, w2, w3):\n",
    "    \"\"\"\n",
    "    TODO:\n",
    "    \"\"\"\n",
    "    # Obtaining the predictions\n",
    "    y_pred = predict_labels_PRI_jet_num(w0, w1, w2, w3, degree, tX_valid)\n",
    "    print(Counter(y_pred))\n",
    "\n",
    "    # Calculating number of true positives and negatives\n",
    "    num_tp_tn = np.sum(y_valid == y_pred)\n",
    "    \n",
    "    acc = np.round(num_tp_tn / len(y_valid), 4)\n",
    "    return acc"
   ]
  }
 ],
 "metadata": {
  "anaconda-cloud": {},
  "interpreter": {
   "hash": "fb487646d2ff43bdda56d3757f53914077f9958e378e2f12b27b72e0e80564a5"
  },
  "kernelspec": {
   "display_name": "Python 3.8.8 64-bit ('base': conda)",
   "name": "python3"
  },
  "language_info": {
   "codemirror_mode": {
    "name": "ipython",
    "version": 3
   },
   "file_extension": ".py",
   "mimetype": "text/x-python",
   "name": "python",
   "nbconvert_exporter": "python",
   "pygments_lexer": "ipython3",
   "version": "3.8.8"
  }
 },
 "nbformat": 4,
 "nbformat_minor": 2
}
