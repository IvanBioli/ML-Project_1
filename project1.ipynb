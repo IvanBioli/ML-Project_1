{
 "cells": [
  {
   "cell_type": "markdown",
   "metadata": {},
   "source": [
    "# Project 1 \n",
    "#### by Fabio, Ivan and Olivier"
   ]
  },
  {
   "cell_type": "markdown",
   "metadata": {},
   "source": [
    "## Data Import"
   ]
  },
  {
   "cell_type": "code",
   "execution_count": 1,
   "metadata": {},
   "outputs": [],
   "source": [
    "# Useful starting lines\n",
    "%matplotlib inline\n",
    "import numpy as np\n",
    "import matplotlib.pyplot as plt\n",
    "import time\n",
    "%load_ext autoreload\n",
    "%autoreload 2\n",
    "from proj1_helpers import *\n",
    "from implementations import *\n",
    "\n",
    "# Loading the training data\n",
    "y, tX, ids = load_csv_data('data/train.csv')"
   ]
  },
  {
   "cell_type": "markdown",
   "metadata": {},
   "source": [
    "## Data Preprocessing"
   ]
  },
  {
   "cell_type": "markdown",
   "metadata": {},
   "source": [
    "### Undefined values visualization"
   ]
  },
  {
   "cell_type": "code",
   "execution_count": 7,
   "metadata": {},
   "outputs": [],
   "source": [
    "# LaTeX Typesetting\n",
    "plt.rcParams.update({\n",
    "    'text.usetex': True,\n",
    "    'text.latex.preamble': r'\\usepackage{eulervm}',\n",
    "    'font.family': 'serif',\n",
    "    'font.serif': 'Palatino',\n",
    "    'font.size': 11,\n",
    "})\n",
    "\n",
    "cm = 1/2.54  # Convert centimeters to inches\n",
    "color_theme = '#2171b5'  # Color definition"
   ]
  },
  {
   "cell_type": "code",
   "execution_count": 65,
   "metadata": {},
   "outputs": [
    {
     "data": {
      "image/png": "[encoded data removed]",
      "text/plain": [
       "<Figure size 432x288 with 1 Axes>"
      ]
     },
     "metadata": {
      "needs_background": "light"
     },
     "output_type": "display_data"
    },
    {
     "name": "stdout",
     "output_type": "stream",
     "text": [
      "Percentage of inputs with at least one undefined feature:  72.7544\n"
     ]
    },
    {
     "data": {
      "image/png": "[encoded data removed]",
      "text/plain": [
       "<Figure size 269.291x113.386 with 1 Axes>"
      ]
     },
     "metadata": {
      "needs_background": "light"
     },
     "output_type": "display_data"
    }
   ],
   "source": [
    "#Counting the number of undefined values and the percentage of undefined values\n",
    "counter = np.sum((tX == -999), axis = 0)\n",
    "undef_ind = np.nonzero(counter)[0]\n",
    "plt.bar(np.arange(len(counter)), counter)\n",
    "plt.title(\"Number of undefined values per feature\") \n",
    "plt.xlabel('Features')\n",
    "plt.ylabel('Samples')\n",
    "plt.show()\n",
    "\n",
    "#Percentage of undefined values\n",
    "plt.figure(figsize=(9.5*cm, 4*cm))\n",
    "N = tX.shape[0]\n",
    "rel_counter = counter / N * 100\n",
    "plt.bar(np.arange(len(rel_counter)), rel_counter, color=color_theme)\n",
    "#plt.title(\"Percentage of undefined values per feature\") \n",
    "plt.xlabel('Feature')\n",
    "plt.ylabel('Percentage')\n",
    "plt.ylim([0, 100])\n",
    "plt.savefig('report/figures/undefined_values.pdf', bbox_inches='tight')\n",
    "\n",
    "\n",
    "#Counting the percentage of inputs with at least one undefined feature \n",
    "counter = np.sum((tX == -999), axis = 1)\n",
    "tot = np.count_nonzero(counter)\n",
    "print(\"Percentage of inputs with at least one undefined feature: \", tot / N * 100)"
   ]
  },
  {
   "cell_type": "markdown",
   "metadata": {},
   "source": [
    "Notes:\n",
    "* Same number of undefined features for some features. This are structurally missing features.\n",
    "* Very high percentage for some particular features."
   ]
  },
  {
   "cell_type": "markdown",
   "metadata": {},
   "source": [
    "### Dataset splitting"
   ]
  },
  {
   "cell_type": "code",
   "execution_count": 85,
   "metadata": {},
   "outputs": [],
   "source": [
    "# Splitting dataset into train and validation sets\n",
    "ratio = 0.8  # Ratio of samples to use in new train set\n",
    "cut_off_point = int(ratio*len(y))\n",
    "np.random.seed(0)  # Fixing a seed for reproducibility\n",
    "rand_ind = np.random.permutation(np.arange(len(y)))\n",
    "y_train, y_valid = y[cut_off_point:], y[:cut_off_point]\n",
    "tX_train, tX_valid = tX[cut_off_point:], tX[:cut_off_point]"
   ]
  },
  {
   "cell_type": "markdown",
   "metadata": {},
   "source": [
    "### Replacing undefined entries"
   ]
  },
  {
   "cell_type": "code",
   "execution_count": 86,
   "metadata": {},
   "outputs": [],
   "source": [
    "#Replacing undefined entrance:\n",
    "tX_train_nan = np.where(tX_train != -999, tX_train, np.nan)\n",
    "tX_valid_nan = np.where(tX_valid != -999, tX_valid, np.nan)\n",
    "\n",
    "#1. With zero entries\n",
    "tX_train_zeros = np.where(~np.isnan(tX_train_nan), tX_train_nan, 0)\n",
    "tX_valid_zeros = np.where(~np.isnan(tX_valid_nan), tX_valid_nan, 0) \n",
    "tX_train_zeros = standardize(tX_train_zeros)\n",
    "tX_valid_zeros = standardize(tX_valid_zeros)\n",
    "\n",
    "\n",
    "#2. With mean\n",
    "mu_train = np.nanmean(tX_train_nan, axis = 0)\n",
    "tX_train_mean = np.where(~np.isnan(tX_train_nan), tX_train_nan, mu_train)\n",
    "tX_train_mean = standardize(tX_train_mean)\n",
    "mu_valid = np.nanmean(tX_valid_nan, axis = 0)\n",
    "tX_valid_mean = np.where(~np.isnan(tX_valid_nan), tX_valid_nan, mu_valid)\n",
    "tX_valid_mean = standardize(tX_valid_mean)\n",
    "\n",
    "#3. With median\n",
    "mu_train = np.nanmedian(tX_train_nan, axis = 0)\n",
    "tX_train_median = np.where(~np.isnan(tX_train_nan), tX_train_nan, mu_train)\n",
    "tX_train_median = standardize(tX_train_median)\n",
    "mu_valid = np.nanmedian(tX_valid_nan, axis = 0)\n",
    "tX_valid_median = np.where(~np.isnan(tX_valid_nan), tX_valid_nan, mu_valid)\n",
    "tX_valid_median = standardize(tX_valid_median)\n",
    "\n",
    "#4. Adding a binary variable\n",
    "tX_train_binary = np.hstack((tX_train, (2*np.isnan(tX_train_nan[:, undef_ind]) - 1)))\n",
    "tX_train_binary = standardize(tX_train_binary)\n",
    "tX_valid_binary = np.hstack((tX_valid, (2*np.isnan(tX_valid_nan[:, undef_ind]) - 1)))\n",
    "tX_valid_binary = standardize(tX_valid_binary)\n",
    "\n",
    "#5. Removing features with a percentage of undefined inputs above the threshold\n",
    "threshold = 0.7\n",
    "counter = np.sum((tX == -999), axis = 0) / N\n",
    "keep = np.argwhere(counter < threshold).flatten()\n",
    "tX_train_del = tX_train[:, keep]\n",
    "tX_train_del = standardize(tX_train_del)\n",
    "tX_valid_del = tX_valid[:, keep]\n",
    "tX_valid_del = standardize(tX_valid_del)"
   ]
  },
  {
   "cell_type": "code",
   "execution_count": 87,
   "metadata": {},
   "outputs": [],
   "source": [
    "# Standardizing the data\n",
    "tX_train = standardize(tX_train)\n",
    "tX_valid = standardize(tX_valid)\n",
    "\n",
    "# Creating a dictionary of traning and validation sets\n",
    "train_dict = {'normal': tX_train, 'zeros': tX_train_zeros, 'mean': tX_train_mean, 'median': tX_train_median, 'binary': tX_train_binary, 'deleted': tX_train_del}\n",
    "valid_dict = {'normal': tX_valid, 'zeros': tX_valid_zeros, 'mean': tX_valid_mean, 'median': tX_valid_median, 'binary': tX_valid_binary, 'deleted': tX_valid_del}"
   ]
  },
  {
   "cell_type": "markdown",
   "metadata": {},
   "source": [
    "## Visualizations"
   ]
  },
  {
   "cell_type": "code",
   "execution_count": 88,
   "metadata": {},
   "outputs": [],
   "source": [
    "import pandas as pd\n",
    "import collections\n",
    "import matplotlib.pyplot as plt\n",
    "%matplotlib inline\n",
    "from sklearn.ensemble import ExtraTreesClassifier\n",
    "from sklearn.metrics import confusion_matrix\n",
    "import seaborn as sns"
   ]
  },
  {
   "cell_type": "code",
   "execution_count": 89,
   "metadata": {},
   "outputs": [
    {
     "name": "stdout",
     "output_type": "stream",
     "text": [
      "(250000,) (250000, 30) (250000,)\n"
     ]
    },
    {
     "data": {
      "text/html": [
       "<div>\n",
       "<style scoped>\n",
       "    .dataframe tbody tr th:only-of-type {\n",
       "        vertical-align: middle;\n",
       "    }\n",
       "\n",
       "    .dataframe tbody tr th {\n",
       "        vertical-align: top;\n",
       "    }\n",
       "\n",
       "    .dataframe thead th {\n",
       "        text-align: right;\n",
       "    }\n",
       "</style>\n",
       "<table border=\"1\" class=\"dataframe\">\n",
       "  <thead>\n",
       "    <tr style=\"text-align: right;\">\n",
       "      <th></th>\n",
       "      <th>Id</th>\n",
       "      <th>Prediction</th>\n",
       "      <th>DER_mass_MMC</th>\n",
       "      <th>DER_mass_transverse_met_lep</th>\n",
       "      <th>DER_mass_vis</th>\n",
       "      <th>DER_pt_h</th>\n",
       "      <th>DER_deltaeta_jet_jet</th>\n",
       "      <th>DER_mass_jet_jet</th>\n",
       "      <th>DER_prodeta_jet_jet</th>\n",
       "      <th>DER_deltar_tau_lep</th>\n",
       "      <th>...</th>\n",
       "      <th>PRI_met_phi</th>\n",
       "      <th>PRI_met_sumet</th>\n",
       "      <th>PRI_jet_num</th>\n",
       "      <th>PRI_jet_leading_pt</th>\n",
       "      <th>PRI_jet_leading_eta</th>\n",
       "      <th>PRI_jet_leading_phi</th>\n",
       "      <th>PRI_jet_subleading_pt</th>\n",
       "      <th>PRI_jet_subleading_eta</th>\n",
       "      <th>PRI_jet_subleading_phi</th>\n",
       "      <th>PRI_jet_all_pt</th>\n",
       "    </tr>\n",
       "  </thead>\n",
       "  <tbody>\n",
       "    <tr>\n",
       "      <td>0</td>\n",
       "      <td>100000</td>\n",
       "      <td>s</td>\n",
       "      <td>138.470</td>\n",
       "      <td>51.655</td>\n",
       "      <td>97.827</td>\n",
       "      <td>27.980</td>\n",
       "      <td>0.91</td>\n",
       "      <td>124.711</td>\n",
       "      <td>2.666</td>\n",
       "      <td>3.064</td>\n",
       "      <td>...</td>\n",
       "      <td>-0.277</td>\n",
       "      <td>258.733</td>\n",
       "      <td>2</td>\n",
       "      <td>67.435</td>\n",
       "      <td>2.150</td>\n",
       "      <td>0.444</td>\n",
       "      <td>46.062</td>\n",
       "      <td>1.24</td>\n",
       "      <td>-2.475</td>\n",
       "      <td>113.497</td>\n",
       "    </tr>\n",
       "    <tr>\n",
       "      <td>1</td>\n",
       "      <td>100001</td>\n",
       "      <td>b</td>\n",
       "      <td>160.937</td>\n",
       "      <td>68.768</td>\n",
       "      <td>103.235</td>\n",
       "      <td>48.146</td>\n",
       "      <td>-999.00</td>\n",
       "      <td>-999.000</td>\n",
       "      <td>-999.000</td>\n",
       "      <td>3.473</td>\n",
       "      <td>...</td>\n",
       "      <td>-1.916</td>\n",
       "      <td>164.546</td>\n",
       "      <td>1</td>\n",
       "      <td>46.226</td>\n",
       "      <td>0.725</td>\n",
       "      <td>1.158</td>\n",
       "      <td>-999.000</td>\n",
       "      <td>-999.00</td>\n",
       "      <td>-999.000</td>\n",
       "      <td>46.226</td>\n",
       "    </tr>\n",
       "    <tr>\n",
       "      <td>2</td>\n",
       "      <td>100002</td>\n",
       "      <td>b</td>\n",
       "      <td>-999.000</td>\n",
       "      <td>162.172</td>\n",
       "      <td>125.953</td>\n",
       "      <td>35.635</td>\n",
       "      <td>-999.00</td>\n",
       "      <td>-999.000</td>\n",
       "      <td>-999.000</td>\n",
       "      <td>3.148</td>\n",
       "      <td>...</td>\n",
       "      <td>-2.186</td>\n",
       "      <td>260.414</td>\n",
       "      <td>1</td>\n",
       "      <td>44.251</td>\n",
       "      <td>2.053</td>\n",
       "      <td>-2.028</td>\n",
       "      <td>-999.000</td>\n",
       "      <td>-999.00</td>\n",
       "      <td>-999.000</td>\n",
       "      <td>44.251</td>\n",
       "    </tr>\n",
       "    <tr>\n",
       "      <td>3</td>\n",
       "      <td>100003</td>\n",
       "      <td>b</td>\n",
       "      <td>143.905</td>\n",
       "      <td>81.417</td>\n",
       "      <td>80.943</td>\n",
       "      <td>0.414</td>\n",
       "      <td>-999.00</td>\n",
       "      <td>-999.000</td>\n",
       "      <td>-999.000</td>\n",
       "      <td>3.310</td>\n",
       "      <td>...</td>\n",
       "      <td>0.060</td>\n",
       "      <td>86.062</td>\n",
       "      <td>0</td>\n",
       "      <td>-999.000</td>\n",
       "      <td>-999.000</td>\n",
       "      <td>-999.000</td>\n",
       "      <td>-999.000</td>\n",
       "      <td>-999.00</td>\n",
       "      <td>-999.000</td>\n",
       "      <td>0.000</td>\n",
       "    </tr>\n",
       "    <tr>\n",
       "      <td>4</td>\n",
       "      <td>100004</td>\n",
       "      <td>b</td>\n",
       "      <td>175.864</td>\n",
       "      <td>16.915</td>\n",
       "      <td>134.805</td>\n",
       "      <td>16.405</td>\n",
       "      <td>-999.00</td>\n",
       "      <td>-999.000</td>\n",
       "      <td>-999.000</td>\n",
       "      <td>3.891</td>\n",
       "      <td>...</td>\n",
       "      <td>-0.871</td>\n",
       "      <td>53.131</td>\n",
       "      <td>0</td>\n",
       "      <td>-999.000</td>\n",
       "      <td>-999.000</td>\n",
       "      <td>-999.000</td>\n",
       "      <td>-999.000</td>\n",
       "      <td>-999.00</td>\n",
       "      <td>-999.000</td>\n",
       "      <td>0.000</td>\n",
       "    </tr>\n",
       "  </tbody>\n",
       "</table>\n",
       "<p>5 rows × 32 columns</p>\n",
       "</div>"
      ],
      "text/plain": [
       "       Id Prediction  DER_mass_MMC  DER_mass_transverse_met_lep  DER_mass_vis  \\\n",
       "0  100000          s       138.470                       51.655        97.827   \n",
       "1  100001          b       160.937                       68.768       103.235   \n",
       "2  100002          b      -999.000                      162.172       125.953   \n",
       "3  100003          b       143.905                       81.417        80.943   \n",
       "4  100004          b       175.864                       16.915       134.805   \n",
       "\n",
       "   DER_pt_h  DER_deltaeta_jet_jet  DER_mass_jet_jet  DER_prodeta_jet_jet  \\\n",
       "0    27.980                  0.91           124.711                2.666   \n",
       "1    48.146               -999.00          -999.000             -999.000   \n",
       "2    35.635               -999.00          -999.000             -999.000   \n",
       "3     0.414               -999.00          -999.000             -999.000   \n",
       "4    16.405               -999.00          -999.000             -999.000   \n",
       "\n",
       "   DER_deltar_tau_lep  ...  PRI_met_phi  PRI_met_sumet  PRI_jet_num  \\\n",
       "0               3.064  ...       -0.277        258.733            2   \n",
       "1               3.473  ...       -1.916        164.546            1   \n",
       "2               3.148  ...       -2.186        260.414            1   \n",
       "3               3.310  ...        0.060         86.062            0   \n",
       "4               3.891  ...       -0.871         53.131            0   \n",
       "\n",
       "   PRI_jet_leading_pt  PRI_jet_leading_eta  PRI_jet_leading_phi  \\\n",
       "0              67.435                2.150                0.444   \n",
       "1              46.226                0.725                1.158   \n",
       "2              44.251                2.053               -2.028   \n",
       "3            -999.000             -999.000             -999.000   \n",
       "4            -999.000             -999.000             -999.000   \n",
       "\n",
       "   PRI_jet_subleading_pt  PRI_jet_subleading_eta  PRI_jet_subleading_phi  \\\n",
       "0                 46.062                    1.24                  -2.475   \n",
       "1               -999.000                 -999.00                -999.000   \n",
       "2               -999.000                 -999.00                -999.000   \n",
       "3               -999.000                 -999.00                -999.000   \n",
       "4               -999.000                 -999.00                -999.000   \n",
       "\n",
       "   PRI_jet_all_pt  \n",
       "0         113.497  \n",
       "1          46.226  \n",
       "2          44.251  \n",
       "3           0.000  \n",
       "4           0.000  \n",
       "\n",
       "[5 rows x 32 columns]"
      ]
     },
     "execution_count": 89,
     "metadata": {},
     "output_type": "execute_result"
    }
   ],
   "source": [
    "print(y.shape, tX.shape, ids.shape)\n",
    "data = pd.read_csv('data/train.csv')\n",
    "data.head(5)"
   ]
  },
  {
   "cell_type": "code",
   "execution_count": 90,
   "metadata": {},
   "outputs": [
    {
     "data": {
      "text/html": [
       "<div>\n",
       "<style scoped>\n",
       "    .dataframe tbody tr th:only-of-type {\n",
       "        vertical-align: middle;\n",
       "    }\n",
       "\n",
       "    .dataframe tbody tr th {\n",
       "        vertical-align: top;\n",
       "    }\n",
       "\n",
       "    .dataframe thead th {\n",
       "        text-align: right;\n",
       "    }\n",
       "</style>\n",
       "<table border=\"1\" class=\"dataframe\">\n",
       "  <thead>\n",
       "    <tr style=\"text-align: right;\">\n",
       "      <th></th>\n",
       "      <th>Id</th>\n",
       "      <th>DER_mass_MMC</th>\n",
       "      <th>DER_mass_transverse_met_lep</th>\n",
       "      <th>DER_mass_vis</th>\n",
       "      <th>DER_pt_h</th>\n",
       "      <th>DER_deltaeta_jet_jet</th>\n",
       "      <th>DER_mass_jet_jet</th>\n",
       "      <th>DER_prodeta_jet_jet</th>\n",
       "      <th>DER_deltar_tau_lep</th>\n",
       "      <th>DER_pt_tot</th>\n",
       "      <th>...</th>\n",
       "      <th>PRI_met_phi</th>\n",
       "      <th>PRI_met_sumet</th>\n",
       "      <th>PRI_jet_num</th>\n",
       "      <th>PRI_jet_leading_pt</th>\n",
       "      <th>PRI_jet_leading_eta</th>\n",
       "      <th>PRI_jet_leading_phi</th>\n",
       "      <th>PRI_jet_subleading_pt</th>\n",
       "      <th>PRI_jet_subleading_eta</th>\n",
       "      <th>PRI_jet_subleading_phi</th>\n",
       "      <th>PRI_jet_all_pt</th>\n",
       "    </tr>\n",
       "  </thead>\n",
       "  <tbody>\n",
       "    <tr>\n",
       "      <td>count</td>\n",
       "      <td>250000.000000</td>\n",
       "      <td>250000.000000</td>\n",
       "      <td>250000.000000</td>\n",
       "      <td>250000.000000</td>\n",
       "      <td>250000.000000</td>\n",
       "      <td>250000.000000</td>\n",
       "      <td>250000.000000</td>\n",
       "      <td>250000.000000</td>\n",
       "      <td>250000.000000</td>\n",
       "      <td>250000.000000</td>\n",
       "      <td>...</td>\n",
       "      <td>250000.000000</td>\n",
       "      <td>250000.000000</td>\n",
       "      <td>250000.000000</td>\n",
       "      <td>250000.000000</td>\n",
       "      <td>250000.000000</td>\n",
       "      <td>250000.000000</td>\n",
       "      <td>250000.000000</td>\n",
       "      <td>250000.000000</td>\n",
       "      <td>250000.000000</td>\n",
       "      <td>250000.000000</td>\n",
       "    </tr>\n",
       "    <tr>\n",
       "      <td>mean</td>\n",
       "      <td>224999.500000</td>\n",
       "      <td>-49.023079</td>\n",
       "      <td>49.239819</td>\n",
       "      <td>81.181982</td>\n",
       "      <td>57.895962</td>\n",
       "      <td>-708.420675</td>\n",
       "      <td>-601.237051</td>\n",
       "      <td>-709.356603</td>\n",
       "      <td>2.373100</td>\n",
       "      <td>18.917332</td>\n",
       "      <td>...</td>\n",
       "      <td>-0.010119</td>\n",
       "      <td>209.797178</td>\n",
       "      <td>0.979176</td>\n",
       "      <td>-348.329567</td>\n",
       "      <td>-399.254314</td>\n",
       "      <td>-399.259788</td>\n",
       "      <td>-692.381204</td>\n",
       "      <td>-709.121609</td>\n",
       "      <td>-709.118631</td>\n",
       "      <td>73.064591</td>\n",
       "    </tr>\n",
       "    <tr>\n",
       "      <td>std</td>\n",
       "      <td>72168.927986</td>\n",
       "      <td>406.345647</td>\n",
       "      <td>35.344886</td>\n",
       "      <td>40.828691</td>\n",
       "      <td>63.655682</td>\n",
       "      <td>454.480565</td>\n",
       "      <td>657.972302</td>\n",
       "      <td>453.019877</td>\n",
       "      <td>0.782911</td>\n",
       "      <td>22.273494</td>\n",
       "      <td>...</td>\n",
       "      <td>1.812223</td>\n",
       "      <td>126.499506</td>\n",
       "      <td>0.977426</td>\n",
       "      <td>532.962789</td>\n",
       "      <td>489.338286</td>\n",
       "      <td>489.333883</td>\n",
       "      <td>479.875496</td>\n",
       "      <td>453.384624</td>\n",
       "      <td>453.389017</td>\n",
       "      <td>98.015662</td>\n",
       "    </tr>\n",
       "    <tr>\n",
       "      <td>min</td>\n",
       "      <td>100000.000000</td>\n",
       "      <td>-999.000000</td>\n",
       "      <td>0.000000</td>\n",
       "      <td>6.329000</td>\n",
       "      <td>0.000000</td>\n",
       "      <td>-999.000000</td>\n",
       "      <td>-999.000000</td>\n",
       "      <td>-999.000000</td>\n",
       "      <td>0.208000</td>\n",
       "      <td>0.000000</td>\n",
       "      <td>...</td>\n",
       "      <td>-3.142000</td>\n",
       "      <td>13.678000</td>\n",
       "      <td>0.000000</td>\n",
       "      <td>-999.000000</td>\n",
       "      <td>-999.000000</td>\n",
       "      <td>-999.000000</td>\n",
       "      <td>-999.000000</td>\n",
       "      <td>-999.000000</td>\n",
       "      <td>-999.000000</td>\n",
       "      <td>0.000000</td>\n",
       "    </tr>\n",
       "    <tr>\n",
       "      <td>25%</td>\n",
       "      <td>162499.750000</td>\n",
       "      <td>78.100750</td>\n",
       "      <td>19.241000</td>\n",
       "      <td>59.388750</td>\n",
       "      <td>14.068750</td>\n",
       "      <td>-999.000000</td>\n",
       "      <td>-999.000000</td>\n",
       "      <td>-999.000000</td>\n",
       "      <td>1.810000</td>\n",
       "      <td>2.841000</td>\n",
       "      <td>...</td>\n",
       "      <td>-1.575000</td>\n",
       "      <td>123.017500</td>\n",
       "      <td>0.000000</td>\n",
       "      <td>-999.000000</td>\n",
       "      <td>-999.000000</td>\n",
       "      <td>-999.000000</td>\n",
       "      <td>-999.000000</td>\n",
       "      <td>-999.000000</td>\n",
       "      <td>-999.000000</td>\n",
       "      <td>0.000000</td>\n",
       "    </tr>\n",
       "    <tr>\n",
       "      <td>50%</td>\n",
       "      <td>224999.500000</td>\n",
       "      <td>105.012000</td>\n",
       "      <td>46.524000</td>\n",
       "      <td>73.752000</td>\n",
       "      <td>38.467500</td>\n",
       "      <td>-999.000000</td>\n",
       "      <td>-999.000000</td>\n",
       "      <td>-999.000000</td>\n",
       "      <td>2.491500</td>\n",
       "      <td>12.315500</td>\n",
       "      <td>...</td>\n",
       "      <td>-0.024000</td>\n",
       "      <td>179.739000</td>\n",
       "      <td>1.000000</td>\n",
       "      <td>38.960000</td>\n",
       "      <td>-1.872000</td>\n",
       "      <td>-2.093000</td>\n",
       "      <td>-999.000000</td>\n",
       "      <td>-999.000000</td>\n",
       "      <td>-999.000000</td>\n",
       "      <td>40.512500</td>\n",
       "    </tr>\n",
       "    <tr>\n",
       "      <td>75%</td>\n",
       "      <td>287499.250000</td>\n",
       "      <td>130.606250</td>\n",
       "      <td>73.598000</td>\n",
       "      <td>92.259000</td>\n",
       "      <td>79.169000</td>\n",
       "      <td>0.490000</td>\n",
       "      <td>83.446000</td>\n",
       "      <td>-4.593000</td>\n",
       "      <td>2.961000</td>\n",
       "      <td>27.591000</td>\n",
       "      <td>...</td>\n",
       "      <td>1.561000</td>\n",
       "      <td>263.379250</td>\n",
       "      <td>2.000000</td>\n",
       "      <td>75.349000</td>\n",
       "      <td>0.433000</td>\n",
       "      <td>0.503000</td>\n",
       "      <td>33.703000</td>\n",
       "      <td>-2.457000</td>\n",
       "      <td>-2.275000</td>\n",
       "      <td>109.933750</td>\n",
       "    </tr>\n",
       "    <tr>\n",
       "      <td>max</td>\n",
       "      <td>349999.000000</td>\n",
       "      <td>1192.026000</td>\n",
       "      <td>690.075000</td>\n",
       "      <td>1349.351000</td>\n",
       "      <td>2834.999000</td>\n",
       "      <td>8.503000</td>\n",
       "      <td>4974.979000</td>\n",
       "      <td>16.690000</td>\n",
       "      <td>5.684000</td>\n",
       "      <td>2834.999000</td>\n",
       "      <td>...</td>\n",
       "      <td>3.142000</td>\n",
       "      <td>2003.976000</td>\n",
       "      <td>3.000000</td>\n",
       "      <td>1120.573000</td>\n",
       "      <td>4.499000</td>\n",
       "      <td>3.141000</td>\n",
       "      <td>721.456000</td>\n",
       "      <td>4.500000</td>\n",
       "      <td>3.142000</td>\n",
       "      <td>1633.433000</td>\n",
       "    </tr>\n",
       "  </tbody>\n",
       "</table>\n",
       "<p>8 rows × 31 columns</p>\n",
       "</div>"
      ],
      "text/plain": [
       "                  Id   DER_mass_MMC  DER_mass_transverse_met_lep  \\\n",
       "count  250000.000000  250000.000000                250000.000000   \n",
       "mean   224999.500000     -49.023079                    49.239819   \n",
       "std     72168.927986     406.345647                    35.344886   \n",
       "min    100000.000000    -999.000000                     0.000000   \n",
       "25%    162499.750000      78.100750                    19.241000   \n",
       "50%    224999.500000     105.012000                    46.524000   \n",
       "75%    287499.250000     130.606250                    73.598000   \n",
       "max    349999.000000    1192.026000                   690.075000   \n",
       "\n",
       "        DER_mass_vis       DER_pt_h  DER_deltaeta_jet_jet  DER_mass_jet_jet  \\\n",
       "count  250000.000000  250000.000000         250000.000000     250000.000000   \n",
       "mean       81.181982      57.895962           -708.420675       -601.237051   \n",
       "std        40.828691      63.655682            454.480565        657.972302   \n",
       "min         6.329000       0.000000           -999.000000       -999.000000   \n",
       "25%        59.388750      14.068750           -999.000000       -999.000000   \n",
       "50%        73.752000      38.467500           -999.000000       -999.000000   \n",
       "75%        92.259000      79.169000              0.490000         83.446000   \n",
       "max      1349.351000    2834.999000              8.503000       4974.979000   \n",
       "\n",
       "       DER_prodeta_jet_jet  DER_deltar_tau_lep     DER_pt_tot  ...  \\\n",
       "count        250000.000000       250000.000000  250000.000000  ...   \n",
       "mean           -709.356603            2.373100      18.917332  ...   \n",
       "std             453.019877            0.782911      22.273494  ...   \n",
       "min            -999.000000            0.208000       0.000000  ...   \n",
       "25%            -999.000000            1.810000       2.841000  ...   \n",
       "50%            -999.000000            2.491500      12.315500  ...   \n",
       "75%              -4.593000            2.961000      27.591000  ...   \n",
       "max              16.690000            5.684000    2834.999000  ...   \n",
       "\n",
       "         PRI_met_phi  PRI_met_sumet    PRI_jet_num  PRI_jet_leading_pt  \\\n",
       "count  250000.000000  250000.000000  250000.000000       250000.000000   \n",
       "mean       -0.010119     209.797178       0.979176         -348.329567   \n",
       "std         1.812223     126.499506       0.977426          532.962789   \n",
       "min        -3.142000      13.678000       0.000000         -999.000000   \n",
       "25%        -1.575000     123.017500       0.000000         -999.000000   \n",
       "50%        -0.024000     179.739000       1.000000           38.960000   \n",
       "75%         1.561000     263.379250       2.000000           75.349000   \n",
       "max         3.142000    2003.976000       3.000000         1120.573000   \n",
       "\n",
       "       PRI_jet_leading_eta  PRI_jet_leading_phi  PRI_jet_subleading_pt  \\\n",
       "count        250000.000000        250000.000000          250000.000000   \n",
       "mean           -399.254314          -399.259788            -692.381204   \n",
       "std             489.338286           489.333883             479.875496   \n",
       "min            -999.000000          -999.000000            -999.000000   \n",
       "25%            -999.000000          -999.000000            -999.000000   \n",
       "50%              -1.872000            -2.093000            -999.000000   \n",
       "75%               0.433000             0.503000              33.703000   \n",
       "max               4.499000             3.141000             721.456000   \n",
       "\n",
       "       PRI_jet_subleading_eta  PRI_jet_subleading_phi  PRI_jet_all_pt  \n",
       "count           250000.000000           250000.000000   250000.000000  \n",
       "mean              -709.121609             -709.118631       73.064591  \n",
       "std                453.384624              453.389017       98.015662  \n",
       "min               -999.000000             -999.000000        0.000000  \n",
       "25%               -999.000000             -999.000000        0.000000  \n",
       "50%               -999.000000             -999.000000       40.512500  \n",
       "75%                 -2.457000               -2.275000      109.933750  \n",
       "max                  4.500000                3.142000     1633.433000  \n",
       "\n",
       "[8 rows x 31 columns]"
      ]
     },
     "execution_count": 90,
     "metadata": {},
     "output_type": "execute_result"
    }
   ],
   "source": [
    "data.describe()"
   ]
  },
  {
   "cell_type": "markdown",
   "metadata": {},
   "source": [
    "### Correlation Matrix"
   ]
  },
  {
   "cell_type": "code",
   "execution_count": 91,
   "metadata": {},
   "outputs": [
    {
     "data": {
      "image/png": "[encoded data removed]",
      "text/plain": [
       "<Figure size 1008x720 with 2 Axes>"
      ]
     },
     "metadata": {
      "needs_background": "light"
     },
     "output_type": "display_data"
    }
   ],
   "source": [
    "f = plt.figure(figsize=(14, 10))\n",
    "plt.matshow(data.corr(), fignum=f.number)\n",
    "plt.xticks(range(data.select_dtypes(['number']).shape[1]), data.select_dtypes(['number']).columns, rotation=90)\n",
    "plt.yticks(range(data.select_dtypes(['number']).shape[1]), data.select_dtypes(['number']).columns)\n",
    "cb = plt.colorbar()"
   ]
  },
  {
   "cell_type": "markdown",
   "metadata": {},
   "source": [
    "### Get the most important features"
   ]
  },
  {
   "cell_type": "code",
   "execution_count": 92,
   "metadata": {},
   "outputs": [
    {
     "name": "stdout",
     "output_type": "stream",
     "text": [
      "Feature: 0, Score: 0.00007\n",
      "Feature: 1, Score: -0.00714\n",
      "Feature: 2, Score: -0.00624\n",
      "Feature: 3, Score: -0.00048\n",
      "Feature: 4, Score: -0.00308\n",
      "Feature: 5, Score: 0.00045\n",
      "Feature: 6, Score: -0.02382\n",
      "Feature: 7, Score: 0.34216\n",
      "Feature: 8, Score: -0.00011\n",
      "Feature: 9, Score: -2.84184\n",
      "Feature: 10, Score: -0.21622\n",
      "Feature: 11, Score: 0.09554\n",
      "Feature: 12, Score: 0.04520\n",
      "Feature: 13, Score: 2.85041\n",
      "Feature: 14, Score: -0.00026\n",
      "Feature: 15, Score: -0.00100\n",
      "Feature: 16, Score: 2.85488\n",
      "Feature: 17, Score: -0.00035\n",
      "Feature: 18, Score: 0.00085\n",
      "Feature: 19, Score: 0.00369\n",
      "Feature: 20, Score: 0.00022\n",
      "Feature: 21, Score: -0.00050\n",
      "Feature: 22, Score: -0.21152\n",
      "Feature: 23, Score: -0.00022\n",
      "Feature: 24, Score: 0.00020\n",
      "Feature: 25, Score: 0.00034\n",
      "Feature: 26, Score: -0.00007\n",
      "Feature: 27, Score: -0.00658\n",
      "Feature: 28, Score: -0.01183\n",
      "Feature: 29, Score: 2.84109\n"
     ]
    },
    {
     "data": {
      "image/png": "[encoded data removed]",
      "text/plain": [
       "<Figure size 432x288 with 1 Axes>"
      ]
     },
     "metadata": {
      "needs_background": "light"
     },
     "output_type": "display_data"
    }
   ],
   "source": [
    "from sklearn.datasets import make_regression\n",
    "from sklearn.linear_model import LinearRegression\n",
    "from matplotlib import pyplot\n",
    "\n",
    "model = LinearRegression()\n",
    "model.fit(tX, y)\n",
    "importance_score = model.coef_\n",
    "for i,j in enumerate(importance_score):\n",
    "    print('Feature: %0d, Score: %.5f' % (i,j))\n",
    "pyplot.bar([x for x in range(len(importance_score))], importance_score)\n",
    "pyplot.show()"
   ]
  },
  {
   "cell_type": "markdown",
   "metadata": {},
   "source": [
    "Visualize feature correlation"
   ]
  },
  {
   "cell_type": "code",
   "execution_count": 93,
   "metadata": {},
   "outputs": [
    {
     "data": {
      "image/png": "[encoded data removed]",
      "text/plain": [
       "<Figure size 432x288 with 1 Axes>"
      ]
     },
     "metadata": {
      "needs_background": "light"
     },
     "output_type": "display_data"
    }
   ],
   "source": [
    "x = data['DER_mass_vis'] #enter any feature to check for correlation to label.\n",
    "plt.scatter(x, y) \n",
    "plt.plot()\n",
    "plt.show()"
   ]
  },
  {
   "cell_type": "markdown",
   "metadata": {},
   "source": [
    "Visualization of the predictions to show if the data set is balanced. Since we have a slightly unbalanced dataset we will evaluate the performance with the F1-Score which is a more telling method for evaluation."
   ]
  },
  {
   "cell_type": "code",
   "execution_count": 94,
   "metadata": {},
   "outputs": [
    {
     "name": "stdout",
     "output_type": "stream",
     "text": [
      "Ratio: 0.521\n"
     ]
    },
    {
     "data": {
      "image/png": "[encoded data removed]",
      "text/plain": [
       "<Figure size 432x288 with 1 Axes>"
      ]
     },
     "metadata": {
      "needs_background": "light"
     },
     "output_type": "display_data"
    }
   ],
   "source": [
    "count = collections.Counter(y)\n",
    "balance = [count[-1], count[1]]\n",
    "vis = pd.Series(balance, index=range(len(balance)))\n",
    "vis.plot(kind=\"bar\", rot=0)\n",
    "plt.plot()\n",
    "print(\"Ratio:\", round(count[1]/count[-1],3))"
   ]
  },
  {
   "cell_type": "markdown",
   "metadata": {},
   "source": [
    "## Parameter tuning"
   ]
  },
  {
   "cell_type": "markdown",
   "metadata": {},
   "source": [
    "### Scoring functions"
   ]
  },
  {
   "cell_type": "code",
   "execution_count": 2,
   "metadata": {},
   "outputs": [],
   "source": [
    "def f1_score(y_valid, tX_valid, weights):\n",
    "    \"\"\"\n",
    "    Return the F1-score achieved with the predictions of a validation set\n",
    "\n",
    "    Parameters\n",
    "    ----------\n",
    "    y_valid : np.ndarray\n",
    "        Vector with the validation labels.\n",
    "    tX_valid : np.ndarray\n",
    "        Array with the validation samples as rows and the features as columns.\n",
    "    weights : np.ndarray\n",
    "        Vector containing the weights.\n",
    "\n",
    "    Returns\n",
    "    -------\n",
    "    f1 : float\n",
    "        F1-score for this configuration (the closer to 1 the better)\n",
    "\n",
    "    References\n",
    "    ----------\n",
    "    [1] Wikipedia entry for 'Precision and recall'\n",
    "        https://en.wikipedia.org/wiki/Precision_and_recall\n",
    "    [2] Wikipedia entry for 'F-score'\n",
    "        https://en.wikipedia.org/wiki/F-score\n",
    "\n",
    "    \"\"\"\n",
    "\n",
    "    y_pred = predict_labels(weights, tX_valid) # Obtaining the predictions\n",
    "\n",
    "    # Calculating number of true positives, false positives, and false negatives\n",
    "    num_tp = np.sum((y_valid == 1) & (y_pred == 1))\n",
    "    num_fp = np.sum((y_valid == -1) & (y_pred == 1))\n",
    "    num_fn = np.sum((y_valid == 1) & (y_pred == -1))\n",
    "    precision = num_tp / (num_tp + num_fp)\n",
    "    recall = num_tp / (num_tp + num_fn)\n",
    "    f1 = np.round(2 * precision * recall / (precision + recall), 4)\n",
    "    return f1"
   ]
  },
  {
   "cell_type": "code",
   "execution_count": 3,
   "metadata": {},
   "outputs": [],
   "source": [
    "def accuracy(y_valid, tX_valid, weights):\n",
    "    \"\"\"\n",
    "    Return the accuracy achieved with the predictions of a validation set\n",
    "\n",
    "    Parameters\n",
    "    ----------\n",
    "    y_valid : np.ndarray\n",
    "        Vector with the validation labels.\n",
    "    tX_valid : np.ndarray\n",
    "        Array with the validation samples as rows and the features as columns.\n",
    "    weights : np.ndarray\n",
    "        Vector containing the weights.\n",
    "\n",
    "    Returns\n",
    "    -------\n",
    "    acc : float\n",
    "        Accuracy for this configuration (the closer to 1 the better)\n",
    "\n",
    "    References\n",
    "    ----------\n",
    "    [3] Wikipedia entry for 'Accuracy and precision'\n",
    "        https://en.wikipedia.org/wiki/Accuracy_and_precision\n",
    "\n",
    "    \"\"\"\n",
    "\n",
    "    y_pred = predict_labels(weights, tX_valid) # Obtaining the predictions\n",
    "    num_tp_tn = np.sum(y_valid == y_pred) # Calculating number of true positives and negatives\n",
    "    acc = np.round(num_tp_tn / len(y_valid), 4)\n",
    "    return acc"
   ]
  },
  {
   "cell_type": "markdown",
   "metadata": {},
   "source": [
    "### Cross validation"
   ]
  },
  {
   "cell_type": "code",
   "execution_count": 28,
   "metadata": {},
   "outputs": [],
   "source": [
    "def cross_validate(regressor, y, tX, max_degree, offset, param, k_fold, score='f1'):\n",
    "    \"\"\"\n",
    "    'k_fold' cross validate a regressor with parameters 'param', data '(y, TX)' \n",
    "    and score the predictions with 'score'\n",
    "\n",
    "    Parameters\n",
    "    ----------\n",
    "    regressor : str\n",
    "        String that defines which regressor to use\n",
    "    y : np.ndarray\n",
    "        Vector with the labels.\n",
    "    tX : np.ndarray\n",
    "        Array with the samples as rows and the features as columns.\n",
    "    max_degree : int\n",
    "        Highest degree element in polynomial basis.\n",
    "    offset : bool\n",
    "        Include offset or not in polynomial basis.\n",
    "    param : np.ndarray\n",
    "        Parameters on weight, gamma and max_iterations\n",
    "    k_fold : int\n",
    "        Integer that defines how many folds to make\n",
    "    score : float\n",
    "        Float of a given performance score (e.g. f1)\n",
    "\n",
    "    Returns\n",
    "    -------\n",
    "    mean : float\n",
    "        Mean of the scores achieved in k-fold cross validation\n",
    "    std : float\n",
    "        Standard deviation of scores achieved in k-fold cross validation\n",
    "\n",
    "    \"\"\"\n",
    "\n",
    "    if offset:\n",
    "        start = 0\n",
    "    else:\n",
    "        start = 1\n",
    "\n",
    "    degrees = range(start, max_degree)\n",
    "    tX_poly = polynomial_basis(tX, degrees, std=True)\n",
    "\n",
    "    fold_size = int(len(y) / k_fold)\n",
    "    scores = []\n",
    "    rand_ind = np.random.permutation(np.arange(len(y)))\n",
    "    for k in range(k_fold):\n",
    "        valid_ind = rand_ind[k*fold_size:(k+1)*fold_size] # Splitting data set into validation and training set (for current fold)\n",
    "        tX_train, y_train = tX_poly[valid_ind], y[valid_ind]\n",
    "        tX_valid, y_valid = np.delete(tX_poly, valid_ind, axis=0), np.delete(y, valid_ind, axis=0)\n",
    "        weights, _ = eval(regressor)(y_train, tX_train, **param) # Fitting/scoring regressor with the tarining/validation set\n",
    "        if score == 'f1': # Scoring according to the scoring criterion\n",
    "            scores.append(f1_score(y_valid, tX_valid, weights))\n",
    "        else:\n",
    "            scores.append(accuracy(y_valid, tX_valid, weights))\n",
    "    return np.mean(scores), np.std(scores, ddof=1)"
   ]
  },
  {
   "cell_type": "code",
   "execution_count": 5,
   "metadata": {},
   "outputs": [],
   "source": [
    "def best_parameters(regressor, y, tX, params, k_fold, score):\n",
    "    \n",
    "    \"\"\"\n",
    "    Find best parameters from a list of parameters with k_fold cross validation.\n",
    "\n",
    "    Parameters\n",
    "    ----------\n",
    "    regressor : String\n",
    "        String that defines which regressor to use\n",
    "    y : np.ndarray\n",
    "        Vector with the labels.\n",
    "    tX : np.ndarray\n",
    "        Array with the samples as rows and the features as columns.\n",
    "    degree : int\n",
    "        Degree of the polynomial basis\n",
    "    offset : bool\n",
    "        Include offset\n",
    "    param : np.ndarray\n",
    "        Parameters on weight, gamma and max_iterations\n",
    "    k_fold : Integer\n",
    "        Integer that defines how many folds to make\n",
    "    score : float\n",
    "        Float of a given performance score (e.g. f1)\n",
    "\n",
    "    Returns\n",
    "    -------\n",
    "    \n",
    "    \"\"\"\n",
    "\n",
    "    max_std_score = 0.0\n",
    "    max_mean_score = 0.0\n",
    "    max_param = {}\n",
    "    for param in params:\n",
    "        mean_score, std_score = cross_validate(regressor, y, tX, param, k_fold, score)\n",
    "        if mean_score > max_mean_score: # Checking for the best score\n",
    "            max_mean_score = mean_score\n",
    "            max_std_score = std_score\n",
    "            max_param = param\n",
    "    max_gammas.append(max_param[\"gamma\"])\n",
    "    max_scores.append(max_mean_score)\n",
    "    max_iters.append(max_param[\"max_iters\"])\n",
    "    print(\"Best parameter set for '\", regressor, \"' was:\")\n",
    "    print(\"param = \", max_param)\n",
    "    print(\"Mean \", score, \" score: \", max_mean_score, \" +/- \", max_std_score)"
   ]
  },
  {
   "cell_type": "code",
   "execution_count": 24,
   "metadata": {},
   "outputs": [],
   "source": [
    "max_gammas = []\n",
    "max_scores = []\n",
    "max_iters = []"
   ]
  },
  {
   "cell_type": "markdown",
   "metadata": {},
   "source": [
    "### Least squares gradient descent"
   ]
  },
  {
   "cell_type": "code",
   "execution_count": 31,
   "metadata": {},
   "outputs": [
    {
     "data": {
      "text/plain": [
       "<Figure size 269.291x198.425 with 0 Axes>"
      ]
     },
     "metadata": {},
     "output_type": "display_data"
    },
    {
     "data": {
      "image/png": "[encoded data removed]",
      "text/plain": [
       "<Figure size 288x288 with 1 Axes>"
      ]
     },
     "metadata": {
      "needs_background": "light"
     },
     "output_type": "display_data"
    }
   ],
   "source": [
    "plt.figure(figsize=(9.5*cm, 7*cm))\n",
    "\n",
    "degrees = np.linspace(1, 5, 5, dtype=int)\n",
    "gammas = np.logspace(-5, -1, 5)\n",
    "\n",
    "mean, std = np.frompyfunc(\n",
    "    lambda degree, gamma: cross_validate('least_squares_GD',\n",
    "                                            y, tX, degree, False,\n",
    "                                            {'gamma': gamma},\n",
    "                                            4, 'acc'),\n",
    "    2, 2).outer(degrees, gammas)\n",
    "\n",
    "plt.matshow(mean.astype(np.float))\n",
    "plt.xticks(range(len(gammas)), gammas)\n",
    "plt.yticks(range(len(degrees)), degrees)\n",
    "plt.xlabel(r'Learning rate $\\gamma$')\n",
    "plt.ylabel(r'Degree of polynomial basis')\n",
    "\n",
    "for (i, j), z in np.ndenumerate(mean):\n",
    "    plt.text(j, i, '{:0.4f}'.format(z), ha='center', va='center')\n",
    "\n",
    "plt.savefig('report/figures/grad_desc_gridsearch.pdf', bbox_inches='tight')"
   ]
  },
  {
   "cell_type": "markdown",
   "metadata": {},
   "source": [
    "### Least squares stochastic gradient descent"
   ]
  },
  {
   "cell_type": "code",
   "execution_count": 32,
   "metadata": {},
   "outputs": [
    {
     "name": "stderr",
     "output_type": "stream",
     "text": [
      "c:\\Users\\Fabio\\Documents\\ML_project1\\implementations.py:289: RuntimeWarning: overflow encountered in multiply\n",
      "  grad_rand = - e_rand * tX_rand # Random gradient for MSE loss\n",
      "c:\\Users\\Fabio\\Documents\\ML_project1\\implementations.py:290: RuntimeWarning: invalid value encountered in subtract\n",
      "  w = w - gamma * grad_rand # Updating with scaled negative gradient\n",
      "c:\\Users\\Fabio\\Documents\\ML_project1\\implementations.py:178: RuntimeWarning: overflow encountered in square\n",
      "  return np.mean((y - np.dot(tX, w))**2) / 2\n"
     ]
    },
    {
     "data": {
      "text/plain": [
       "<Figure size 269.291x198.425 with 0 Axes>"
      ]
     },
     "metadata": {},
     "output_type": "display_data"
    },
    {
     "data": {
      "image/png": "[encoded data removed]",
      "text/plain": [
       "<Figure size 288x288 with 1 Axes>"
      ]
     },
     "metadata": {
      "needs_background": "light"
     },
     "output_type": "display_data"
    }
   ],
   "source": [
    "plt.figure(figsize=(9.5*cm, 7*cm))\n",
    "\n",
    "degrees = np.linspace(1, 5, 5, dtype=int)\n",
    "gammas = np.logspace(-5, -1, 5)\n",
    "\n",
    "mean, std = np.frompyfunc(\n",
    "    lambda degree, gamma: cross_validate('least_squares_SGD',\n",
    "                                            y, tX, degree, False,\n",
    "                                            {'gamma': gamma},\n",
    "                                            4, 'acc'),\n",
    "    2, 2).outer(degrees, gammas)\n",
    "\n",
    "plt.matshow(mean.astype(np.float))\n",
    "plt.xticks(range(len(gammas)), gammas)\n",
    "plt.yticks(range(len(degrees)), degrees)\n",
    "plt.xlabel(r'Learning rate $\\gamma$')\n",
    "plt.ylabel(r'Degree of polynomial basis')\n",
    "\n",
    "for (i, j), z in np.ndenumerate(mean):\n",
    "    plt.text(j, i, '{:0.4f}'.format(z), ha='center', va='center')\n",
    "\n",
    "plt.savefig('report/figures/stoch_grad_desc_gridsearch.pdf', bbox_inches='tight')"
   ]
  },
  {
   "cell_type": "markdown",
   "metadata": {},
   "source": [
    "### Ridge regression"
   ]
  },
  {
   "cell_type": "code",
   "execution_count": 38,
   "metadata": {},
   "outputs": [
    {
     "data": {
      "text/plain": [
       "<Figure size 269.291x198.425 with 0 Axes>"
      ]
     },
     "metadata": {},
     "output_type": "display_data"
    },
    {
     "data": {
      "image/png": "[encoded data removed]",
      "text/plain": [
       "<Figure size 288x288 with 1 Axes>"
      ]
     },
     "metadata": {
      "needs_background": "light"
     },
     "output_type": "display_data"
    }
   ],
   "source": [
    "plt.figure(figsize=(9.5*cm, 7*cm))\n",
    "\n",
    "degrees = np.linspace(1, 5, 5, dtype=int)\n",
    "lambdas = np.logspace(-5, -1, 5)\n",
    "\n",
    "mean, std = np.frompyfunc(\n",
    "    lambda degree, lambda_: cross_validate('ridge_regression',\n",
    "                                    y, tX, degree, False,\n",
    "                                    {'lambda_' : lambda_},\n",
    "                                    4, 'acc'),\n",
    "    2, 2).outer(degrees, lambdas)\n",
    "\n",
    "plt.matshow(mean.astype(np.float))\n",
    "plt.xticks(range(len(lambdas)), lambdas)\n",
    "plt.yticks(range(len(degrees)), degrees)\n",
    "plt.ylabel(r'Degree of polynomial basis')\n",
    "plt.xlabel(r'Regulization $\\lambda$')\n",
    "\n",
    "for (i, j), z in np.ndenumerate(mean):\n",
    "    plt.text(j, i, '{:0.4f}'.format(z), ha='center', va='center')\n",
    "\n",
    "plt.savefig('report/figures/ridge_regression_gridsearch.pdf', bbox_inches='tight')"
   ]
  },
  {
   "cell_type": "markdown",
   "metadata": {},
   "source": [
    "### Logistic regression"
   ]
  },
  {
   "cell_type": "code",
   "execution_count": 40,
   "metadata": {},
   "outputs": [
    {
     "data": {
      "text/plain": [
       "<Figure size 269.291x198.425 with 0 Axes>"
      ]
     },
     "metadata": {},
     "output_type": "display_data"
    },
    {
     "data": {
      "image/png": "[encoded data removed]",
      "text/plain": [
       "<Figure size 288x288 with 1 Axes>"
      ]
     },
     "metadata": {
      "needs_background": "light"
     },
     "output_type": "display_data"
    }
   ],
   "source": [
    "plt.figure(figsize=(9.5*cm, 7*cm))\n",
    "\n",
    "degrees = np.linspace(1, 5, 5, dtype=int)\n",
    "gammas = np.logspace(-8, -4, 5)\n",
    "\n",
    "mean, std = np.frompyfunc(\n",
    "    lambda degree, gamma: cross_validate('reg_logistic_regression',\n",
    "                                            y, tX, degree, True,\n",
    "                                            {'gamma' : gamma},\n",
    "                                            4, 'acc'),\n",
    "    2, 2).outer(degrees, gammas)\n",
    "\n",
    "plt.matshow(mean.astype(np.float))\n",
    "plt.xticks(range(len(lambdas)), lambdas)\n",
    "plt.yticks(range(len(degrees)), degrees)\n",
    "plt.xlabel(r'Learning rate $\\gamma$')\n",
    "plt.ylabel(r'Degree of polynomial basis')\n",
    "\n",
    "for (i, j), z in np.ndenumerate(mean):\n",
    "    plt.text(j, i, '{:0.4f}'.format(z), ha='center', va='center')\n",
    "\n",
    "plt.savefig('report/figures/log_reg_gridsearch.pdf', bbox_inches='tight')"
   ]
  },
  {
   "cell_type": "markdown",
   "metadata": {},
   "source": [
    "### Regularized logistic regression"
   ]
  },
  {
   "cell_type": "code",
   "execution_count": 41,
   "metadata": {},
   "outputs": [
    {
     "data": {
      "text/plain": [
       "<Figure size 269.291x198.425 with 0 Axes>"
      ]
     },
     "metadata": {},
     "output_type": "display_data"
    },
    {
     "data": {
      "image/png": "[encoded data removed]",
      "text/plain": [
       "<Figure size 288x288 with 1 Axes>"
      ]
     },
     "metadata": {
      "needs_background": "light"
     },
     "output_type": "display_data"
    }
   ],
   "source": [
    "plt.figure(figsize=(9.5*cm, 7*cm))\n",
    "\n",
    "degrees = np.linspace(1, 5, 5, dtype=int)\n",
    "lambdas = np.logspace(-5, -1, 5)\n",
    "\n",
    "mean, std = np.frompyfunc(\n",
    "    lambda degree, lambda_: cross_validate('reg_logistic_regression',\n",
    "                                            y, tX, degree, True,\n",
    "                                            {'lambda_' : lambda_, 'gamma': 1e-5},\n",
    "                                            4, 'acc'),\n",
    "    2, 2).outer(degrees, lambdas)\n",
    "\n",
    "plt.matshow(mean.astype(np.float))\n",
    "plt.xticks(range(len(lambdas)), lambdas)\n",
    "plt.yticks(range(len(degrees)), degrees)\n",
    "plt.xlabel(r'Regularization $\\lambda$')\n",
    "plt.ylabel(r'Degree of polynomial basis')\n",
    "\n",
    "for (i, j), z in np.ndenumerate(mean):\n",
    "    plt.text(j, i, '{:0.4f}'.format(z), ha='center', va='center')\n",
    "\n",
    "plt.savefig('report/figures/reg_log_reg_gridsearch.pdf', bbox_inches='tight')"
   ]
  },
  {
   "cell_type": "markdown",
   "metadata": {},
   "source": [
    "## Preprocessing testing"
   ]
  },
  {
   "cell_type": "code",
   "execution_count": 80,
   "metadata": {},
   "outputs": [
    {
     "name": "stdout",
     "output_type": "stream",
     "text": [
      "F1-score achieved with 'ridge_regression', dataset  normal  : F1 =  0.6655\n",
      "Accuracy achieved with 'ridge_regression', dataset  normal  : accuracy =  0.718\n",
      "F1-score achieved with 'ridge_regression', dataset  zeros  : F1 =  0.6658\n",
      "Accuracy achieved with 'ridge_regression', dataset  zeros  : accuracy =  0.7192\n",
      "F1-score achieved with 'ridge_regression', dataset  mean  : F1 =  0.6652\n",
      "Accuracy achieved with 'ridge_regression', dataset  mean  : accuracy =  0.7194\n",
      "F1-score achieved with 'ridge_regression', dataset  median  : F1 =  0.6652\n",
      "Accuracy achieved with 'ridge_regression', dataset  median  : accuracy =  0.7197\n",
      "F1-score achieved with 'ridge_regression', dataset  binary  : F1 =  0.6655\n",
      "Accuracy achieved with 'ridge_regression', dataset  binary  : accuracy =  0.7182\n",
      "F1-score achieved with 'ridge_regression', dataset  deleted  : F1 =  0.6595\n",
      "Accuracy achieved with 'ridge_regression', dataset  deleted  : accuracy =  0.7069\n"
     ]
    }
   ],
   "source": [
    "lambda_ = 0.001\n",
    "for key in train_dict:\n",
    "    weights, loss = ridge_regression(y_train, train_dict[key], lambda_)\n",
    "    f1 = f1_score(y_valid, valid_dict[key], weights)\n",
    "    acc = accuracy(y_valid, valid_dict[key], weights)\n",
    "    print(\"F1-score achieved with 'ridge_regression', dataset \", key, \" : F1 = \", f1)\n",
    "    print(\"Accuracy achieved with 'ridge_regression', dataset \", key, \" : accuracy = \", acc)"
   ]
  },
  {
   "cell_type": "markdown",
   "metadata": {},
   "source": [
    "## Optimized Regressors"
   ]
  },
  {
   "cell_type": "code",
   "execution_count": 193,
   "metadata": {},
   "outputs": [],
   "source": [
    "def f1_score_predictions(y_valid, y_pred):\n",
    "    \"\"\"\n",
    "    Return the F1-score achieved with the predictions of a validation set\n",
    "    \n",
    "    Parameters\n",
    "    ----------\n",
    "    y_valid : np.ndarray\n",
    "        Vector with the validation labels.\n",
    "    tX_valid : np.ndarray\n",
    "        Array with the validation samples as rows and the features as columns.\n",
    "    y_pred : np.ndarray\n",
    "        Vector containing the predictions.\n",
    "\n",
    "    Returns\n",
    "    -------\n",
    "    f1 : float\n",
    "        F1-score for this configuration (the closer to 1 the better)\n",
    "\n",
    "    References\n",
    "    ----------\n",
    "    [1] Wikipedia entry for the Precision and recall\n",
    "        https://en.wikipedia.org/wiki/Precision_and_recall\n",
    "    [2] Wikipedia entry for F-score\n",
    "        https://en.wikipedia.org/wiki/F-score\n",
    "\n",
    "    \"\"\"\n",
    "\n",
    "    # Calculating number of true positives, false positives, and false negatives\n",
    "    num_tp = np.sum((y_valid == 1) & (y_pred == 1))\n",
    "    num_fp = np.sum((y_valid == -1) & (y_pred == 1))\n",
    "    num_fn = np.sum((y_valid == 1) & (y_pred == -1))\n",
    "\n",
    "    precision = num_tp / (num_tp + num_fp)\n",
    "    recall = num_tp / (num_tp + num_fn)\n",
    "    f1 = np.round(2 * precision * recall / (precision + recall),4)\n",
    "    return f1"
   ]
  },
  {
   "cell_type": "markdown",
   "metadata": {},
   "source": [
    "### Ensemble learner 1"
   ]
  },
  {
   "cell_type": "code",
   "execution_count": 194,
   "metadata": {},
   "outputs": [],
   "source": [
    "def ensemble_learner1(y, tX, tX_valid, n_learners=10, ratio=0.5):\n",
    "    \"\"\"\n",
    "    Supply 'n_learners' regressors with a random subset of size 'ratio' of the\n",
    "    features. Majority vote for the prediction.\n",
    "    \"\"\"\n",
    "\n",
    "    y_pred_final = np.zeros(len(y_valid))\n",
    "    n_features = tX.shape[1]\n",
    "\n",
    "    for i in range(n_learners):\n",
    "\n",
    "        feature_indices = np.random.choice(np.arange(n_features), int(ratio*n_features))\n",
    "        tX_slice = tX[:, feature_indices]\n",
    "        weights, _ = reg_logistic_regression(y, tX_slice, 1, np.ones(tX_slice.shape[1], dtype=float), 100, 0.01)\n",
    "\n",
    "        tX_valid_slice = tX_valid[:, feature_indices]\n",
    "        y_pred = tX_valid_slice @ weights\n",
    "        y_pred[np.where(y_pred <= 0)] = -1\n",
    "        y_pred[np.where(y_pred > 0)] = 1\n",
    "\n",
    "        y_pred_final += y_pred\n",
    "\n",
    "    y_pred_final[np.where(y_pred_final <= 0)] = -1\n",
    "    y_pred_final[np.where(y_pred_final > 0)] = 1\n",
    "\n",
    "    return y_pred_final"
   ]
  },
  {
   "cell_type": "code",
   "execution_count": 195,
   "metadata": {},
   "outputs": [
    {
     "name": "stdout",
     "output_type": "stream",
     "text": [
      "Execution time: 19.3938 sec\n",
      "F1-score achieved with 'logistic_regression': F1 =  0.4046\n"
     ]
    }
   ],
   "source": [
    "# Fitting\n",
    "start = time.time()\n",
    "y_pred = ensemble_learner1(y, tX, tX_valid, n_learners=10, ratio=0.3)\n",
    "exec_time = round(time.time()-start, 4)\n",
    "print('Execution time: {} sec'.format(exec_time))\n",
    "\n",
    "# Scoring\n",
    "f1 = f1_score_predictions(y_valid, y_pred)\n",
    "print(\"F1-score achieved with 'logistic_regression': F1 = \", f1)"
   ]
  },
  {
   "cell_type": "markdown",
   "metadata": {},
   "source": [
    "### Ensemble learner 2"
   ]
  },
  {
   "cell_type": "code",
   "execution_count": 196,
   "metadata": {},
   "outputs": [],
   "source": [
    "def ensemble_learner2(y, tX, tX_valid, n_learners=10, ratio=0.5):\n",
    "    \"\"\"\n",
    "    Supply 'n_learners' regressors with a random subset of size 'ratio' of the\n",
    "    samples. Majority vote for the prediction.\n",
    "    \"\"\"\n",
    "\n",
    "    y_pred_final = np.zeros(len(y_valid))\n",
    "    n_samples = tX.shape[0]\n",
    "\n",
    "    for i in range(n_learners):\n",
    "\n",
    "        sample_indices = np.random.choice(np.arange(n_samples), int(ratio*n_samples))\n",
    "        tX_slice = tX[sample_indices, :]\n",
    "        y_slice = y[sample_indices]\n",
    "        weights, _ = reg_logistic_regression(y_slice, tX_slice, 1, np.ones(tX_slice.shape[1], dtype=float), 100, 0.01)\n",
    "\n",
    "        y_pred = tX_valid @ weights\n",
    "        y_pred[np.where(y_pred <= 0)] = -1\n",
    "        y_pred[np.where(y_pred > 0)] = 1\n",
    "\n",
    "        y_pred_final += y_pred\n",
    "\n",
    "    y_pred_final[np.where(y_pred_final <= 0)] = -1\n",
    "    y_pred_final[np.where(y_pred_final > 0)] = 1\n",
    "\n",
    "    return y_pred_final"
   ]
  },
  {
   "cell_type": "code",
   "execution_count": 197,
   "metadata": {},
   "outputs": [
    {
     "name": "stdout",
     "output_type": "stream",
     "text": [
      "Execution time: 26.6123 sec\n",
      "F1-score achieved with 'logistic_regression': F1 =  0.4046\n"
     ]
    }
   ],
   "source": [
    "# Fitting\n",
    "start = time.time()\n",
    "y_pred = ensemble_learner2(y, tX, tX_valid, n_learners=100, ratio=0.1)\n",
    "exec_time = round(time.time()-start, 4)\n",
    "print('Execution time: {} sec'.format(exec_time))\n",
    "\n",
    "# Scoring\n",
    "f1 = f1_score_predictions(y_valid, y_pred)\n",
    "print(\"F1-score achieved with 'logistic_regression': F1 = \", f1)"
   ]
  },
  {
   "cell_type": "markdown",
   "metadata": {},
   "source": [
    "### Evaluation"
   ]
  },
  {
   "cell_type": "code",
   "execution_count": 198,
   "metadata": {},
   "outputs": [
    {
     "ename": "ValueError",
     "evalue": "shapes (200000,30) and (41,) not aligned: 30 (dim 1) != 41 (dim 0)",
     "output_type": "error",
     "traceback": [
      "\u001b[0;31m---------------------------------------------------------------------------\u001b[0m",
      "\u001b[0;31mValueError\u001b[0m                                Traceback (most recent call last)",
      "\u001b[0;32m<ipython-input-198-6ff467fad552>\u001b[0m in \u001b[0;36m<module>\u001b[0;34m\u001b[0m\n\u001b[0;32m----> 1\u001b[0;31m \u001b[0my_pred\u001b[0m \u001b[0;34m=\u001b[0m \u001b[0mpredict_labels\u001b[0m\u001b[0;34m(\u001b[0m\u001b[0mweights\u001b[0m\u001b[0;34m,\u001b[0m \u001b[0mtX_valid\u001b[0m\u001b[0;34m)\u001b[0m\u001b[0;34m\u001b[0m\u001b[0;34m\u001b[0m\u001b[0m\n\u001b[0m\u001b[1;32m      2\u001b[0m \u001b[0mconfusion_matrix\u001b[0m\u001b[0;34m(\u001b[0m\u001b[0my_valid\u001b[0m\u001b[0;34m,\u001b[0m \u001b[0my_pred\u001b[0m\u001b[0;34m)\u001b[0m\u001b[0;34m\u001b[0m\u001b[0;34m\u001b[0m\u001b[0m\n",
      "\u001b[0;32m~/Documents/EPFL/Semester1/Machine Learning/ML_project1/proj1_helpers.py\u001b[0m in \u001b[0;36mpredict_labels\u001b[0;34m(weights, data)\u001b[0m\n\u001b[1;32m     27\u001b[0m \u001b[0;32mdef\u001b[0m \u001b[0mpredict_labels\u001b[0m\u001b[0;34m(\u001b[0m\u001b[0mweights\u001b[0m\u001b[0;34m,\u001b[0m \u001b[0mdata\u001b[0m\u001b[0;34m)\u001b[0m\u001b[0;34m:\u001b[0m\u001b[0;34m\u001b[0m\u001b[0;34m\u001b[0m\u001b[0m\n\u001b[1;32m     28\u001b[0m     \u001b[0;34m\"\"\"Generates class predictions given weights, and a test data matrix\"\"\"\u001b[0m\u001b[0;34m\u001b[0m\u001b[0;34m\u001b[0m\u001b[0m\n\u001b[0;32m---> 29\u001b[0;31m     \u001b[0my_pred\u001b[0m \u001b[0;34m=\u001b[0m \u001b[0mnp\u001b[0m\u001b[0;34m.\u001b[0m\u001b[0mdot\u001b[0m\u001b[0;34m(\u001b[0m\u001b[0mdata\u001b[0m\u001b[0;34m,\u001b[0m \u001b[0mweights\u001b[0m\u001b[0;34m)\u001b[0m\u001b[0;34m\u001b[0m\u001b[0;34m\u001b[0m\u001b[0m\n\u001b[0m\u001b[1;32m     30\u001b[0m \u001b[0;34m\u001b[0m\u001b[0m\n\u001b[1;32m     31\u001b[0m     \u001b[0;31m### Maintaining the prediction ratio\u001b[0m\u001b[0;34m\u001b[0m\u001b[0;34m\u001b[0m\u001b[0;34m\u001b[0m\u001b[0m\n",
      "\u001b[0;32m<__array_function__ internals>\u001b[0m in \u001b[0;36mdot\u001b[0;34m(*args, **kwargs)\u001b[0m\n",
      "\u001b[0;31mValueError\u001b[0m: shapes (200000,30) and (41,) not aligned: 30 (dim 1) != 41 (dim 0)"
     ]
    }
   ],
   "source": [
    "y_pred = predict_labels(weights, tX_valid)\n",
    "confusion_matrix(y_valid, y_pred)"
   ]
  },
  {
   "cell_type": "markdown",
   "metadata": {},
   "source": [
    "## Lasso subgradient descent regressor"
   ]
  },
  {
   "cell_type": "code",
   "execution_count": null,
   "metadata": {},
   "outputs": [],
   "source": [
    "def lasso_SD(y, tX, initial_w, max_iters=1000, gamma=0.1, lambda_ = 0.1, threshold=None):\n",
    "\n",
    "    # Number of samples\n",
    "    N = len(y)\n",
    "\n",
    "    # Converting 1D arrays to 2D arrays\n",
    "    w = initial_w.reshape((len(initial_w), 1))\n",
    "    y = y.reshape((N, 1))\n",
    "\n",
    "    # Checking if 'tX' is a 1D array, and consequently converting to a 2D array\n",
    "    if len(tX.shape) == 1:\n",
    "\n",
    "        tX = tX.reshape((N, 1))\n",
    "\n",
    "    for iter in range(max_iters):\n",
    "\n",
    "        # Error vector\n",
    "        e = y - np.dot(tX, w)\n",
    "\n",
    "        # Subgradient for the Lasso loss function\n",
    "        subgrad = - np.dot(tX.T, e) / N + lambda_ / np.sqrt(1 + iter) * np.sign(w)\n",
    "\n",
    "        # Updating weights with negative gradient scaled by 'gamma'\n",
    "        w = w - gamma * subgrad\n",
    "\n",
    "\n",
    "    # Computing loss (MSE) for the weights in the final iteration\n",
    "    loss = np.mean(e**2) / 2\n",
    "\n",
    "    # Converting weights back to 1D arrays\n",
    "    w = w.reshape(len(w))\n",
    "\n",
    "    # Setting to zero all the entries of w under the threshold in absolute value\n",
    "    if (threshold != None):\n",
    "        w[np.absolute(w) < threshold] = 0\n",
    "\n",
    "    return w, loss"
   ]
  },
  {
   "cell_type": "code",
   "execution_count": null,
   "metadata": {},
   "outputs": [],
   "source": [
    "# Hyperparameters\n",
    "# TODO: test different values of gamma and lambda\n",
    "initial_w = np.ones(tX_train.shape[1], dtype=float)\n",
    "max_iters = 500\n",
    "gamma = 0.1\n",
    "lambda_ = 0.01\n",
    "threshold = 0.005\n",
    "\n",
    "# Fitting and scoring WITHOUT threshold\n",
    "start = time.time()\n",
    "weights, loss = lasso_SD(y_train, tX_train, initial_w, max_iters, gamma, lambda_)\n",
    "exec_time = round(time.time()-start,4)\n",
    "print('Execution time: {} sec'.format(exec_time))\n",
    "print(weights)\n",
    "print(np.sort(abs(weights)))\n",
    "\n",
    "f1 = f1_score(y_valid, tX_valid, weights)\n",
    "acc = accuracy(y_valid, tX_valid, weights)\n",
    "print(\"F1-score achieved with 'lasso_GD', no threshold: F1 = \", f1)\n",
    "print(\"Accuracy achieved with 'lasso_GD', no threshold: accuracy = \", acc, \"\\n\\n\")\n",
    "\n",
    "# Fitting and scoring WITH threshold\n",
    "start = time.time()\n",
    "weights_thresh, loss_thresh = lasso_SD(y_train, tX_train, initial_w, max_iters, gamma, lambda_, threshold)\n",
    "\n",
    "exec_time = round(time.time()-start,4)\n",
    "print('Execution time: {} sec'.format(exec_time))\n",
    "print(weights_thresh)\n",
    "f1 = f1_score(y_valid, tX_valid, weights_thresh)\n",
    "acc = accuracy(y_valid, tX_valid, weights_thresh)\n",
    "print(\"F1-score achieved with 'lasso_GD', with threshold: F1 = \", f1)\n",
    "print(\"Accuracy achieved with 'lasso_GD', with threshold: accuracy = \", acc, \"\\n\\n\")\n",
    "\n",
    "# Adding a polynomial basis of all the features\n",
    "degree = 7\n",
    "poly_tX_tr = standardize(polynomial_basis(tX_train, degree))\n",
    "poly_tX_va = standardize(polynomial_basis(tX_valid, degree))\n",
    "initial_w = np.zeros(poly_tX_tr.shape[1])\n",
    "\n",
    "start = time.time()\n",
    "weights_poly, loss_poly = lasso_SD(y_train, poly_tX_tr, initial_w, max_iters, gamma, lambda_)\n",
    "exec_time = round(time.time()-start,4)\n",
    "print('Execution time: {} sec'.format(exec_time))\n",
    "#print(weights_poly)\n",
    "f1 = f1_score(y_valid, poly_tX_va, weights_poly)\n",
    "acc = accuracy(y_valid, poly_tX_va, weights_poly)\n",
    "print(\"F1-score achieved with 'lasso_GD', polynomial basis: F1 = \", f1)\n",
    "print(\"Accuracy achieved with 'lasso_GD', polynomial basis: accuracy = \", acc)\n",
    "\n"
   ]
  },
  {
   "cell_type": "markdown",
   "metadata": {},
   "source": [
    "## Mean Absolute Error subgradient regressor"
   ]
  },
  {
   "cell_type": "code",
   "execution_count": null,
   "metadata": {},
   "outputs": [],
   "source": [
    "def absolute_SD(y, tX, initial_w, max_iters=100, gamma=0.1):\n",
    "\n",
    "    # Number of samples\n",
    "    N = len(y)\n",
    "\n",
    "    # Converting 1D arrays to 2D arrays\n",
    "    w = initial_w.reshape((len(initial_w), 1))\n",
    "    y = y.reshape((N, 1))\n",
    "\n",
    "    # Checking if 'tX' is a 1D array, and consequently converting to a 2D array\n",
    "    if len(tX.shape) == 1:\n",
    "\n",
    "        tX = tX.reshape((N, 1))\n",
    "\n",
    "    for iter in range(max_iters):\n",
    "\n",
    "        # Error vector\n",
    "        e = y - np.dot(tX, w)\n",
    "\n",
    "        # Subgradient for the MAE loss function\n",
    "        subgrad = - np.dot(tX.T, np.sign(e)) / N\n",
    "\n",
    "        # Updating weights with negative gradient scaled by 'gamma'\n",
    "        w = w - gamma * subgrad\n",
    "\n",
    "\n",
    "    # Computing loss (MSE) for the weights in the final iteration\n",
    "    loss = np.mean(np.abs(e))\n",
    "\n",
    "    # Converting weights back to 1D arrays\n",
    "    w = w.reshape(len(w))\n",
    "\n",
    "    return w, loss"
   ]
  }
 ],
 "metadata": {
  "anaconda-cloud": {},
  "interpreter": {
   "hash": "fb487646d2ff43bdda56d3757f53914077f9958e378e2f12b27b72e0e80564a5"
  },
  "kernelspec": {
   "display_name": "Python 3.8.8 64-bit ('base': conda)",
   "name": "python3"
  },
  "language_info": {
   "codemirror_mode": {
    "name": "ipython",
    "version": 3
   },
   "file_extension": ".py",
   "mimetype": "text/x-python",
   "name": "python",
   "nbconvert_exporter": "python",
   "pygments_lexer": "ipython3",
   "version": "3.8.8"
  }
 },
 "nbformat": 4,
 "nbformat_minor": 2
}
