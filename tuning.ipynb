{
 "cells": [
  {
   "cell_type": "markdown",
   "metadata": {},
   "source": [
    "# Parameter tuning "
   ]
  },
  {
   "cell_type": "code",
   "execution_count": 1,
   "metadata": {},
   "outputs": [],
   "source": [
    "# Useful starting lines\n",
    "%matplotlib inline\n",
    "import numpy as np\n",
    "import matplotlib.pyplot as plt\n",
    "import time\n",
    "%load_ext autoreload\n",
    "%autoreload 2\n",
    "from proj1_helpers import *\n",
    "from implementations import *\n",
    "\n",
    "# Loading the training data\n",
    "y, tX, ids = load_csv_data('data/train.csv')"
   ]
  },
  {
   "cell_type": "markdown",
   "metadata": {},
   "source": [
    "## Scoring"
   ]
  },
  {
   "cell_type": "code",
   "execution_count": null,
   "metadata": {},
   "outputs": [],
   "source": [
    "def f1_score(y_valid, tX_valid, weights):\n",
    "    \"\"\"\n",
    "    Return the F1-score achieved with the predictions of a validation set\n",
    "\n",
    "    Parameters\n",
    "    ----------\n",
    "    y_valid : np.ndarray\n",
    "        Vector with the validation labels.\n",
    "    tX_valid : np.ndarray\n",
    "        Array with the validation samples as rows and the features as columns.\n",
    "    weights : np.ndarray\n",
    "        Vector containing the weights.\n",
    "\n",
    "    Returns\n",
    "    -------\n",
    "    f1 : float\n",
    "        F1-score for this configuration (the closer to 1 the better)\n",
    "\n",
    "    References\n",
    "    ----------\n",
    "    [1] Wikipedia entry for 'Precision and recall'\n",
    "        https://en.wikipedia.org/wiki/Precision_and_recall\n",
    "    [2] Wikipedia entry for 'F-score'\n",
    "        https://en.wikipedia.org/wiki/F-score\n",
    "\n",
    "    \"\"\"\n",
    "\n",
    "    y_pred = predict_labels(weights, tX_valid) # Obtaining the predictions\n",
    "\n",
    "    # Calculating number of true positives, false positives, and false negatives\n",
    "    num_tp = np.sum((y_valid == 1) & (y_pred == 1))\n",
    "    num_fp = np.sum((y_valid == -1) & (y_pred == 1))\n",
    "    num_fn = np.sum((y_valid == 1) & (y_pred == -1))\n",
    "    precision = num_tp / (num_tp + num_fp)\n",
    "    recall = num_tp / (num_tp + num_fn)\n",
    "    f1 = np.round(2 * precision * recall / (precision + recall), 4)\n",
    "    return f1"
   ]
  },
  {
   "cell_type": "code",
   "execution_count": null,
   "metadata": {},
   "outputs": [],
   "source": [
    "def accuracy(y_valid, tX_valid, weights):\n",
    "    \"\"\"\n",
    "    Return the accuracy achieved with the predictions of a validation set\n",
    "\n",
    "    Parameters\n",
    "    ----------\n",
    "    y_valid : np.ndarray\n",
    "        Vector with the validation labels.\n",
    "    tX_valid : np.ndarray\n",
    "        Array with the validation samples as rows and the features as columns.\n",
    "    weights : np.ndarray\n",
    "        Vector containing the weights.\n",
    "\n",
    "    Returns\n",
    "    -------\n",
    "    acc : float\n",
    "        Accuracy for this configuration (the closer to 1 the better)\n",
    "\n",
    "    References\n",
    "    ----------\n",
    "    [3] Wikipedia entry for 'Accuracy and precision'\n",
    "        https://en.wikipedia.org/wiki/Accuracy_and_precision\n",
    "\n",
    "    \"\"\"\n",
    "\n",
    "    y_pred = predict_labels(weights, tX_valid) # Obtaining the predictions\n",
    "    num_tp_tn = np.sum(y_valid == y_pred) # Calculating number of true positives and negatives\n",
    "    acc = np.round(num_tp_tn / len(y_valid), 4)\n",
    "    return acc"
   ]
  },
  {
   "cell_type": "markdown",
   "metadata": {},
   "source": [
    "## Cross validation"
   ]
  },
  {
   "cell_type": "code",
   "execution_count": null,
   "metadata": {},
   "outputs": [],
   "source": [
    "def cross_validate(regressor, y, tX, param, k_fold, score='f1'):    \n",
    "    \"\"\"\n",
    "    'k_fold' cross validate a regressor with parameters 'param', data '(y, TX)' \n",
    "    and score the predictions with 'score'\n",
    "\n",
    "    Parameters\n",
    "    ----------\n",
    "    regressor : String\n",
    "        String that defines which regressor to use\n",
    "    y : np.ndarray\n",
    "        Vector with the labels.\n",
    "    tX : np.ndarray\n",
    "        Array with the samples as rows and the features as columns.\n",
    "    param : np.ndarray\n",
    "        Parameters on weight, gamma and max_iterations\n",
    "    k_fold : Integer\n",
    "        Integer that defines how many folds to make\n",
    "    score : float\n",
    "        Float of a given performance score (e.g. f1)\n",
    "\n",
    "    Returns\n",
    "    -------\n",
    "    mean : float\n",
    "    std : float\n",
    "\n",
    "    \"\"\"\n",
    "\n",
    "    fold_size = int(len(y) / k_fold)\n",
    "    scores = []\n",
    "    rand_ind = np.random.permutation(np.arange(len(y)))\n",
    "    for k in range(k_fold):\n",
    "        valid_ind = rand_ind[k*fold_size:(k+1)*fold_size] # Splitting data set into validation and training set (for current fold)\n",
    "        tX_train, y_train = tX[valid_ind], y[valid_ind]\n",
    "        tX_valid, y_valid = np.delete(tX, valid_ind, axis=0), np.delete(y, valid_ind, axis=0)\n",
    "        weights, _ = eval(regressor)(y_train, tX_train, **param) # Fitting/scoring regressor with the tarining/validation set\n",
    "        if score == 'f1': # Scoring according to the scoring criterion\n",
    "            scores.append(f1_score(y_valid, tX_valid, weights))\n",
    "        else:\n",
    "            scores.append(accuracy(y_valid, tX_valid, weights))\n",
    "    return np.mean(scores), np.std(scores, ddof=1)"
   ]
  },
  {
   "cell_type": "code",
   "execution_count": null,
   "metadata": {},
   "outputs": [],
   "source": [
    "def best_parameters(regressor, y, tX, params, k_fold, score):\n",
    "    \n",
    "    \"\"\"\n",
    "    Find best parameters from a list of parameters with k_fold cross validation.\n",
    "\n",
    "    Parameters\n",
    "    ----------\n",
    "    regressor : String\n",
    "        String that defines which regressor to use\n",
    "    y : np.ndarray\n",
    "        Vector with the labels.\n",
    "    tX : np.ndarray\n",
    "        Array with the samples as rows and the features as columns.\n",
    "    param : np.ndarray\n",
    "        Parameters on weight, gamma and max_iterations\n",
    "    k_fold : Integer\n",
    "        Integer that defines how many folds to make\n",
    "    score : float\n",
    "        Float of a given performance score (e.g. f1)\n",
    "\n",
    "    \"\"\"\n",
    "\n",
    "    max_std_score = 0.0\n",
    "    max_mean_score = 0.0\n",
    "    max_param = {}\n",
    "    for param in params:\n",
    "        mean_score, std_score = cross_validate(regressor, y, tX, param, k_fold, score)\n",
    "        if mean_score > max_mean_score: # Checking for the best score\n",
    "            max_mean_score = mean_score\n",
    "            max_std_score = std_score\n",
    "            max_param = param\n",
    "    print(\"Best parameter set for '\", regressor, \"' was:\")\n",
    "    print(\"param = \", max_param)\n",
    "    print(\"Mean \", score, \" score: \", max_mean_score, \" +/- \", max_std_score)"
   ]
  },
  {
   "cell_type": "markdown",
   "metadata": {},
   "source": [
    "## Configurations"
   ]
  }
 ],
 "metadata": {
  "interpreter": {
   "hash": "fb487646d2ff43bdda56d3757f53914077f9958e378e2f12b27b72e0e80564a5"
  },
  "kernelspec": {
   "display_name": "Python 3.8.8 64-bit ('base': conda)",
   "name": "python3"
  },
  "language_info": {
   "codemirror_mode": {
    "name": "ipython",
    "version": 3
   },
   "file_extension": ".py",
   "mimetype": "text/x-python",
   "name": "python",
   "nbconvert_exporter": "python",
   "pygments_lexer": "ipython3",
   "version": "3.8.8"
  },
  "orig_nbformat": 4
 },
 "nbformat": 4,
 "nbformat_minor": 2
}
