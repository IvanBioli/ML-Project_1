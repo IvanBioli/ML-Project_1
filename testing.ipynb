{
 "cells": [
  {
   "cell_type": "code",
   "execution_count": 1,
   "metadata": {},
   "outputs": [],
   "source": [
    "import numpy as np\n",
    "import datetime\n",
    "from proj1_helpers import *\n",
    "from implementations import *\n",
    "\n",
    "\n",
    "y, tX, _ = load_csv_data('data/train.csv')\n",
    "tX = standardize(tX)"
   ]
  },
  {
   "cell_type": "code",
   "execution_count": 12,
   "metadata": {},
   "outputs": [
    {
     "ename": "ValueError",
     "evalue": "shapes (2,4) and (30,1) not aligned: 4 (dim 1) != 30 (dim 0)",
     "output_type": "error",
     "traceback": [
      "\u001b[1;31m---------------------------------------------------------------------------\u001b[0m",
      "\u001b[1;31mValueError\u001b[0m                                Traceback (most recent call last)",
      "\u001b[1;32m<ipython-input-12-5d0e5d062c43>\u001b[0m in \u001b[0;36m<module>\u001b[1;34m\u001b[0m\n\u001b[0;32m      7\u001b[0m \u001b[1;31m# Start SGD.\u001b[0m\u001b[1;33m\u001b[0m\u001b[1;33m\u001b[0m\u001b[1;33m\u001b[0m\u001b[0m\n\u001b[0;32m      8\u001b[0m \u001b[0mstart_time\u001b[0m \u001b[1;33m=\u001b[0m \u001b[0mdatetime\u001b[0m\u001b[1;33m.\u001b[0m\u001b[0mdatetime\u001b[0m\u001b[1;33m.\u001b[0m\u001b[0mnow\u001b[0m\u001b[1;33m(\u001b[0m\u001b[1;33m)\u001b[0m\u001b[1;33m\u001b[0m\u001b[1;33m\u001b[0m\u001b[0m\n\u001b[1;32m----> 9\u001b[1;33m \u001b[0mweights\u001b[0m\u001b[1;33m,\u001b[0m \u001b[0mloss\u001b[0m \u001b[1;33m=\u001b[0m \u001b[0mleast_squares_GD\u001b[0m\u001b[1;33m(\u001b[0m\u001b[0my\u001b[0m\u001b[1;33m,\u001b[0m \u001b[0mtX\u001b[0m\u001b[1;33m,\u001b[0m \u001b[0minitial_w\u001b[0m\u001b[1;33m,\u001b[0m \u001b[0mmax_iters\u001b[0m\u001b[1;33m,\u001b[0m \u001b[0mgamma\u001b[0m\u001b[1;33m)\u001b[0m\u001b[1;33m\u001b[0m\u001b[1;33m\u001b[0m\u001b[0m\n\u001b[0m\u001b[0;32m     10\u001b[0m \u001b[0mend_time\u001b[0m \u001b[1;33m=\u001b[0m \u001b[0mdatetime\u001b[0m\u001b[1;33m.\u001b[0m\u001b[0mdatetime\u001b[0m\u001b[1;33m.\u001b[0m\u001b[0mnow\u001b[0m\u001b[1;33m(\u001b[0m\u001b[1;33m)\u001b[0m\u001b[1;33m\u001b[0m\u001b[1;33m\u001b[0m\u001b[0m\n\u001b[0;32m     11\u001b[0m \u001b[0mexection_time\u001b[0m \u001b[1;33m=\u001b[0m \u001b[1;33m(\u001b[0m\u001b[0mend_time\u001b[0m \u001b[1;33m-\u001b[0m \u001b[0mstart_time\u001b[0m\u001b[1;33m)\u001b[0m\u001b[1;33m.\u001b[0m\u001b[0mtotal_seconds\u001b[0m\u001b[1;33m(\u001b[0m\u001b[1;33m)\u001b[0m\u001b[1;33m\u001b[0m\u001b[1;33m\u001b[0m\u001b[0m\n",
      "\u001b[1;32mc:\\Users\\ivanb\\Documents\\GitHub\\ML_project1\\implementations.py\u001b[0m in \u001b[0;36mleast_squares_GD\u001b[1;34m(y, tX, initial_w, max_iters, gamma, tol)\u001b[0m\n\u001b[0;32m    334\u001b[0m \u001b[1;33m\u001b[0m\u001b[0m\n\u001b[0;32m    335\u001b[0m         \u001b[1;31m# Error vector\u001b[0m\u001b[1;33m\u001b[0m\u001b[1;33m\u001b[0m\u001b[1;33m\u001b[0m\u001b[0m\n\u001b[1;32m--> 336\u001b[1;33m         \u001b[0me\u001b[0m \u001b[1;33m=\u001b[0m \u001b[0my\u001b[0m \u001b[1;33m-\u001b[0m \u001b[0mnp\u001b[0m\u001b[1;33m.\u001b[0m\u001b[0mdot\u001b[0m\u001b[1;33m(\u001b[0m\u001b[0mtX\u001b[0m\u001b[1;33m,\u001b[0m \u001b[0mw\u001b[0m\u001b[1;33m)\u001b[0m\u001b[1;33m\u001b[0m\u001b[1;33m\u001b[0m\u001b[0m\n\u001b[0m\u001b[0;32m    337\u001b[0m \u001b[1;33m\u001b[0m\u001b[0m\n\u001b[0;32m    338\u001b[0m         \u001b[1;31m# Gradient for MSE loss\u001b[0m\u001b[1;33m\u001b[0m\u001b[1;33m\u001b[0m\u001b[1;33m\u001b[0m\u001b[0m\n",
      "\u001b[1;32m<__array_function__ internals>\u001b[0m in \u001b[0;36mdot\u001b[1;34m(*args, **kwargs)\u001b[0m\n",
      "\u001b[1;31mValueError\u001b[0m: shapes (2,4) and (30,1) not aligned: 4 (dim 1) != 30 (dim 0)"
     ]
    }
   ],
   "source": [
    "lambda_ = 0.1\n",
    "initial_w = np.ones(30, dtype=float)\n",
    "gamma = 0.1\n",
    "max_iters = 100\n",
    "max_iters_SGD = 200000\n",
    "\n",
    "# Start SGD.\n",
    "start_time = datetime.datetime.now()\n",
    "weights, loss = least_squares_GD(y, tX, initial_w, max_iters, gamma)\n",
    "end_time = datetime.datetime.now()\n",
    "exection_time = (end_time - start_time).total_seconds()\n",
    "print(\"least_squares_GD: execution time={t:.3f} seconds\".format(t=exection_time))\n",
    "print(\"least_squares_GD: loss={t:.6f}\".format(t=loss))\n",
    "\n",
    "start_time = datetime.datetime.now()\n",
    "weights, loss = least_squares_SGD(y, tX, initial_w, max_iters_SGD, gamma)\n",
    "end_time = datetime.datetime.now()\n",
    "exection_time = (end_time - start_time).total_seconds()\n",
    "print(\"least_squares_SGD: execution time={t:.3f} seconds\".format(t=exection_time))\n",
    "print(\"least_squares_SGD: loss={t:.6f}\".format(t=loss))\n",
    "\n",
    "start_time = datetime.datetime.now()\n",
    "weights, loss = least_squares(y, tX)\n",
    "end_time = datetime.datetime.now()\n",
    "exection_time = (end_time - start_time).total_seconds()\n",
    "print(\"least_squares: execution time={t:.3f} seconds\".format(t=exection_time))\n",
    "print(\"least_squares: loss={t:.6f}\".format(t=loss))\n",
    "weights, loss = least_squares_SGD(y, tX, initial_w, max_iters_SGD, gamma)\n",
    "\n",
    "start_time = datetime.datetime.now()\n",
    "weights, loss = ridge_regression(y, tX, lambda_)\n",
    "end_time = datetime.datetime.now()\n",
    "exection_time = (end_time - start_time).total_seconds()\n",
    "print(\"ridge_regression: execution time={t:.3f} seconds\".format(t=exection_time))\n",
    "print(\"ridge_regression: loss={t:.6f}\".format(t=loss))"
   ]
  },
  {
   "cell_type": "code",
   "execution_count": 16,
   "metadata": {},
   "outputs": [],
   "source": [
    "def polynomial_basis_indices(tX, degrees, indices = np.arange(tX.shape[1]), std=False):\n",
    "    \"\"\"\n",
    "    Creates a polynomial basis from tX.\n",
    "\n",
    "    Parameters\n",
    "    ----------\n",
    "    tX : np.ndarray\n",
    "        Array with the samples as rows and the features as columns.\n",
    "    degrees : list or int\n",
    "        List (or int) with the polynomial degrees (or maximum polynomial degree)\n",
    "        that should be used as basis elements.\n",
    "    indices : TODO\n",
    "    \n",
    "    std : bool, default=False\n",
    "        Standardize features of each polynomial basis element.\n",
    "\n",
    "    Returns\n",
    "    -------\n",
    "    tX_poly : np.ndarray\n",
    "        tX in a polynomial basis.\n",
    "\n",
    "    Notes\n",
    "    -----\n",
    "    The degree 0 is the offset-vector containing just ones. When passing the\n",
    "    maximum polynomial degree as an integer as 'degrees=max_degree', this\n",
    "    offset-vector is automatically added to tX. If you don't want it included,\n",
    "    pass 'degrees=range(1, max_degree + 1)' instead.\n",
    "\n",
    "    Usage\n",
    "    -----\n",
    "    >>> tX = np.array([1, 2, 3, 4])\n",
    "    >>> tX_poly = polynomial_basis(tX, [0, 1, 2])\n",
    "    >>> print(tX_poly)\n",
    "    [[ 1.  1.  1.]\n",
    "     [ 1.  2.  4.]\n",
    "     [ 1.  3.  9.]\n",
    "     [ 1.  4. 16.]]\n",
    "\n",
    "    >>> ttX = np.arange(10).reshape((2, 5))\n",
    "    >>> tX_poly = polynomial_basis_indices(tX, 2, [1, 2])\n",
    "    >>> print(tX_poly)\n",
    "    [[ 1.  0.  1.  2.  3.  4.  1.  4.]\n",
    "    [ 1.  5.  6.  7.  8.  9. 36. 49.]]\n",
    "\n",
    "    \"\"\"\n",
    "\n",
    "    # Checking if integer was passed as 'degrees', and converting it to a list\n",
    "    if isinstance(degrees, int):\n",
    "\n",
    "        degrees = range(degrees + 1)\n",
    "\n",
    "    # Always including the original features (degree 1) as a basis-element\n",
    "    if std:\n",
    "\n",
    "        tX_poly = standardize(tX)\n",
    "\n",
    "    else:\n",
    "\n",
    "        tX_poly = tX\n",
    "\n",
    "    for deg in degrees:\n",
    "\n",
    "        # Treating degree zero separately to avoid duplicated columns\n",
    "        if deg == 0:\n",
    "\n",
    "            tX_poly = np.column_stack((np.ones(tX.shape[0]), tX_poly))\n",
    "\n",
    "        elif deg > 1:\n",
    "\n",
    "            if std:\n",
    "\n",
    "                tX_poly = np.column_stack((tX_poly, standardize(tX[:, indices]**deg)))\n",
    "\n",
    "            else:\n",
    "\n",
    "                tX_poly = np.column_stack((tX_poly, tX[:, indices]**deg))\n",
    "\n",
    "    return tX_poly"
   ]
  },
  {
   "cell_type": "code",
   "execution_count": 23,
   "metadata": {},
   "outputs": [
    {
     "name": "stdout",
     "output_type": "stream",
     "text": [
      "[[ 1.  0.  1.  2.  3.  4.  1.  4.]\n",
      " [ 1.  5.  6.  7.  8.  9. 36. 49.]]\n"
     ]
    }
   ],
   "source": [
    "tX = np.arange(10).reshape((2, 5))\n",
    "tX_poly = polynomial_basis_indices(tX, 2, [1, 2])\n",
    "print(tX_poly)"
   ]
  }
 ],
 "metadata": {
  "interpreter": {
   "hash": "3b0b34ccdd8de53604efd8adf53a77b01ed12e4d4bc749635618aa3bfa08aa5f"
  },
  "kernelspec": {
   "display_name": "Python 3.8.8 64-bit ('base': conda)",
   "name": "python3"
  },
  "language_info": {
   "codemirror_mode": {
    "name": "ipython",
    "version": 3
   },
   "file_extension": ".py",
   "mimetype": "text/x-python",
   "name": "python",
   "nbconvert_exporter": "python",
   "pygments_lexer": "ipython3",
   "version": "3.8.8"
  }
 },
 "nbformat": 4,
 "nbformat_minor": 2
}
