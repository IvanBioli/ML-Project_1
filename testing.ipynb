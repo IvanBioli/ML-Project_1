{
 "cells": [
  {
   "cell_type": "code",
   "execution_count": 19,
   "metadata": {},
   "outputs": [],
   "source": [
    "import numpy as np\n",
    "import datetime\n",
    "from proj1_helpers import *\n",
    "from implementations import *\n",
    "\n",
    "\n",
    "y, tX, _ = load_csv_data('data/train.csv')\n",
    "tX = standardize(tX)"
   ]
  },
  {
   "cell_type": "code",
   "execution_count": 24,
   "metadata": {},
   "outputs": [
    {
     "name": "stdout",
     "output_type": "stream",
     "text": [
      "least_squares_GD: execution time=0.932 seconds\n",
      "least_squares_GD: loss=0.394795\n",
      "least_squares_SGD: execution time=1.104 seconds\n",
      "least_squares_SGD: loss=21.731335\n",
      "least_squares: execution time=0.016 seconds\n",
      "least_squares: loss=0.388952\n",
      "ridge_regression: execution time=0.015 seconds\n",
      "ridge_regression: loss=0.402649\n"
     ]
    }
   ],
   "source": [
    "lambda_ = 0.1\n",
    "initial_w = np.ones(30, dtype=float)\n",
    "gamma = 0.1\n",
    "max_iters = 100\n",
    "max_iters_SGD = 200000\n",
    "\n",
    "# Start SGD.\n",
    "start_time = datetime.datetime.now()\n",
    "weights, loss = least_squares_GD(y, tX, initial_w, max_iters, gamma)\n",
    "end_time = datetime.datetime.now()\n",
    "exection_time = (end_time - start_time).total_seconds()\n",
    "print(\"least_squares_GD: execution time={t:.3f} seconds\".format(t=exection_time))\n",
    "print(\"least_squares_GD: loss={t:.6f}\".format(t=loss))\n",
    "\n",
    "start_time = datetime.datetime.now()\n",
    "weights, loss = least_squares_SGD(y, tX, initial_w, max_iters_SGD, gamma)\n",
    "end_time = datetime.datetime.now()\n",
    "exection_time = (end_time - start_time).total_seconds()\n",
    "print(\"least_squares_SGD: execution time={t:.3f} seconds\".format(t=exection_time))\n",
    "print(\"least_squares_SGD: loss={t:.6f}\".format(t=loss))\n",
    "\n",
    "start_time = datetime.datetime.now()\n",
    "weights, loss = least_squares(y, tX)\n",
    "end_time = datetime.datetime.now()\n",
    "exection_time = (end_time - start_time).total_seconds()\n",
    "print(\"least_squares: execution time={t:.3f} seconds\".format(t=exection_time))\n",
    "print(\"least_squares: loss={t:.6f}\".format(t=loss))\n",
    "weights, loss = least_squares_SGD(y, tX, initial_w, max_iters_SGD, gamma)\n",
    "\n",
    "start_time = datetime.datetime.now()\n",
    "weights, loss = ridge_regression(y, tX, lambda_)\n",
    "end_time = datetime.datetime.now()\n",
    "exection_time = (end_time - start_time).total_seconds()\n",
    "print(\"ridge_regression: execution time={t:.3f} seconds\".format(t=exection_time))\n",
    "print(\"ridge_regression: loss={t:.6f}\".format(t=loss))"
   ]
  }
 ],
 "metadata": {
  "interpreter": {
   "hash": "3b0b34ccdd8de53604efd8adf53a77b01ed12e4d4bc749635618aa3bfa08aa5f"
  },
  "kernelspec": {
   "display_name": "Python 3.8.8 64-bit ('base': conda)",
   "name": "python3"
  },
  "language_info": {
   "codemirror_mode": {
    "name": "ipython",
    "version": 3
   },
   "file_extension": ".py",
   "mimetype": "text/x-python",
   "name": "python",
   "nbconvert_exporter": "python",
   "pygments_lexer": "ipython3",
   "version": "3.8.8"
  },
  "orig_nbformat": 4
 },
 "nbformat": 4,
 "nbformat_minor": 2
}
